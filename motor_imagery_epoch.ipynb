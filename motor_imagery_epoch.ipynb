{
  "cells": [
    {
      "cell_type": "markdown",
      "metadata": {
        "id": "xgdH4QWHulUz"
      },
      "source": [
        "# Importing packages"
      ]
    },
    {
      "cell_type": "code",
      "execution_count": 1,
      "metadata": {
        "colab": {
          "base_uri": "https://localhost:8080/"
        },
        "id": "vA3H342ptnzP",
        "outputId": "f2944214-1af5-429f-cddc-9d54fa826d93"
      },
      "outputs": [],
      "source": [
        "# !pip install mne"
      ]
    },
    {
      "cell_type": "code",
      "execution_count": 2,
      "metadata": {
        "colab": {
          "base_uri": "https://localhost:8080/"
        },
        "id": "nI3ejojr869-",
        "outputId": "aa5df038-44bb-4370-d0dc-d9858016d78d"
      },
      "outputs": [],
      "source": [
        "# !pip install pyxdf"
      ]
    },
    {
      "cell_type": "code",
      "execution_count": 3,
      "metadata": {
        "id": "xiCKgVOiuiZB"
      },
      "outputs": [],
      "source": [
        "import numpy as np # linear algebra\n",
        "import pandas as pd # data processing, CSV file I/O (e.g. pd.read_csv)\n",
        "import mne\n",
        "import pyxdf\n",
        "import glob\n",
        "import os"
      ]
    },
    {
      "cell_type": "code",
      "execution_count": null,
      "metadata": {
        "id": "vefLh0o2ukU2"
      },
      "outputs": [],
      "source": [
        "import warnings\n",
        "warnings.filterwarnings('ignore') # to ignore warnings"
      ]
    },
    {
      "cell_type": "code",
      "execution_count": 4,
      "metadata": {
        "id": "AczJm-EVKkcq"
      },
      "outputs": [],
      "source": [
        "verbose = False                    # global variable to suppress output display of MNE functions\n",
        "mne.set_log_level(verbose=verbose) # to suppress large info outputs"
      ]
    },
    {
      "cell_type": "code",
      "execution_count": 10,
      "metadata": {},
      "outputs": [],
      "source": [
        "from xdf import *"
      ]
    },
    {
      "cell_type": "markdown",
      "metadata": {
        "id": "qYSAnVtxusG5"
      },
      "source": [
        "# Data Loading"
      ]
    },
    {
      "cell_type": "code",
      "execution_count": 5,
      "metadata": {
        "colab": {
          "base_uri": "https://localhost:8080/"
        },
        "id": "xli8Ve2Mu4mP",
        "outputId": "32a64295-4883-4877-9960-1ba462ca86c2"
      },
      "outputs": [],
      "source": [
        "# from google.colab import drive\n",
        "# drive.mount('/content/drive')"
      ]
    },
    {
      "cell_type": "code",
      "execution_count": 6,
      "metadata": {
        "id": "YkE9AxdIPZx3"
      },
      "outputs": [],
      "source": [
        "magdy_data_path = \"magdy\\sub-magdy\\ses-S001\\eeg\"\n",
        "folder_path = magdy_data_path"
      ]
    },
    {
      "cell_type": "code",
      "execution_count": 7,
      "metadata": {
        "colab": {
          "base_uri": "https://localhost:8080/"
        },
        "id": "An9w6_p5PUVe",
        "outputId": "7c13d37d-c35c-4980-c883-3c38af571f7e"
      },
      "outputs": [
        {
          "data": {
            "text/plain": [
              "80"
            ]
          },
          "execution_count": 7,
          "metadata": {},
          "output_type": "execute_result"
        }
      ],
      "source": [
        "all_files   = glob.glob(folder_path + '/*eeg.xdf')\n",
        "len(all_files)     # if  return zero,then no file is loaded"
      ]
    },
    {
      "cell_type": "markdown",
      "metadata": {},
      "source": [
        "# Using our XDF class"
      ]
    },
    {
      "cell_type": "code",
      "execution_count": 16,
      "metadata": {},
      "outputs": [
        {
          "ename": "ValueError",
          "evalue": "Shape of passed values is (4005, 9), indices imply (4005, 49)",
          "output_type": "error",
          "traceback": [
            "\u001b[1;31m---------------------------------------------------------------------------\u001b[0m",
            "\u001b[1;31mValueError\u001b[0m                                Traceback (most recent call last)",
            "Cell \u001b[1;32mIn[16], line 4\u001b[0m\n\u001b[0;32m      1\u001b[0m \u001b[38;5;28;01mfrom\u001b[39;00m \u001b[38;5;21;01mxdf\u001b[39;00m \u001b[38;5;28;01mimport\u001b[39;00m \u001b[38;5;241m*\u001b[39m\n\u001b[0;32m      3\u001b[0m \u001b[38;5;66;03m# file = Xdf('BCI Data\\sub-Anwar\\ses-S001\\eeg\\sub-Anwar_ses-S001_task-Baseline_run-002_eeg.xdf')\u001b[39;00m\n\u001b[1;32m----> 4\u001b[0m file \u001b[38;5;241m=\u001b[39m \u001b[43mXdf\u001b[49m\u001b[43m(\u001b[49m\u001b[38;5;124;43m'\u001b[39;49m\u001b[38;5;124;43mmagdy\u001b[39;49m\u001b[38;5;124;43m\\\u001b[39;49m\u001b[38;5;124;43msub-magdy\u001b[39;49m\u001b[38;5;124;43m\\\u001b[39;49m\u001b[38;5;124;43mses-S001\u001b[39;49m\u001b[38;5;124;43m\\\u001b[39;49m\u001b[38;5;124;43meeg\u001b[39;49m\u001b[38;5;124;43m\\\u001b[39;49m\u001b[38;5;124;43msub-magdy_ses-S001_task-Right Release_run-003_eeg.xdf\u001b[39;49m\u001b[38;5;124;43m'\u001b[39;49m\u001b[43m)\u001b[49m\n",
            "File \u001b[1;32me:\\BCI\\GP Repos\\BCI-Graduation-Project\\xdf.py:39\u001b[0m, in \u001b[0;36mXdf.__init__\u001b[1;34m(self, path)\u001b[0m\n\u001b[0;32m     37\u001b[0m \u001b[38;5;28mself\u001b[39m\u001b[38;5;241m.\u001b[39m__time_stamps \u001b[38;5;241m=\u001b[39m \u001b[38;5;28mself\u001b[39m\u001b[38;5;241m.\u001b[39m__data[\u001b[38;5;241m0\u001b[39m][\u001b[38;5;124m'\u001b[39m\u001b[38;5;124mtime_stamps\u001b[39m\u001b[38;5;124m'\u001b[39m]\n\u001b[0;32m     38\u001b[0m \u001b[38;5;28mself\u001b[39m\u001b[38;5;241m.\u001b[39m__session_time \u001b[38;5;241m=\u001b[39m \u001b[38;5;28mself\u001b[39m\u001b[38;5;241m.\u001b[39m__time_stamps[\u001b[38;5;241m-\u001b[39m\u001b[38;5;241m1\u001b[39m] \u001b[38;5;241m-\u001b[39m \u001b[38;5;28mself\u001b[39m\u001b[38;5;241m.\u001b[39m__time_stamps[\u001b[38;5;241m0\u001b[39m]\n\u001b[1;32m---> 39\u001b[0m \u001b[38;5;28mself\u001b[39m\u001b[38;5;241m.\u001b[39m__df \u001b[38;5;241m=\u001b[39m \u001b[43mpd\u001b[49m\u001b[38;5;241;43m.\u001b[39;49m\u001b[43mDataFrame\u001b[49m\u001b[43m(\u001b[49m\u001b[38;5;28;43mself\u001b[39;49m\u001b[38;5;241;43m.\u001b[39;49m\u001b[43m__eeg_data\u001b[49m\u001b[43m,\u001b[49m\u001b[43m \u001b[49m\u001b[43mcolumns\u001b[49m\u001b[38;5;241;43m=\u001b[39;49m\u001b[38;5;28;43mself\u001b[39;49m\u001b[38;5;241;43m.\u001b[39;49m\u001b[43m__channel_names\u001b[49m\u001b[43m)\u001b[49m\n",
            "File \u001b[1;32mc:\\Users\\Omar Saad\\AppData\\Local\\Programs\\Python\\Python311\\Lib\\site-packages\\pandas\\core\\frame.py:816\u001b[0m, in \u001b[0;36mDataFrame.__init__\u001b[1;34m(self, data, index, columns, dtype, copy)\u001b[0m\n\u001b[0;32m    805\u001b[0m         mgr \u001b[38;5;241m=\u001b[39m dict_to_mgr(\n\u001b[0;32m    806\u001b[0m             \u001b[38;5;66;03m# error: Item \"ndarray\" of \"Union[ndarray, Series, Index]\" has no\u001b[39;00m\n\u001b[0;32m    807\u001b[0m             \u001b[38;5;66;03m# attribute \"name\"\u001b[39;00m\n\u001b[1;32m   (...)\u001b[0m\n\u001b[0;32m    813\u001b[0m             copy\u001b[38;5;241m=\u001b[39m_copy,\n\u001b[0;32m    814\u001b[0m         )\n\u001b[0;32m    815\u001b[0m     \u001b[38;5;28;01melse\u001b[39;00m:\n\u001b[1;32m--> 816\u001b[0m         mgr \u001b[38;5;241m=\u001b[39m \u001b[43mndarray_to_mgr\u001b[49m\u001b[43m(\u001b[49m\n\u001b[0;32m    817\u001b[0m \u001b[43m            \u001b[49m\u001b[43mdata\u001b[49m\u001b[43m,\u001b[49m\n\u001b[0;32m    818\u001b[0m \u001b[43m            \u001b[49m\u001b[43mindex\u001b[49m\u001b[43m,\u001b[49m\n\u001b[0;32m    819\u001b[0m \u001b[43m            \u001b[49m\u001b[43mcolumns\u001b[49m\u001b[43m,\u001b[49m\n\u001b[0;32m    820\u001b[0m \u001b[43m            \u001b[49m\u001b[43mdtype\u001b[49m\u001b[38;5;241;43m=\u001b[39;49m\u001b[43mdtype\u001b[49m\u001b[43m,\u001b[49m\n\u001b[0;32m    821\u001b[0m \u001b[43m            \u001b[49m\u001b[43mcopy\u001b[49m\u001b[38;5;241;43m=\u001b[39;49m\u001b[43mcopy\u001b[49m\u001b[43m,\u001b[49m\n\u001b[0;32m    822\u001b[0m \u001b[43m            \u001b[49m\u001b[43mtyp\u001b[49m\u001b[38;5;241;43m=\u001b[39;49m\u001b[43mmanager\u001b[49m\u001b[43m,\u001b[49m\n\u001b[0;32m    823\u001b[0m \u001b[43m        \u001b[49m\u001b[43m)\u001b[49m\n\u001b[0;32m    825\u001b[0m \u001b[38;5;66;03m# For data is list-like, or Iterable (will consume into list)\u001b[39;00m\n\u001b[0;32m    826\u001b[0m \u001b[38;5;28;01melif\u001b[39;00m is_list_like(data):\n",
            "File \u001b[1;32mc:\\Users\\Omar Saad\\AppData\\Local\\Programs\\Python\\Python311\\Lib\\site-packages\\pandas\\core\\internals\\construction.py:336\u001b[0m, in \u001b[0;36mndarray_to_mgr\u001b[1;34m(values, index, columns, dtype, copy, typ)\u001b[0m\n\u001b[0;32m    331\u001b[0m \u001b[38;5;66;03m# _prep_ndarraylike ensures that values.ndim == 2 at this point\u001b[39;00m\n\u001b[0;32m    332\u001b[0m index, columns \u001b[38;5;241m=\u001b[39m _get_axes(\n\u001b[0;32m    333\u001b[0m     values\u001b[38;5;241m.\u001b[39mshape[\u001b[38;5;241m0\u001b[39m], values\u001b[38;5;241m.\u001b[39mshape[\u001b[38;5;241m1\u001b[39m], index\u001b[38;5;241m=\u001b[39mindex, columns\u001b[38;5;241m=\u001b[39mcolumns\n\u001b[0;32m    334\u001b[0m )\n\u001b[1;32m--> 336\u001b[0m \u001b[43m_check_values_indices_shape_match\u001b[49m\u001b[43m(\u001b[49m\u001b[43mvalues\u001b[49m\u001b[43m,\u001b[49m\u001b[43m \u001b[49m\u001b[43mindex\u001b[49m\u001b[43m,\u001b[49m\u001b[43m \u001b[49m\u001b[43mcolumns\u001b[49m\u001b[43m)\u001b[49m\n\u001b[0;32m    338\u001b[0m \u001b[38;5;28;01mif\u001b[39;00m typ \u001b[38;5;241m==\u001b[39m \u001b[38;5;124m\"\u001b[39m\u001b[38;5;124marray\u001b[39m\u001b[38;5;124m\"\u001b[39m:\n\u001b[0;32m    339\u001b[0m     \u001b[38;5;28;01mif\u001b[39;00m \u001b[38;5;28missubclass\u001b[39m(values\u001b[38;5;241m.\u001b[39mdtype\u001b[38;5;241m.\u001b[39mtype, \u001b[38;5;28mstr\u001b[39m):\n",
            "File \u001b[1;32mc:\\Users\\Omar Saad\\AppData\\Local\\Programs\\Python\\Python311\\Lib\\site-packages\\pandas\\core\\internals\\construction.py:420\u001b[0m, in \u001b[0;36m_check_values_indices_shape_match\u001b[1;34m(values, index, columns)\u001b[0m\n\u001b[0;32m    418\u001b[0m passed \u001b[38;5;241m=\u001b[39m values\u001b[38;5;241m.\u001b[39mshape\n\u001b[0;32m    419\u001b[0m implied \u001b[38;5;241m=\u001b[39m (\u001b[38;5;28mlen\u001b[39m(index), \u001b[38;5;28mlen\u001b[39m(columns))\n\u001b[1;32m--> 420\u001b[0m \u001b[38;5;28;01mraise\u001b[39;00m \u001b[38;5;167;01mValueError\u001b[39;00m(\u001b[38;5;124mf\u001b[39m\u001b[38;5;124m\"\u001b[39m\u001b[38;5;124mShape of passed values is \u001b[39m\u001b[38;5;132;01m{\u001b[39;00mpassed\u001b[38;5;132;01m}\u001b[39;00m\u001b[38;5;124m, indices imply \u001b[39m\u001b[38;5;132;01m{\u001b[39;00mimplied\u001b[38;5;132;01m}\u001b[39;00m\u001b[38;5;124m\"\u001b[39m)\n",
            "\u001b[1;31mValueError\u001b[0m: Shape of passed values is (4005, 9), indices imply (4005, 49)"
          ]
        }
      ],
      "source": [
        "from xdf import *\n",
        "\n",
        "# file = Xdf('BCI Data\\sub-Anwar\\ses-S001\\eeg\\sub-Anwar_ses-S001_task-Baseline_run-002_eeg.xdf')\n",
        "file = Xdf('magdy\\sub-magdy\\ses-S001\\eeg\\sub-magdy_ses-S001_task-Right Release_run-003_eeg.xdf')\n",
        "\n"
      ]
    },
    {
      "cell_type": "code",
      "execution_count": null,
      "metadata": {},
      "outputs": [],
      "source": [
        "\n",
        "print(file.getSamplingRate())\n",
        "file.toCSV('testClass.csv', False)"
      ]
    },
    {
      "cell_type": "markdown",
      "metadata": {
        "id": "Bpe1FMFI9HBC"
      },
      "source": [
        "# from XDF to MNE"
      ]
    },
    {
      "cell_type": "code",
      "execution_count": null,
      "metadata": {
        "id": "6RJZO_2ri6xS"
      },
      "outputs": [],
      "source": [
        "# read stream from xdf\n",
        "streams, header = pyxdf.load_xdf(all_files[0])\n",
        "# extract data\n",
        "data = streams[0][\"time_series\"].T\n",
        "# check that it is 9 channels\n",
        "assert data.shape[0] == 9 # 9 raw EEG channels\n",
        "#get channels count\n",
        "ch_count = int(streams[0][\"info\"][\"channel_count\"][0])\n",
        "# extract channels names\n",
        "ch_names = []\n",
        "for i in range(ch_count):\n",
        "  ch_names.append(streams[0][\"info\"][\"desc\"][0][\"channels\"][0][\"channel\"][i][\"label\"][0])\n",
        "# extract sampling ratw\n",
        "fs = float(streams[0][\"info\"][\"nominal_srate\"][0])\n",
        "# create info\n",
        "info = mne.create_info(ch_names, fs, \"eeg\")"
      ]
    },
    {
      "cell_type": "code",
      "execution_count": null,
      "metadata": {
        "id": "xY_sgMNIkkQu"
      },
      "outputs": [],
      "source": [
        "def extract_tasks_names(files):\n",
        "  task_names = []\n",
        "  for path in files:\n",
        "      # Split the path to isolate the filename\n",
        "      filename = path.split('/')[-1]\n",
        "      # Extract the task name part\n",
        "      task_name = filename.split('_')[2]\n",
        "      # Replace the hyphen with a space to match the desired format\n",
        "      task_name = task_name.split('-')[-1]\n",
        "      # Append the task name to the list\n",
        "      task_names.append(task_name)\n",
        "  return task_names"
      ]
    },
    {
      "cell_type": "code",
      "execution_count": null,
      "metadata": {
        "colab": {
          "base_uri": "https://localhost:8080/"
        },
        "id": "AdVQjkn0QbJJ",
        "outputId": "6e35e18c-bf40-4d2c-edc1-68609229cb35"
      },
      "outputs": [
        {
          "name": "stdout",
          "output_type": "stream",
          "text": [
            "[1, 2, 3, 4, 2, 3, 1, 4, 1, 2, 4, 4, 3, 3, 2, 4, 3, 1, 3, 2, 3, 1, 2, 1, 4, 1, 4, 1, 1, 3, 2, 2, 3, 1, 2, 1, 3, 2, 3, 4, 1, 2, 2, 2, 3, 1, 3, 3, 3, 4, 1, 2, 2, 1, 4, 1, 1, 4, 4, 3, 3, 1, 3, 2, 4, 4, 4, 2, 2, 4, 1, 4, 3, 4, 4, 2, 2, 4, 1, 3]\n"
          ]
        }
      ],
      "source": [
        "task_names = extract_tasks_names(all_files)\n",
        "event_id = {'Left Grasp': 1, 'Right Grasp': 2, 'Right Release': 3, 'Baseline': 4}\n",
        "# Convert the list of task names to the list of numbers\n",
        "task_numbers = [event_id[task] for task in task_names]\n",
        "print(task_numbers)"
      ]
    },
    {
      "cell_type": "code",
      "execution_count": null,
      "metadata": {
        "id": "tJm_lBs_bHw6"
      },
      "outputs": [],
      "source": [
        "# crop parametes\n",
        "t_start = 1\n",
        "t_end = 6\n",
        "\n",
        "idx_start = int(fs*t_start)\n",
        "idx_end = int(fs*t_end)"
      ]
    },
    {
      "cell_type": "code",
      "execution_count": null,
      "metadata": {
        "colab": {
          "base_uri": "https://localhost:8080/"
        },
        "id": "MDwqcps_U1fd",
        "outputId": "eae25b39-74d2-49aa-9557-6f5965f756d2"
      },
      "outputs": [
        {
          "name": "stderr",
          "output_type": "stream",
          "text": [
            "WARNING:pyxdf.pyxdf:Stream 1: Calculated effective sampling rate 581.6857 Hz is different from specified rate 500.0000 Hz.\n"
          ]
        }
      ],
      "source": [
        "all_data=[]\n",
        "for fname in all_files:\n",
        "  streams, header = pyxdf.load_xdf(fname)\n",
        "  data = streams[0][\"time_series\"].T\n",
        "  # crop data from second 1 to 6\n",
        "  cropped_data = data[:,idx_start:idx_end+1]\n",
        "  all_data.append(cropped_data)"
      ]
    },
    {
      "cell_type": "code",
      "execution_count": null,
      "metadata": {
        "id": "zpFDxQBkaiBF"
      },
      "outputs": [],
      "source": [
        "# Combine into a 3D array\n",
        "combined_array = np.stack(all_data, axis=0)\n",
        "print(combined_array.shape)"
      ]
    },
    {
      "cell_type": "code",
      "execution_count": null,
      "metadata": {
        "id": "0PkGuYF_Zqy4"
      },
      "outputs": [],
      "source": [
        "eeg_data = combined_array"
      ]
    },
    {
      "cell_type": "code",
      "execution_count": null,
      "metadata": {
        "id": "ZsEhotDscDls"
      },
      "outputs": [],
      "source": [
        "epochs = mne.EpochsArray(eeg_data, info, verbose=verbose, tmin=0)"
      ]
    },
    {
      "cell_type": "code",
      "execution_count": null,
      "metadata": {
        "id": "_93FSvuIk5HI"
      },
      "outputs": [],
      "source": [
        "# epochs.set_montage('standard_1020')\n",
        "epochs.filter(1., None)\n",
        "# epochs.apply_baseline(baseline=(-.250, 0)) # linear baseline correction\n",
        "\n",
        "epochs.event_id = event_id\n",
        "epochs.events[:,2] = task_numbers"
      ]
    },
    {
      "cell_type": "code",
      "execution_count": null,
      "metadata": {
        "colab": {
          "base_uri": "https://localhost:8080/",
          "height": 104
        },
        "id": "9sHtS94PcHuk",
        "outputId": "0be5f118-2e92-48a4-a28e-7c933c746906"
      },
      "outputs": [
        {
          "data": {
            "text/html": [
              "<table class=\"table table-hover table-striped table-sm table-responsive small\">\n",
              "    <tr>\n",
              "        <th>Number of events</th>\n",
              "        <td>80</td>\n",
              "    </tr>\n",
              "    <tr>\n",
              "        <th>Events</th>\n",
              "        \n",
              "        <td>1: 80</td>\n",
              "        \n",
              "    </tr>\n",
              "    <tr>\n",
              "        <th>Time range</th>\n",
              "        <td>0.000 – 5.000 s</td>\n",
              "    </tr>\n",
              "    <tr>\n",
              "        <th>Baseline</th>\n",
              "        <td>off</td>\n",
              "    </tr>\n",
              "</table>"
            ],
            "text/plain": [
              "<EpochsArray |  80 events (all good), 0 – 5 s, baseline off, ~13.8 MB, data loaded,\n",
              " '1': 80>"
            ]
          },
          "execution_count": 37,
          "metadata": {},
          "output_type": "execute_result"
        }
      ],
      "source": [
        "epochs"
      ]
    },
    {
      "cell_type": "code",
      "execution_count": null,
      "metadata": {
        "id": "-LDSdWaqd3Mq"
      },
      "outputs": [],
      "source": []
    },
    {
      "cell_type": "code",
      "execution_count": null,
      "metadata": {
        "id": "FB4wrEefdTvq"
      },
      "outputs": [],
      "source": []
    },
    {
      "cell_type": "code",
      "execution_count": null,
      "metadata": {
        "id": "UAfe_ro8RmAx"
      },
      "outputs": [],
      "source": [
        "def get_mne_epochs(filepath, verbose=verbose, t_start=1, fs=500, mode='train'):\n",
        "    '''\n",
        "    This function reads the EEG data from .xdf file and convert it to MNE-Python Compatible epochs\n",
        "    data structure. It takes data from [0, 8] sec range and return it by setting t = 0 at cue onset\n",
        "    i.e. 3 seconds and dropping first two seconds so the output data is in [-1.0, 5.0] sec range. The\n",
        "    Details can be found in the preprocessing section of the attached document\n",
        "    '''\n",
        "\n",
        "    return epochs\n",
        "\n",
        "def get_labels(filepath):\n",
        "    mat_data = loadmat(filepath) # read .mat file\n",
        "    return mat_data['Labels'].ravel()"
      ]
    }
  ],
  "metadata": {
    "colab": {
      "provenance": [],
      "toc_visible": true
    },
    "kernelspec": {
      "display_name": "Python 3",
      "name": "python3"
    },
    "language_info": {
      "codemirror_mode": {
        "name": "ipython",
        "version": 3
      },
      "file_extension": ".py",
      "mimetype": "text/x-python",
      "name": "python",
      "nbconvert_exporter": "python",
      "pygments_lexer": "ipython3",
      "version": "3.11.2"
    }
  },
  "nbformat": 4,
  "nbformat_minor": 0
}
