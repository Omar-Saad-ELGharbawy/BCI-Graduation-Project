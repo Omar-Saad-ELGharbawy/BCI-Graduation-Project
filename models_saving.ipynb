{
  "cells": [
    {
      "cell_type": "markdown",
      "metadata": {
        "id": "xgdH4QWHulUz"
      },
      "source": [
        "# Importing packages"
      ]
    },
    {
      "cell_type": "code",
      "execution_count": 1,
      "metadata": {
        "colab": {
          "base_uri": "https://localhost:8080/"
        },
        "id": "vA3H342ptnzP",
        "outputId": "e4895d03-693f-4fc6-b940-7d4de999c06f"
      },
      "outputs": [],
      "source": [
        "# !pip install mne"
      ]
    },
    {
      "cell_type": "code",
      "execution_count": 2,
      "metadata": {
        "colab": {
          "base_uri": "https://localhost:8080/"
        },
        "id": "nI3ejojr869-",
        "outputId": "36a5cf4f-d238-44b6-dd83-c5ad3ad663d6"
      },
      "outputs": [],
      "source": [
        "# !pip install pyxdf"
      ]
    },
    {
      "cell_type": "code",
      "execution_count": 3,
      "metadata": {
        "id": "xiCKgVOiuiZB"
      },
      "outputs": [],
      "source": [
        "import numpy as np # linear algebra\n",
        "import pandas as pd # data processing, CSV file I/O (e.g. pd.read_csv)\n",
        "import mne\n",
        "import pyxdf\n",
        "import glob\n",
        "import os\n",
        "import matplotlib.pyplot as plt\n",
        "from scipy.io import loadmat\n",
        "import scipy\n",
        "import sklearn\n",
        "# ------------------------------------------------------------------------------------------\n",
        "from sklearn.preprocessing import LabelEncoder,StandardScaler\n",
        "from sklearn.discriminant_analysis import LinearDiscriminantAnalysis as lda\n",
        "from sklearn.model_selection import ShuffleSplit, cross_val_score, train_test_split, GridSearchCV, StratifiedShuffleSplit\n",
        "from sklearn.pipeline import Pipeline, make_pipeline\n",
        "from sklearn.base import BaseEstimator, TransformerMixin\n",
        "from sklearn.linear_model import LogisticRegression\n",
        "from sklearn.neighbors import KNeighborsClassifier\n",
        "from sklearn.svm import LinearSVC, SVC\n",
        "\n",
        "# ------------------------------------------------------------------------------------------\n",
        "from mne.decoding import CSP\n",
        "from mne import Epochs, pick_types\n",
        "from mne.channels import make_standard_montage\n",
        "from mne.datasets import eegbci\n",
        "from mne.io import concatenate_raws, read_raw_edf"
      ]
    },
    {
      "cell_type": "code",
      "execution_count": 4,
      "metadata": {},
      "outputs": [],
      "source": [
        "from sklearn.ensemble import RandomForestClassifier\n",
        "from sklearn.tree import DecisionTreeClassifier\n",
        "from sklearn.neural_network import MLPClassifier"
      ]
    },
    {
      "cell_type": "code",
      "execution_count": 5,
      "metadata": {},
      "outputs": [],
      "source": [
        "from FBCSP_V7 import FBCSP_V4 as FBCSP "
      ]
    },
    {
      "cell_type": "code",
      "execution_count": 6,
      "metadata": {
        "id": "vefLh0o2ukU2"
      },
      "outputs": [],
      "source": [
        "import warnings\n",
        "warnings.filterwarnings('ignore') # to ignore warnings"
      ]
    },
    {
      "cell_type": "code",
      "execution_count": 7,
      "metadata": {
        "id": "AczJm-EVKkcq"
      },
      "outputs": [],
      "source": [
        "verbose = False                    # global variable to suppress output display of MNE functions\n",
        "mne.set_log_level(verbose=verbose) # to suppress large info outputs"
      ]
    },
    {
      "cell_type": "markdown",
      "metadata": {
        "id": "qYSAnVtxusG5"
      },
      "source": [
        "# Data Loading"
      ]
    },
    {
      "cell_type": "code",
      "execution_count": 8,
      "metadata": {
        "colab": {
          "base_uri": "https://localhost:8080/"
        },
        "id": "xli8Ve2Mu4mP",
        "outputId": "e567daa0-dd21-4c3e-922d-b6624a45b28b"
      },
      "outputs": [],
      "source": [
        "# from google.colab import drive\n",
        "# drive.mount('/content/drive')"
      ]
    },
    {
      "cell_type": "code",
      "execution_count": 9,
      "metadata": {
        "id": "YkE9AxdIPZx3",
        "tags": [
          "Paths"
        ]
      },
      "outputs": [
        {
          "data": {
            "text/plain": [
              "225"
            ]
          },
          "execution_count": 9,
          "metadata": {},
          "output_type": "execute_result"
        }
      ],
      "source": [
        "# Anwar_data_path = \"E:\\BCI\\A-Our Motor Data\\Good Data\\sub-Anwar\\ses-S002\\eeg\"\n",
        "# Anwar_data_path = \"E:\\BCI\\A-Our Motor Data\\Good Data\\sub-Anwar\\ses-S002\\eeg\\Remaining Data\"\n",
        "# Anwar_data_path = \"E:\\BCI\\A-Our Motor Data\\Good Data\\sub-Anwar\\ses-S002\\s_2_all\"\n",
        "\n",
        "# Anwar_data_path = \"E:\\BCI\\A-Our Motor Data\\Good Data\\sub-Anwar\\ses-S003\\s3\"\n",
        "# Anwar_data_path = \"E:\\BCI\\A-Our Motor Data\\Good Data\\sub-Anwar\\ses-S003\\s3_45\"\n",
        "# Anwar_data_path = \"E:\\BCI\\A-Our Motor Data\\Good Data\\sub-Anwar\\ses-S003\\s3_00\"\n",
        "\n",
        "# Anwar_data_path = \"E:\\BCI\\A-Our Motor Data\\Good Data\\sub-Anwar\\s-00\" # ALL ANWAR\n",
        "\n",
        "\n",
        "# sherif_data_path = \"E:\\BCI\\A-Our Motor Data\\Good Data\\sub-Sherif\\ses-S002\\eeg\"\n",
        "# sherif_data_path = \"E:\\BCI\\A-Our Motor Data\\Good Data\\sub-Sherif\\ses-S003\\eeg\"\n",
        "\n",
        "sherif_data_path = \"E:\\BCI\\A-Our Motor Data\\Good Data\\sub-Sherif\\s-00\" #ALL SHERIF\n",
        "\n",
        "# magdy_data_path = \"E:\\BCI\\A-Our Motor Data\\magdy\\sub-magdy\\ses-S001\\eeg\"\n",
        "\n",
        "# saad_data_path = \"E:\\BCI\\A-Our Motor Data\\omar\\sub-omar\\ses-S001\\eeg\"\n",
        "\n",
        "folder_path = sherif_data_path\n",
        "files   = glob.glob(folder_path + '/*eeg.xdf')\n",
        "# files   = glob.glob(folder_path)\n",
        "len(files)     # if  return zero,then no file is loaded"
      ]
    },
    {
      "cell_type": "code",
      "execution_count": 10,
      "metadata": {
        "colab": {
          "base_uri": "https://localhost:8080/"
        },
        "id": "ciCkti80tTje",
        "outputId": "d20d011c-618d-472d-c0f2-0ebeae13a918"
      },
      "outputs": [
        {
          "data": {
            "text/plain": [
              "['E:\\\\BCI\\\\A-Our Motor Data\\\\Good Data\\\\sub-Sherif\\\\s-00\\\\sub-sherif_ses-S002_task-Baseline_run-001_eeg.xdf',\n",
              " 'E:\\\\BCI\\\\A-Our Motor Data\\\\Good Data\\\\sub-Sherif\\\\s-00\\\\sub-sherif_ses-S002_task-Baseline_run-006_eeg.xdf',\n",
              " 'E:\\\\BCI\\\\A-Our Motor Data\\\\Good Data\\\\sub-Sherif\\\\s-00\\\\sub-sherif_ses-S002_task-Baseline_run-010_eeg.xdf',\n",
              " 'E:\\\\BCI\\\\A-Our Motor Data\\\\Good Data\\\\sub-Sherif\\\\s-00\\\\sub-sherif_ses-S002_task-Baseline_run-013_eeg.xdf',\n",
              " 'E:\\\\BCI\\\\A-Our Motor Data\\\\Good Data\\\\sub-Sherif\\\\s-00\\\\sub-sherif_ses-S002_task-Baseline_run-014_eeg.xdf',\n",
              " 'E:\\\\BCI\\\\A-Our Motor Data\\\\Good Data\\\\sub-Sherif\\\\s-00\\\\sub-sherif_ses-S002_task-Baseline_run-019_eeg.xdf',\n",
              " 'E:\\\\BCI\\\\A-Our Motor Data\\\\Good Data\\\\sub-Sherif\\\\s-00\\\\sub-sherif_ses-S002_task-Baseline_run-020_eeg.xdf',\n",
              " 'E:\\\\BCI\\\\A-Our Motor Data\\\\Good Data\\\\sub-Sherif\\\\s-00\\\\sub-sherif_ses-S002_task-Baseline_run-022_eeg.xdf',\n",
              " 'E:\\\\BCI\\\\A-Our Motor Data\\\\Good Data\\\\sub-Sherif\\\\s-00\\\\sub-sherif_ses-S002_task-Baseline_run-027_eeg.xdf',\n",
              " 'E:\\\\BCI\\\\A-Our Motor Data\\\\Good Data\\\\sub-Sherif\\\\s-00\\\\sub-sherif_ses-S002_task-Baseline_run-032_eeg.xdf',\n",
              " 'E:\\\\BCI\\\\A-Our Motor Data\\\\Good Data\\\\sub-Sherif\\\\s-00\\\\sub-sherif_ses-S002_task-Baseline_run-034_eeg.xdf',\n",
              " 'E:\\\\BCI\\\\A-Our Motor Data\\\\Good Data\\\\sub-Sherif\\\\s-00\\\\sub-sherif_ses-S002_task-Baseline_run-038_eeg.xdf',\n",
              " 'E:\\\\BCI\\\\A-Our Motor Data\\\\Good Data\\\\sub-Sherif\\\\s-00\\\\sub-sherif_ses-S002_task-Baseline_run-040_eeg.xdf',\n",
              " 'E:\\\\BCI\\\\A-Our Motor Data\\\\Good Data\\\\sub-Sherif\\\\s-00\\\\sub-sherif_ses-S002_task-Baseline_run-042_eeg.xdf',\n",
              " 'E:\\\\BCI\\\\A-Our Motor Data\\\\Good Data\\\\sub-Sherif\\\\s-00\\\\sub-sherif_ses-S002_task-Baseline_run-043_eeg.xdf',\n",
              " 'E:\\\\BCI\\\\A-Our Motor Data\\\\Good Data\\\\sub-Sherif\\\\s-00\\\\sub-sherif_ses-S002_task-Baseline_run-047_eeg.xdf',\n",
              " 'E:\\\\BCI\\\\A-Our Motor Data\\\\Good Data\\\\sub-Sherif\\\\s-00\\\\sub-sherif_ses-S002_task-Baseline_run-052_eeg.xdf',\n",
              " 'E:\\\\BCI\\\\A-Our Motor Data\\\\Good Data\\\\sub-Sherif\\\\s-00\\\\sub-sherif_ses-S002_task-Baseline_run-062_eeg.xdf',\n",
              " 'E:\\\\BCI\\\\A-Our Motor Data\\\\Good Data\\\\sub-Sherif\\\\s-00\\\\sub-sherif_ses-S002_task-Baseline_run-065_eeg.xdf',\n",
              " 'E:\\\\BCI\\\\A-Our Motor Data\\\\Good Data\\\\sub-Sherif\\\\s-00\\\\sub-sherif_ses-S002_task-Baseline_run-067_eeg.xdf',\n",
              " 'E:\\\\BCI\\\\A-Our Motor Data\\\\Good Data\\\\sub-Sherif\\\\s-00\\\\sub-sherif_ses-S002_task-Baseline_run-068_eeg.xdf',\n",
              " 'E:\\\\BCI\\\\A-Our Motor Data\\\\Good Data\\\\sub-Sherif\\\\s-00\\\\sub-sherif_ses-S002_task-Baseline_run-071_eeg.xdf',\n",
              " 'E:\\\\BCI\\\\A-Our Motor Data\\\\Good Data\\\\sub-Sherif\\\\s-00\\\\sub-sherif_ses-S002_task-Baseline_run-076_eeg.xdf',\n",
              " 'E:\\\\BCI\\\\A-Our Motor Data\\\\Good Data\\\\sub-Sherif\\\\s-00\\\\sub-sherif_ses-S002_task-Baseline_run-079_eeg.xdf',\n",
              " 'E:\\\\BCI\\\\A-Our Motor Data\\\\Good Data\\\\sub-Sherif\\\\s-00\\\\sub-sherif_ses-S002_task-Baseline_run-080_eeg.xdf',\n",
              " 'E:\\\\BCI\\\\A-Our Motor Data\\\\Good Data\\\\sub-Sherif\\\\s-00\\\\sub-sherif_ses-S002_task-Baseline_run-082_eeg.xdf',\n",
              " 'E:\\\\BCI\\\\A-Our Motor Data\\\\Good Data\\\\sub-Sherif\\\\s-00\\\\sub-sherif_ses-S002_task-Baseline_run-083_eeg.xdf',\n",
              " 'E:\\\\BCI\\\\A-Our Motor Data\\\\Good Data\\\\sub-Sherif\\\\s-00\\\\sub-sherif_ses-S002_task-Baseline_run-084_eeg.xdf',\n",
              " 'E:\\\\BCI\\\\A-Our Motor Data\\\\Good Data\\\\sub-Sherif\\\\s-00\\\\sub-sherif_ses-S002_task-Baseline_run-086_eeg.xdf',\n",
              " 'E:\\\\BCI\\\\A-Our Motor Data\\\\Good Data\\\\sub-Sherif\\\\s-00\\\\sub-sherif_ses-S002_task-Baseline_run-089_eeg.xdf',\n",
              " 'E:\\\\BCI\\\\A-Our Motor Data\\\\Good Data\\\\sub-Sherif\\\\s-00\\\\sub-sherif_ses-S002_task-Right Grasp_run-003_eeg.xdf',\n",
              " 'E:\\\\BCI\\\\A-Our Motor Data\\\\Good Data\\\\sub-Sherif\\\\s-00\\\\sub-sherif_ses-S002_task-Right Grasp_run-007_eeg.xdf',\n",
              " 'E:\\\\BCI\\\\A-Our Motor Data\\\\Good Data\\\\sub-Sherif\\\\s-00\\\\sub-sherif_ses-S002_task-Right Grasp_run-008_eeg.xdf',\n",
              " 'E:\\\\BCI\\\\A-Our Motor Data\\\\Good Data\\\\sub-Sherif\\\\s-00\\\\sub-sherif_ses-S002_task-Right Grasp_run-011_eeg.xdf',\n",
              " 'E:\\\\BCI\\\\A-Our Motor Data\\\\Good Data\\\\sub-Sherif\\\\s-00\\\\sub-sherif_ses-S002_task-Right Grasp_run-012_eeg.xdf',\n",
              " 'E:\\\\BCI\\\\A-Our Motor Data\\\\Good Data\\\\sub-Sherif\\\\s-00\\\\sub-sherif_ses-S002_task-Right Grasp_run-016_eeg.xdf',\n",
              " 'E:\\\\BCI\\\\A-Our Motor Data\\\\Good Data\\\\sub-Sherif\\\\s-00\\\\sub-sherif_ses-S002_task-Right Grasp_run-017_eeg.xdf',\n",
              " 'E:\\\\BCI\\\\A-Our Motor Data\\\\Good Data\\\\sub-Sherif\\\\s-00\\\\sub-sherif_ses-S002_task-Right Grasp_run-023_eeg.xdf',\n",
              " 'E:\\\\BCI\\\\A-Our Motor Data\\\\Good Data\\\\sub-Sherif\\\\s-00\\\\sub-sherif_ses-S002_task-Right Grasp_run-025_eeg.xdf',\n",
              " 'E:\\\\BCI\\\\A-Our Motor Data\\\\Good Data\\\\sub-Sherif\\\\s-00\\\\sub-sherif_ses-S002_task-Right Grasp_run-028_eeg.xdf',\n",
              " 'E:\\\\BCI\\\\A-Our Motor Data\\\\Good Data\\\\sub-Sherif\\\\s-00\\\\sub-sherif_ses-S002_task-Right Grasp_run-037_eeg.xdf',\n",
              " 'E:\\\\BCI\\\\A-Our Motor Data\\\\Good Data\\\\sub-Sherif\\\\s-00\\\\sub-sherif_ses-S002_task-Right Grasp_run-039_eeg.xdf',\n",
              " 'E:\\\\BCI\\\\A-Our Motor Data\\\\Good Data\\\\sub-Sherif\\\\s-00\\\\sub-sherif_ses-S002_task-Right Grasp_run-044_eeg.xdf',\n",
              " 'E:\\\\BCI\\\\A-Our Motor Data\\\\Good Data\\\\sub-Sherif\\\\s-00\\\\sub-sherif_ses-S002_task-Right Grasp_run-046_eeg.xdf',\n",
              " 'E:\\\\BCI\\\\A-Our Motor Data\\\\Good Data\\\\sub-Sherif\\\\s-00\\\\sub-sherif_ses-S002_task-Right Grasp_run-049_eeg.xdf',\n",
              " 'E:\\\\BCI\\\\A-Our Motor Data\\\\Good Data\\\\sub-Sherif\\\\s-00\\\\sub-sherif_ses-S002_task-Right Grasp_run-050_eeg.xdf',\n",
              " 'E:\\\\BCI\\\\A-Our Motor Data\\\\Good Data\\\\sub-Sherif\\\\s-00\\\\sub-sherif_ses-S002_task-Right Grasp_run-051_eeg.xdf',\n",
              " 'E:\\\\BCI\\\\A-Our Motor Data\\\\Good Data\\\\sub-Sherif\\\\s-00\\\\sub-sherif_ses-S002_task-Right Grasp_run-054_eeg.xdf',\n",
              " 'E:\\\\BCI\\\\A-Our Motor Data\\\\Good Data\\\\sub-Sherif\\\\s-00\\\\sub-sherif_ses-S002_task-Right Grasp_run-055_eeg.xdf',\n",
              " 'E:\\\\BCI\\\\A-Our Motor Data\\\\Good Data\\\\sub-Sherif\\\\s-00\\\\sub-sherif_ses-S002_task-Right Grasp_run-056_eeg.xdf',\n",
              " 'E:\\\\BCI\\\\A-Our Motor Data\\\\Good Data\\\\sub-Sherif\\\\s-00\\\\sub-sherif_ses-S002_task-Right Grasp_run-057_eeg.xdf',\n",
              " 'E:\\\\BCI\\\\A-Our Motor Data\\\\Good Data\\\\sub-Sherif\\\\s-00\\\\sub-sherif_ses-S002_task-Right Grasp_run-058_eeg.xdf',\n",
              " 'E:\\\\BCI\\\\A-Our Motor Data\\\\Good Data\\\\sub-Sherif\\\\s-00\\\\sub-sherif_ses-S002_task-Right Grasp_run-059_eeg.xdf',\n",
              " 'E:\\\\BCI\\\\A-Our Motor Data\\\\Good Data\\\\sub-Sherif\\\\s-00\\\\sub-sherif_ses-S002_task-Right Grasp_run-061_eeg.xdf',\n",
              " 'E:\\\\BCI\\\\A-Our Motor Data\\\\Good Data\\\\sub-Sherif\\\\s-00\\\\sub-sherif_ses-S002_task-Right Grasp_run-063_eeg.xdf',\n",
              " 'E:\\\\BCI\\\\A-Our Motor Data\\\\Good Data\\\\sub-Sherif\\\\s-00\\\\sub-sherif_ses-S002_task-Right Grasp_run-069_eeg.xdf',\n",
              " 'E:\\\\BCI\\\\A-Our Motor Data\\\\Good Data\\\\sub-Sherif\\\\s-00\\\\sub-sherif_ses-S002_task-Right Grasp_run-072_eeg.xdf',\n",
              " 'E:\\\\BCI\\\\A-Our Motor Data\\\\Good Data\\\\sub-Sherif\\\\s-00\\\\sub-sherif_ses-S002_task-Right Grasp_run-074_eeg.xdf',\n",
              " 'E:\\\\BCI\\\\A-Our Motor Data\\\\Good Data\\\\sub-Sherif\\\\s-00\\\\sub-sherif_ses-S002_task-Right Grasp_run-078_eeg.xdf',\n",
              " 'E:\\\\BCI\\\\A-Our Motor Data\\\\Good Data\\\\sub-Sherif\\\\s-00\\\\sub-sherif_ses-S002_task-Right Grasp_run-085_eeg.xdf',\n",
              " 'E:\\\\BCI\\\\A-Our Motor Data\\\\Good Data\\\\sub-Sherif\\\\s-00\\\\sub-sherif_ses-S002_task-Right Release_run-001_eeg.xdf',\n",
              " 'E:\\\\BCI\\\\A-Our Motor Data\\\\Good Data\\\\sub-Sherif\\\\s-00\\\\sub-sherif_ses-S002_task-Right Release_run-002_eeg.xdf',\n",
              " 'E:\\\\BCI\\\\A-Our Motor Data\\\\Good Data\\\\sub-Sherif\\\\s-00\\\\sub-sherif_ses-S002_task-Right Release_run-004_eeg.xdf',\n",
              " 'E:\\\\BCI\\\\A-Our Motor Data\\\\Good Data\\\\sub-Sherif\\\\s-00\\\\sub-sherif_ses-S002_task-Right Release_run-005_eeg.xdf',\n",
              " 'E:\\\\BCI\\\\A-Our Motor Data\\\\Good Data\\\\sub-Sherif\\\\s-00\\\\sub-sherif_ses-S002_task-Right Release_run-009_eeg.xdf',\n",
              " 'E:\\\\BCI\\\\A-Our Motor Data\\\\Good Data\\\\sub-Sherif\\\\s-00\\\\sub-sherif_ses-S002_task-Right Release_run-015_eeg.xdf',\n",
              " 'E:\\\\BCI\\\\A-Our Motor Data\\\\Good Data\\\\sub-Sherif\\\\s-00\\\\sub-sherif_ses-S002_task-Right Release_run-018_eeg.xdf',\n",
              " 'E:\\\\BCI\\\\A-Our Motor Data\\\\Good Data\\\\sub-Sherif\\\\s-00\\\\sub-sherif_ses-S002_task-Right Release_run-021_eeg.xdf',\n",
              " 'E:\\\\BCI\\\\A-Our Motor Data\\\\Good Data\\\\sub-Sherif\\\\s-00\\\\sub-sherif_ses-S002_task-Right Release_run-024_eeg.xdf',\n",
              " 'E:\\\\BCI\\\\A-Our Motor Data\\\\Good Data\\\\sub-Sherif\\\\s-00\\\\sub-sherif_ses-S002_task-Right Release_run-026_eeg.xdf',\n",
              " 'E:\\\\BCI\\\\A-Our Motor Data\\\\Good Data\\\\sub-Sherif\\\\s-00\\\\sub-sherif_ses-S002_task-Right Release_run-029_eeg.xdf',\n",
              " 'E:\\\\BCI\\\\A-Our Motor Data\\\\Good Data\\\\sub-Sherif\\\\s-00\\\\sub-sherif_ses-S002_task-Right Release_run-030_eeg.xdf',\n",
              " 'E:\\\\BCI\\\\A-Our Motor Data\\\\Good Data\\\\sub-Sherif\\\\s-00\\\\sub-sherif_ses-S002_task-Right Release_run-031_eeg.xdf',\n",
              " 'E:\\\\BCI\\\\A-Our Motor Data\\\\Good Data\\\\sub-Sherif\\\\s-00\\\\sub-sherif_ses-S002_task-Right Release_run-033_eeg.xdf',\n",
              " 'E:\\\\BCI\\\\A-Our Motor Data\\\\Good Data\\\\sub-Sherif\\\\s-00\\\\sub-sherif_ses-S002_task-Right Release_run-035_eeg.xdf',\n",
              " 'E:\\\\BCI\\\\A-Our Motor Data\\\\Good Data\\\\sub-Sherif\\\\s-00\\\\sub-sherif_ses-S002_task-Right Release_run-036_eeg.xdf',\n",
              " 'E:\\\\BCI\\\\A-Our Motor Data\\\\Good Data\\\\sub-Sherif\\\\s-00\\\\sub-sherif_ses-S002_task-Right Release_run-045_eeg.xdf',\n",
              " 'E:\\\\BCI\\\\A-Our Motor Data\\\\Good Data\\\\sub-Sherif\\\\s-00\\\\sub-sherif_ses-S002_task-Right Release_run-048_eeg.xdf',\n",
              " 'E:\\\\BCI\\\\A-Our Motor Data\\\\Good Data\\\\sub-Sherif\\\\s-00\\\\sub-sherif_ses-S002_task-Right Release_run-053_eeg.xdf',\n",
              " 'E:\\\\BCI\\\\A-Our Motor Data\\\\Good Data\\\\sub-Sherif\\\\s-00\\\\sub-sherif_ses-S002_task-Right Release_run-060_eeg.xdf',\n",
              " 'E:\\\\BCI\\\\A-Our Motor Data\\\\Good Data\\\\sub-Sherif\\\\s-00\\\\sub-sherif_ses-S002_task-Right Release_run-064_eeg.xdf',\n",
              " 'E:\\\\BCI\\\\A-Our Motor Data\\\\Good Data\\\\sub-Sherif\\\\s-00\\\\sub-sherif_ses-S002_task-Right Release_run-066_eeg.xdf',\n",
              " 'E:\\\\BCI\\\\A-Our Motor Data\\\\Good Data\\\\sub-Sherif\\\\s-00\\\\sub-sherif_ses-S002_task-Right Release_run-070_eeg.xdf',\n",
              " 'E:\\\\BCI\\\\A-Our Motor Data\\\\Good Data\\\\sub-Sherif\\\\s-00\\\\sub-sherif_ses-S002_task-Right Release_run-073_eeg.xdf',\n",
              " 'E:\\\\BCI\\\\A-Our Motor Data\\\\Good Data\\\\sub-Sherif\\\\s-00\\\\sub-sherif_ses-S002_task-Right Release_run-075_eeg.xdf',\n",
              " 'E:\\\\BCI\\\\A-Our Motor Data\\\\Good Data\\\\sub-Sherif\\\\s-00\\\\sub-sherif_ses-S002_task-Right Release_run-077_eeg.xdf',\n",
              " 'E:\\\\BCI\\\\A-Our Motor Data\\\\Good Data\\\\sub-Sherif\\\\s-00\\\\sub-sherif_ses-S002_task-Right Release_run-081_eeg.xdf',\n",
              " 'E:\\\\BCI\\\\A-Our Motor Data\\\\Good Data\\\\sub-Sherif\\\\s-00\\\\sub-sherif_ses-S002_task-Right Release_run-087_eeg.xdf',\n",
              " 'E:\\\\BCI\\\\A-Our Motor Data\\\\Good Data\\\\sub-Sherif\\\\s-00\\\\sub-sherif_ses-S002_task-Right Release_run-088_eeg.xdf',\n",
              " 'E:\\\\BCI\\\\A-Our Motor Data\\\\Good Data\\\\sub-Sherif\\\\s-00\\\\sub-sherif_ses-S002_task-Right Release_run-090_eeg.xdf',\n",
              " 'E:\\\\BCI\\\\A-Our Motor Data\\\\Good Data\\\\sub-Sherif\\\\s-00\\\\sub-sherif_ses-S003_task-Baseline_run-005_eeg.xdf',\n",
              " 'E:\\\\BCI\\\\A-Our Motor Data\\\\Good Data\\\\sub-Sherif\\\\s-00\\\\sub-sherif_ses-S003_task-Baseline_run-007_eeg.xdf',\n",
              " 'E:\\\\BCI\\\\A-Our Motor Data\\\\Good Data\\\\sub-Sherif\\\\s-00\\\\sub-sherif_ses-S003_task-Baseline_run-011_eeg.xdf',\n",
              " 'E:\\\\BCI\\\\A-Our Motor Data\\\\Good Data\\\\sub-Sherif\\\\s-00\\\\sub-sherif_ses-S003_task-Baseline_run-015_eeg.xdf',\n",
              " 'E:\\\\BCI\\\\A-Our Motor Data\\\\Good Data\\\\sub-Sherif\\\\s-00\\\\sub-sherif_ses-S003_task-Baseline_run-017_eeg.xdf',\n",
              " 'E:\\\\BCI\\\\A-Our Motor Data\\\\Good Data\\\\sub-Sherif\\\\s-00\\\\sub-sherif_ses-S003_task-Baseline_run-022_eeg.xdf',\n",
              " 'E:\\\\BCI\\\\A-Our Motor Data\\\\Good Data\\\\sub-Sherif\\\\s-00\\\\sub-sherif_ses-S003_task-Baseline_run-024_eeg.xdf',\n",
              " 'E:\\\\BCI\\\\A-Our Motor Data\\\\Good Data\\\\sub-Sherif\\\\s-00\\\\sub-sherif_ses-S003_task-Baseline_run-026_eeg.xdf',\n",
              " 'E:\\\\BCI\\\\A-Our Motor Data\\\\Good Data\\\\sub-Sherif\\\\s-00\\\\sub-sherif_ses-S003_task-Baseline_run-028_eeg.xdf',\n",
              " 'E:\\\\BCI\\\\A-Our Motor Data\\\\Good Data\\\\sub-Sherif\\\\s-00\\\\sub-sherif_ses-S003_task-Baseline_run-029_eeg.xdf',\n",
              " 'E:\\\\BCI\\\\A-Our Motor Data\\\\Good Data\\\\sub-Sherif\\\\s-00\\\\sub-sherif_ses-S003_task-Baseline_run-030_eeg.xdf',\n",
              " 'E:\\\\BCI\\\\A-Our Motor Data\\\\Good Data\\\\sub-Sherif\\\\s-00\\\\sub-sherif_ses-S003_task-Baseline_run-032_eeg.xdf',\n",
              " 'E:\\\\BCI\\\\A-Our Motor Data\\\\Good Data\\\\sub-Sherif\\\\s-00\\\\sub-sherif_ses-S003_task-Baseline_run-033_eeg.xdf',\n",
              " 'E:\\\\BCI\\\\A-Our Motor Data\\\\Good Data\\\\sub-Sherif\\\\s-00\\\\sub-sherif_ses-S003_task-Baseline_run-037_eeg.xdf',\n",
              " 'E:\\\\BCI\\\\A-Our Motor Data\\\\Good Data\\\\sub-Sherif\\\\s-00\\\\sub-sherif_ses-S003_task-Baseline_run-045_eeg.xdf',\n",
              " 'E:\\\\BCI\\\\A-Our Motor Data\\\\Good Data\\\\sub-Sherif\\\\s-00\\\\sub-sherif_ses-S003_task-Baseline_run-048_eeg.xdf',\n",
              " 'E:\\\\BCI\\\\A-Our Motor Data\\\\Good Data\\\\sub-Sherif\\\\s-00\\\\sub-sherif_ses-S003_task-Baseline_run-051_eeg.xdf',\n",
              " 'E:\\\\BCI\\\\A-Our Motor Data\\\\Good Data\\\\sub-Sherif\\\\s-00\\\\sub-sherif_ses-S003_task-Baseline_run-054_eeg.xdf',\n",
              " 'E:\\\\BCI\\\\A-Our Motor Data\\\\Good Data\\\\sub-Sherif\\\\s-00\\\\sub-sherif_ses-S003_task-Baseline_run-056_eeg.xdf',\n",
              " 'E:\\\\BCI\\\\A-Our Motor Data\\\\Good Data\\\\sub-Sherif\\\\s-00\\\\sub-sherif_ses-S003_task-Baseline_run-064_eeg.xdf',\n",
              " 'E:\\\\BCI\\\\A-Our Motor Data\\\\Good Data\\\\sub-Sherif\\\\s-00\\\\sub-sherif_ses-S003_task-Baseline_run-065_eeg.xdf',\n",
              " 'E:\\\\BCI\\\\A-Our Motor Data\\\\Good Data\\\\sub-Sherif\\\\s-00\\\\sub-sherif_ses-S003_task-Baseline_run-072_eeg.xdf',\n",
              " 'E:\\\\BCI\\\\A-Our Motor Data\\\\Good Data\\\\sub-Sherif\\\\s-00\\\\sub-sherif_ses-S003_task-Baseline_run-074_eeg.xdf',\n",
              " 'E:\\\\BCI\\\\A-Our Motor Data\\\\Good Data\\\\sub-Sherif\\\\s-00\\\\sub-sherif_ses-S003_task-Baseline_run-076_eeg.xdf',\n",
              " 'E:\\\\BCI\\\\A-Our Motor Data\\\\Good Data\\\\sub-Sherif\\\\s-00\\\\sub-sherif_ses-S003_task-Baseline_run-077_eeg.xdf',\n",
              " 'E:\\\\BCI\\\\A-Our Motor Data\\\\Good Data\\\\sub-Sherif\\\\s-00\\\\sub-sherif_ses-S003_task-Baseline_run-078_eeg.xdf',\n",
              " 'E:\\\\BCI\\\\A-Our Motor Data\\\\Good Data\\\\sub-Sherif\\\\s-00\\\\sub-sherif_ses-S003_task-Baseline_run-079_eeg.xdf',\n",
              " 'E:\\\\BCI\\\\A-Our Motor Data\\\\Good Data\\\\sub-Sherif\\\\s-00\\\\sub-sherif_ses-S003_task-Baseline_run-083_eeg.xdf',\n",
              " 'E:\\\\BCI\\\\A-Our Motor Data\\\\Good Data\\\\sub-Sherif\\\\s-00\\\\sub-sherif_ses-S003_task-Baseline_run-089_eeg.xdf',\n",
              " 'E:\\\\BCI\\\\A-Our Motor Data\\\\Good Data\\\\sub-Sherif\\\\s-00\\\\sub-sherif_ses-S003_task-Baseline_run-091_eeg.xdf',\n",
              " 'E:\\\\BCI\\\\A-Our Motor Data\\\\Good Data\\\\sub-Sherif\\\\s-00\\\\sub-sherif_ses-S003_task-Baseline_run-097_eeg.xdf',\n",
              " 'E:\\\\BCI\\\\A-Our Motor Data\\\\Good Data\\\\sub-Sherif\\\\s-00\\\\sub-sherif_ses-S003_task-Baseline_run-098_eeg.xdf',\n",
              " 'E:\\\\BCI\\\\A-Our Motor Data\\\\Good Data\\\\sub-Sherif\\\\s-00\\\\sub-sherif_ses-S003_task-Baseline_run-099_eeg.xdf',\n",
              " 'E:\\\\BCI\\\\A-Our Motor Data\\\\Good Data\\\\sub-Sherif\\\\s-00\\\\sub-sherif_ses-S003_task-Baseline_run-101_eeg.xdf',\n",
              " 'E:\\\\BCI\\\\A-Our Motor Data\\\\Good Data\\\\sub-Sherif\\\\s-00\\\\sub-sherif_ses-S003_task-Baseline_run-102_eeg.xdf',\n",
              " 'E:\\\\BCI\\\\A-Our Motor Data\\\\Good Data\\\\sub-Sherif\\\\s-00\\\\sub-sherif_ses-S003_task-Baseline_run-103_eeg.xdf',\n",
              " 'E:\\\\BCI\\\\A-Our Motor Data\\\\Good Data\\\\sub-Sherif\\\\s-00\\\\sub-sherif_ses-S003_task-Baseline_run-110_eeg.xdf',\n",
              " 'E:\\\\BCI\\\\A-Our Motor Data\\\\Good Data\\\\sub-Sherif\\\\s-00\\\\sub-sherif_ses-S003_task-Baseline_run-114_eeg.xdf',\n",
              " 'E:\\\\BCI\\\\A-Our Motor Data\\\\Good Data\\\\sub-Sherif\\\\s-00\\\\sub-sherif_ses-S003_task-Baseline_run-115_eeg.xdf',\n",
              " 'E:\\\\BCI\\\\A-Our Motor Data\\\\Good Data\\\\sub-Sherif\\\\s-00\\\\sub-sherif_ses-S003_task-Baseline_run-117_eeg.xdf',\n",
              " 'E:\\\\BCI\\\\A-Our Motor Data\\\\Good Data\\\\sub-Sherif\\\\s-00\\\\sub-sherif_ses-S003_task-Baseline_run-119_eeg.xdf',\n",
              " 'E:\\\\BCI\\\\A-Our Motor Data\\\\Good Data\\\\sub-Sherif\\\\s-00\\\\sub-sherif_ses-S003_task-Baseline_run-126_eeg.xdf',\n",
              " 'E:\\\\BCI\\\\A-Our Motor Data\\\\Good Data\\\\sub-Sherif\\\\s-00\\\\sub-sherif_ses-S003_task-Baseline_run-128_eeg.xdf',\n",
              " 'E:\\\\BCI\\\\A-Our Motor Data\\\\Good Data\\\\sub-Sherif\\\\s-00\\\\sub-sherif_ses-S003_task-Baseline_run-131_eeg.xdf',\n",
              " 'E:\\\\BCI\\\\A-Our Motor Data\\\\Good Data\\\\sub-Sherif\\\\s-00\\\\sub-sherif_ses-S003_task-Baseline_run-133_eeg.xdf',\n",
              " 'E:\\\\BCI\\\\A-Our Motor Data\\\\Good Data\\\\sub-Sherif\\\\s-00\\\\sub-sherif_ses-S003_task-Right Grasp_run-009_eeg.xdf',\n",
              " 'E:\\\\BCI\\\\A-Our Motor Data\\\\Good Data\\\\sub-Sherif\\\\s-00\\\\sub-sherif_ses-S003_task-Right Grasp_run-010_eeg.xdf',\n",
              " 'E:\\\\BCI\\\\A-Our Motor Data\\\\Good Data\\\\sub-Sherif\\\\s-00\\\\sub-sherif_ses-S003_task-Right Grasp_run-012_eeg.xdf',\n",
              " 'E:\\\\BCI\\\\A-Our Motor Data\\\\Good Data\\\\sub-Sherif\\\\s-00\\\\sub-sherif_ses-S003_task-Right Grasp_run-014_eeg.xdf',\n",
              " 'E:\\\\BCI\\\\A-Our Motor Data\\\\Good Data\\\\sub-Sherif\\\\s-00\\\\sub-sherif_ses-S003_task-Right Grasp_run-016_eeg.xdf',\n",
              " 'E:\\\\BCI\\\\A-Our Motor Data\\\\Good Data\\\\sub-Sherif\\\\s-00\\\\sub-sherif_ses-S003_task-Right Grasp_run-019_eeg.xdf',\n",
              " 'E:\\\\BCI\\\\A-Our Motor Data\\\\Good Data\\\\sub-Sherif\\\\s-00\\\\sub-sherif_ses-S003_task-Right Grasp_run-020_eeg.xdf',\n",
              " 'E:\\\\BCI\\\\A-Our Motor Data\\\\Good Data\\\\sub-Sherif\\\\s-00\\\\sub-sherif_ses-S003_task-Right Grasp_run-021_eeg.xdf',\n",
              " 'E:\\\\BCI\\\\A-Our Motor Data\\\\Good Data\\\\sub-Sherif\\\\s-00\\\\sub-sherif_ses-S003_task-Right Grasp_run-023_eeg.xdf',\n",
              " 'E:\\\\BCI\\\\A-Our Motor Data\\\\Good Data\\\\sub-Sherif\\\\s-00\\\\sub-sherif_ses-S003_task-Right Grasp_run-027_eeg.xdf',\n",
              " 'E:\\\\BCI\\\\A-Our Motor Data\\\\Good Data\\\\sub-Sherif\\\\s-00\\\\sub-sherif_ses-S003_task-Right Grasp_run-035_eeg.xdf',\n",
              " 'E:\\\\BCI\\\\A-Our Motor Data\\\\Good Data\\\\sub-Sherif\\\\s-00\\\\sub-sherif_ses-S003_task-Right Grasp_run-036_eeg.xdf',\n",
              " 'E:\\\\BCI\\\\A-Our Motor Data\\\\Good Data\\\\sub-Sherif\\\\s-00\\\\sub-sherif_ses-S003_task-Right Grasp_run-038_eeg.xdf',\n",
              " 'E:\\\\BCI\\\\A-Our Motor Data\\\\Good Data\\\\sub-Sherif\\\\s-00\\\\sub-sherif_ses-S003_task-Right Grasp_run-041_eeg.xdf',\n",
              " 'E:\\\\BCI\\\\A-Our Motor Data\\\\Good Data\\\\sub-Sherif\\\\s-00\\\\sub-sherif_ses-S003_task-Right Grasp_run-043_eeg.xdf',\n",
              " 'E:\\\\BCI\\\\A-Our Motor Data\\\\Good Data\\\\sub-Sherif\\\\s-00\\\\sub-sherif_ses-S003_task-Right Grasp_run-047_eeg.xdf',\n",
              " 'E:\\\\BCI\\\\A-Our Motor Data\\\\Good Data\\\\sub-Sherif\\\\s-00\\\\sub-sherif_ses-S003_task-Right Grasp_run-050_eeg.xdf',\n",
              " 'E:\\\\BCI\\\\A-Our Motor Data\\\\Good Data\\\\sub-Sherif\\\\s-00\\\\sub-sherif_ses-S003_task-Right Grasp_run-055_eeg.xdf',\n",
              " 'E:\\\\BCI\\\\A-Our Motor Data\\\\Good Data\\\\sub-Sherif\\\\s-00\\\\sub-sherif_ses-S003_task-Right Grasp_run-057_eeg.xdf',\n",
              " 'E:\\\\BCI\\\\A-Our Motor Data\\\\Good Data\\\\sub-Sherif\\\\s-00\\\\sub-sherif_ses-S003_task-Right Grasp_run-058_eeg.xdf',\n",
              " 'E:\\\\BCI\\\\A-Our Motor Data\\\\Good Data\\\\sub-Sherif\\\\s-00\\\\sub-sherif_ses-S003_task-Right Grasp_run-059_eeg.xdf',\n",
              " 'E:\\\\BCI\\\\A-Our Motor Data\\\\Good Data\\\\sub-Sherif\\\\s-00\\\\sub-sherif_ses-S003_task-Right Grasp_run-060_eeg.xdf',\n",
              " 'E:\\\\BCI\\\\A-Our Motor Data\\\\Good Data\\\\sub-Sherif\\\\s-00\\\\sub-sherif_ses-S003_task-Right Grasp_run-082_eeg.xdf',\n",
              " 'E:\\\\BCI\\\\A-Our Motor Data\\\\Good Data\\\\sub-Sherif\\\\s-00\\\\sub-sherif_ses-S003_task-Right Grasp_run-084_eeg.xdf',\n",
              " 'E:\\\\BCI\\\\A-Our Motor Data\\\\Good Data\\\\sub-Sherif\\\\s-00\\\\sub-sherif_ses-S003_task-Right Grasp_run-085_eeg.xdf',\n",
              " 'E:\\\\BCI\\\\A-Our Motor Data\\\\Good Data\\\\sub-Sherif\\\\s-00\\\\sub-sherif_ses-S003_task-Right Grasp_run-087_eeg.xdf',\n",
              " 'E:\\\\BCI\\\\A-Our Motor Data\\\\Good Data\\\\sub-Sherif\\\\s-00\\\\sub-sherif_ses-S003_task-Right Grasp_run-093_eeg.xdf',\n",
              " 'E:\\\\BCI\\\\A-Our Motor Data\\\\Good Data\\\\sub-Sherif\\\\s-00\\\\sub-sherif_ses-S003_task-Right Grasp_run-094_eeg.xdf',\n",
              " 'E:\\\\BCI\\\\A-Our Motor Data\\\\Good Data\\\\sub-Sherif\\\\s-00\\\\sub-sherif_ses-S003_task-Right Grasp_run-095_eeg.xdf',\n",
              " 'E:\\\\BCI\\\\A-Our Motor Data\\\\Good Data\\\\sub-Sherif\\\\s-00\\\\sub-sherif_ses-S003_task-Right Grasp_run-096_eeg.xdf',\n",
              " 'E:\\\\BCI\\\\A-Our Motor Data\\\\Good Data\\\\sub-Sherif\\\\s-00\\\\sub-sherif_ses-S003_task-Right Grasp_run-100_eeg.xdf',\n",
              " 'E:\\\\BCI\\\\A-Our Motor Data\\\\Good Data\\\\sub-Sherif\\\\s-00\\\\sub-sherif_ses-S003_task-Right Grasp_run-104_eeg.xdf',\n",
              " 'E:\\\\BCI\\\\A-Our Motor Data\\\\Good Data\\\\sub-Sherif\\\\s-00\\\\sub-sherif_ses-S003_task-Right Grasp_run-105_eeg.xdf',\n",
              " 'E:\\\\BCI\\\\A-Our Motor Data\\\\Good Data\\\\sub-Sherif\\\\s-00\\\\sub-sherif_ses-S003_task-Right Grasp_run-106_eeg.xdf',\n",
              " 'E:\\\\BCI\\\\A-Our Motor Data\\\\Good Data\\\\sub-Sherif\\\\s-00\\\\sub-sherif_ses-S003_task-Right Grasp_run-108_eeg.xdf',\n",
              " 'E:\\\\BCI\\\\A-Our Motor Data\\\\Good Data\\\\sub-Sherif\\\\s-00\\\\sub-sherif_ses-S003_task-Right Grasp_run-111_eeg.xdf',\n",
              " 'E:\\\\BCI\\\\A-Our Motor Data\\\\Good Data\\\\sub-Sherif\\\\s-00\\\\sub-sherif_ses-S003_task-Right Grasp_run-116_eeg.xdf',\n",
              " 'E:\\\\BCI\\\\A-Our Motor Data\\\\Good Data\\\\sub-Sherif\\\\s-00\\\\sub-sherif_ses-S003_task-Right Grasp_run-118_eeg.xdf',\n",
              " 'E:\\\\BCI\\\\A-Our Motor Data\\\\Good Data\\\\sub-Sherif\\\\s-00\\\\sub-sherif_ses-S003_task-Right Grasp_run-120_eeg.xdf',\n",
              " 'E:\\\\BCI\\\\A-Our Motor Data\\\\Good Data\\\\sub-Sherif\\\\s-00\\\\sub-sherif_ses-S003_task-Right Grasp_run-121_eeg.xdf',\n",
              " 'E:\\\\BCI\\\\A-Our Motor Data\\\\Good Data\\\\sub-Sherif\\\\s-00\\\\sub-sherif_ses-S003_task-Right Grasp_run-122_eeg.xdf',\n",
              " 'E:\\\\BCI\\\\A-Our Motor Data\\\\Good Data\\\\sub-Sherif\\\\s-00\\\\sub-sherif_ses-S003_task-Right Grasp_run-123_eeg.xdf',\n",
              " 'E:\\\\BCI\\\\A-Our Motor Data\\\\Good Data\\\\sub-Sherif\\\\s-00\\\\sub-sherif_ses-S003_task-Right Grasp_run-129_eeg.xdf',\n",
              " 'E:\\\\BCI\\\\A-Our Motor Data\\\\Good Data\\\\sub-Sherif\\\\s-00\\\\sub-sherif_ses-S003_task-Right Grasp_run-132_eeg.xdf',\n",
              " 'E:\\\\BCI\\\\A-Our Motor Data\\\\Good Data\\\\sub-Sherif\\\\s-00\\\\sub-sherif_ses-S003_task-Right Grasp_run-134_eeg.xdf',\n",
              " 'E:\\\\BCI\\\\A-Our Motor Data\\\\Good Data\\\\sub-Sherif\\\\s-00\\\\sub-sherif_ses-S003_task-Right Release_run-001_eeg.xdf',\n",
              " 'E:\\\\BCI\\\\A-Our Motor Data\\\\Good Data\\\\sub-Sherif\\\\s-00\\\\sub-sherif_ses-S003_task-Right Release_run-003_eeg.xdf',\n",
              " 'E:\\\\BCI\\\\A-Our Motor Data\\\\Good Data\\\\sub-Sherif\\\\s-00\\\\sub-sherif_ses-S003_task-Right Release_run-004_eeg.xdf',\n",
              " 'E:\\\\BCI\\\\A-Our Motor Data\\\\Good Data\\\\sub-Sherif\\\\s-00\\\\sub-sherif_ses-S003_task-Right Release_run-006_eeg.xdf',\n",
              " 'E:\\\\BCI\\\\A-Our Motor Data\\\\Good Data\\\\sub-Sherif\\\\s-00\\\\sub-sherif_ses-S003_task-Right Release_run-008_eeg.xdf',\n",
              " 'E:\\\\BCI\\\\A-Our Motor Data\\\\Good Data\\\\sub-Sherif\\\\s-00\\\\sub-sherif_ses-S003_task-Right Release_run-013_eeg.xdf',\n",
              " 'E:\\\\BCI\\\\A-Our Motor Data\\\\Good Data\\\\sub-Sherif\\\\s-00\\\\sub-sherif_ses-S003_task-Right Release_run-018_eeg.xdf',\n",
              " 'E:\\\\BCI\\\\A-Our Motor Data\\\\Good Data\\\\sub-Sherif\\\\s-00\\\\sub-sherif_ses-S003_task-Right Release_run-025_eeg.xdf',\n",
              " 'E:\\\\BCI\\\\A-Our Motor Data\\\\Good Data\\\\sub-Sherif\\\\s-00\\\\sub-sherif_ses-S003_task-Right Release_run-031_eeg.xdf',\n",
              " 'E:\\\\BCI\\\\A-Our Motor Data\\\\Good Data\\\\sub-Sherif\\\\s-00\\\\sub-sherif_ses-S003_task-Right Release_run-034_eeg.xdf',\n",
              " 'E:\\\\BCI\\\\A-Our Motor Data\\\\Good Data\\\\sub-Sherif\\\\s-00\\\\sub-sherif_ses-S003_task-Right Release_run-039_eeg.xdf',\n",
              " 'E:\\\\BCI\\\\A-Our Motor Data\\\\Good Data\\\\sub-Sherif\\\\s-00\\\\sub-sherif_ses-S003_task-Right Release_run-040_eeg.xdf',\n",
              " 'E:\\\\BCI\\\\A-Our Motor Data\\\\Good Data\\\\sub-Sherif\\\\s-00\\\\sub-sherif_ses-S003_task-Right Release_run-042_eeg.xdf',\n",
              " 'E:\\\\BCI\\\\A-Our Motor Data\\\\Good Data\\\\sub-Sherif\\\\s-00\\\\sub-sherif_ses-S003_task-Right Release_run-044_eeg.xdf',\n",
              " 'E:\\\\BCI\\\\A-Our Motor Data\\\\Good Data\\\\sub-Sherif\\\\s-00\\\\sub-sherif_ses-S003_task-Right Release_run-046_eeg.xdf',\n",
              " 'E:\\\\BCI\\\\A-Our Motor Data\\\\Good Data\\\\sub-Sherif\\\\s-00\\\\sub-sherif_ses-S003_task-Right Release_run-049_eeg.xdf',\n",
              " 'E:\\\\BCI\\\\A-Our Motor Data\\\\Good Data\\\\sub-Sherif\\\\s-00\\\\sub-sherif_ses-S003_task-Right Release_run-052_eeg.xdf',\n",
              " 'E:\\\\BCI\\\\A-Our Motor Data\\\\Good Data\\\\sub-Sherif\\\\s-00\\\\sub-sherif_ses-S003_task-Right Release_run-053_eeg.xdf',\n",
              " 'E:\\\\BCI\\\\A-Our Motor Data\\\\Good Data\\\\sub-Sherif\\\\s-00\\\\sub-sherif_ses-S003_task-Right Release_run-061_eeg.xdf',\n",
              " 'E:\\\\BCI\\\\A-Our Motor Data\\\\Good Data\\\\sub-Sherif\\\\s-00\\\\sub-sherif_ses-S003_task-Right Release_run-062_eeg.xdf',\n",
              " 'E:\\\\BCI\\\\A-Our Motor Data\\\\Good Data\\\\sub-Sherif\\\\s-00\\\\sub-sherif_ses-S003_task-Right Release_run-063_eeg.xdf',\n",
              " 'E:\\\\BCI\\\\A-Our Motor Data\\\\Good Data\\\\sub-Sherif\\\\s-00\\\\sub-sherif_ses-S003_task-Right Release_run-066_eeg.xdf',\n",
              " 'E:\\\\BCI\\\\A-Our Motor Data\\\\Good Data\\\\sub-Sherif\\\\s-00\\\\sub-sherif_ses-S003_task-Right Release_run-067_eeg.xdf',\n",
              " 'E:\\\\BCI\\\\A-Our Motor Data\\\\Good Data\\\\sub-Sherif\\\\s-00\\\\sub-sherif_ses-S003_task-Right Release_run-068_eeg.xdf',\n",
              " 'E:\\\\BCI\\\\A-Our Motor Data\\\\Good Data\\\\sub-Sherif\\\\s-00\\\\sub-sherif_ses-S003_task-Right Release_run-069_eeg.xdf',\n",
              " 'E:\\\\BCI\\\\A-Our Motor Data\\\\Good Data\\\\sub-Sherif\\\\s-00\\\\sub-sherif_ses-S003_task-Right Release_run-070_eeg.xdf',\n",
              " 'E:\\\\BCI\\\\A-Our Motor Data\\\\Good Data\\\\sub-Sherif\\\\s-00\\\\sub-sherif_ses-S003_task-Right Release_run-071_eeg.xdf',\n",
              " 'E:\\\\BCI\\\\A-Our Motor Data\\\\Good Data\\\\sub-Sherif\\\\s-00\\\\sub-sherif_ses-S003_task-Right Release_run-073_eeg.xdf',\n",
              " 'E:\\\\BCI\\\\A-Our Motor Data\\\\Good Data\\\\sub-Sherif\\\\s-00\\\\sub-sherif_ses-S003_task-Right Release_run-075_eeg.xdf',\n",
              " 'E:\\\\BCI\\\\A-Our Motor Data\\\\Good Data\\\\sub-Sherif\\\\s-00\\\\sub-sherif_ses-S003_task-Right Release_run-080_eeg.xdf',\n",
              " 'E:\\\\BCI\\\\A-Our Motor Data\\\\Good Data\\\\sub-Sherif\\\\s-00\\\\sub-sherif_ses-S003_task-Right Release_run-081_eeg.xdf',\n",
              " 'E:\\\\BCI\\\\A-Our Motor Data\\\\Good Data\\\\sub-Sherif\\\\s-00\\\\sub-sherif_ses-S003_task-Right Release_run-086_eeg.xdf',\n",
              " 'E:\\\\BCI\\\\A-Our Motor Data\\\\Good Data\\\\sub-Sherif\\\\s-00\\\\sub-sherif_ses-S003_task-Right Release_run-088_eeg.xdf',\n",
              " 'E:\\\\BCI\\\\A-Our Motor Data\\\\Good Data\\\\sub-Sherif\\\\s-00\\\\sub-sherif_ses-S003_task-Right Release_run-090_eeg.xdf',\n",
              " 'E:\\\\BCI\\\\A-Our Motor Data\\\\Good Data\\\\sub-Sherif\\\\s-00\\\\sub-sherif_ses-S003_task-Right Release_run-092_eeg.xdf',\n",
              " 'E:\\\\BCI\\\\A-Our Motor Data\\\\Good Data\\\\sub-Sherif\\\\s-00\\\\sub-sherif_ses-S003_task-Right Release_run-107_eeg.xdf',\n",
              " 'E:\\\\BCI\\\\A-Our Motor Data\\\\Good Data\\\\sub-Sherif\\\\s-00\\\\sub-sherif_ses-S003_task-Right Release_run-109_eeg.xdf',\n",
              " 'E:\\\\BCI\\\\A-Our Motor Data\\\\Good Data\\\\sub-Sherif\\\\s-00\\\\sub-sherif_ses-S003_task-Right Release_run-112_eeg.xdf',\n",
              " 'E:\\\\BCI\\\\A-Our Motor Data\\\\Good Data\\\\sub-Sherif\\\\s-00\\\\sub-sherif_ses-S003_task-Right Release_run-113_eeg.xdf',\n",
              " 'E:\\\\BCI\\\\A-Our Motor Data\\\\Good Data\\\\sub-Sherif\\\\s-00\\\\sub-sherif_ses-S003_task-Right Release_run-124_eeg.xdf',\n",
              " 'E:\\\\BCI\\\\A-Our Motor Data\\\\Good Data\\\\sub-Sherif\\\\s-00\\\\sub-sherif_ses-S003_task-Right Release_run-125_eeg.xdf',\n",
              " 'E:\\\\BCI\\\\A-Our Motor Data\\\\Good Data\\\\sub-Sherif\\\\s-00\\\\sub-sherif_ses-S003_task-Right Release_run-127_eeg.xdf',\n",
              " 'E:\\\\BCI\\\\A-Our Motor Data\\\\Good Data\\\\sub-Sherif\\\\s-00\\\\sub-sherif_ses-S003_task-Right Release_run-130_eeg.xdf',\n",
              " 'E:\\\\BCI\\\\A-Our Motor Data\\\\Good Data\\\\sub-Sherif\\\\s-00\\\\sub-sherif_ses-S003_task-Right Release_run-135_eeg.xdf',\n",
              " 'E:\\\\BCI\\\\A-Our Motor Data\\\\Good Data\\\\sub-Sherif\\\\s-00\\\\sub-sherif_ses-S003_task-Right Release_run-200_eeg.xdf']"
            ]
          },
          "execution_count": 10,
          "metadata": {},
          "output_type": "execute_result"
        }
      ],
      "source": [
        "files"
      ]
    },
    {
      "cell_type": "code",
      "execution_count": 11,
      "metadata": {},
      "outputs": [
        {
          "name": "stdout",
          "output_type": "stream",
          "text": [
            "Number of filtered paths: 150\n"
          ]
        },
        {
          "data": {
            "text/plain": [
              "['E:\\\\BCI\\\\A-Our Motor Data\\\\Good Data\\\\sub-Sherif\\\\s-00\\\\sub-sherif_ses-S002_task-Right Grasp_run-003_eeg.xdf',\n",
              " 'E:\\\\BCI\\\\A-Our Motor Data\\\\Good Data\\\\sub-Sherif\\\\s-00\\\\sub-sherif_ses-S002_task-Right Grasp_run-007_eeg.xdf',\n",
              " 'E:\\\\BCI\\\\A-Our Motor Data\\\\Good Data\\\\sub-Sherif\\\\s-00\\\\sub-sherif_ses-S002_task-Right Grasp_run-008_eeg.xdf',\n",
              " 'E:\\\\BCI\\\\A-Our Motor Data\\\\Good Data\\\\sub-Sherif\\\\s-00\\\\sub-sherif_ses-S002_task-Right Grasp_run-011_eeg.xdf',\n",
              " 'E:\\\\BCI\\\\A-Our Motor Data\\\\Good Data\\\\sub-Sherif\\\\s-00\\\\sub-sherif_ses-S002_task-Right Grasp_run-012_eeg.xdf',\n",
              " 'E:\\\\BCI\\\\A-Our Motor Data\\\\Good Data\\\\sub-Sherif\\\\s-00\\\\sub-sherif_ses-S002_task-Right Grasp_run-016_eeg.xdf',\n",
              " 'E:\\\\BCI\\\\A-Our Motor Data\\\\Good Data\\\\sub-Sherif\\\\s-00\\\\sub-sherif_ses-S002_task-Right Grasp_run-017_eeg.xdf',\n",
              " 'E:\\\\BCI\\\\A-Our Motor Data\\\\Good Data\\\\sub-Sherif\\\\s-00\\\\sub-sherif_ses-S002_task-Right Grasp_run-023_eeg.xdf',\n",
              " 'E:\\\\BCI\\\\A-Our Motor Data\\\\Good Data\\\\sub-Sherif\\\\s-00\\\\sub-sherif_ses-S002_task-Right Grasp_run-025_eeg.xdf',\n",
              " 'E:\\\\BCI\\\\A-Our Motor Data\\\\Good Data\\\\sub-Sherif\\\\s-00\\\\sub-sherif_ses-S002_task-Right Grasp_run-028_eeg.xdf',\n",
              " 'E:\\\\BCI\\\\A-Our Motor Data\\\\Good Data\\\\sub-Sherif\\\\s-00\\\\sub-sherif_ses-S002_task-Right Grasp_run-037_eeg.xdf',\n",
              " 'E:\\\\BCI\\\\A-Our Motor Data\\\\Good Data\\\\sub-Sherif\\\\s-00\\\\sub-sherif_ses-S002_task-Right Grasp_run-039_eeg.xdf',\n",
              " 'E:\\\\BCI\\\\A-Our Motor Data\\\\Good Data\\\\sub-Sherif\\\\s-00\\\\sub-sherif_ses-S002_task-Right Grasp_run-044_eeg.xdf',\n",
              " 'E:\\\\BCI\\\\A-Our Motor Data\\\\Good Data\\\\sub-Sherif\\\\s-00\\\\sub-sherif_ses-S002_task-Right Grasp_run-046_eeg.xdf',\n",
              " 'E:\\\\BCI\\\\A-Our Motor Data\\\\Good Data\\\\sub-Sherif\\\\s-00\\\\sub-sherif_ses-S002_task-Right Grasp_run-049_eeg.xdf',\n",
              " 'E:\\\\BCI\\\\A-Our Motor Data\\\\Good Data\\\\sub-Sherif\\\\s-00\\\\sub-sherif_ses-S002_task-Right Grasp_run-050_eeg.xdf',\n",
              " 'E:\\\\BCI\\\\A-Our Motor Data\\\\Good Data\\\\sub-Sherif\\\\s-00\\\\sub-sherif_ses-S002_task-Right Grasp_run-051_eeg.xdf',\n",
              " 'E:\\\\BCI\\\\A-Our Motor Data\\\\Good Data\\\\sub-Sherif\\\\s-00\\\\sub-sherif_ses-S002_task-Right Grasp_run-054_eeg.xdf',\n",
              " 'E:\\\\BCI\\\\A-Our Motor Data\\\\Good Data\\\\sub-Sherif\\\\s-00\\\\sub-sherif_ses-S002_task-Right Grasp_run-055_eeg.xdf',\n",
              " 'E:\\\\BCI\\\\A-Our Motor Data\\\\Good Data\\\\sub-Sherif\\\\s-00\\\\sub-sherif_ses-S002_task-Right Grasp_run-056_eeg.xdf',\n",
              " 'E:\\\\BCI\\\\A-Our Motor Data\\\\Good Data\\\\sub-Sherif\\\\s-00\\\\sub-sherif_ses-S002_task-Right Grasp_run-057_eeg.xdf',\n",
              " 'E:\\\\BCI\\\\A-Our Motor Data\\\\Good Data\\\\sub-Sherif\\\\s-00\\\\sub-sherif_ses-S002_task-Right Grasp_run-058_eeg.xdf',\n",
              " 'E:\\\\BCI\\\\A-Our Motor Data\\\\Good Data\\\\sub-Sherif\\\\s-00\\\\sub-sherif_ses-S002_task-Right Grasp_run-059_eeg.xdf',\n",
              " 'E:\\\\BCI\\\\A-Our Motor Data\\\\Good Data\\\\sub-Sherif\\\\s-00\\\\sub-sherif_ses-S002_task-Right Grasp_run-061_eeg.xdf',\n",
              " 'E:\\\\BCI\\\\A-Our Motor Data\\\\Good Data\\\\sub-Sherif\\\\s-00\\\\sub-sherif_ses-S002_task-Right Grasp_run-063_eeg.xdf',\n",
              " 'E:\\\\BCI\\\\A-Our Motor Data\\\\Good Data\\\\sub-Sherif\\\\s-00\\\\sub-sherif_ses-S002_task-Right Grasp_run-069_eeg.xdf',\n",
              " 'E:\\\\BCI\\\\A-Our Motor Data\\\\Good Data\\\\sub-Sherif\\\\s-00\\\\sub-sherif_ses-S002_task-Right Grasp_run-072_eeg.xdf',\n",
              " 'E:\\\\BCI\\\\A-Our Motor Data\\\\Good Data\\\\sub-Sherif\\\\s-00\\\\sub-sherif_ses-S002_task-Right Grasp_run-074_eeg.xdf',\n",
              " 'E:\\\\BCI\\\\A-Our Motor Data\\\\Good Data\\\\sub-Sherif\\\\s-00\\\\sub-sherif_ses-S002_task-Right Grasp_run-078_eeg.xdf',\n",
              " 'E:\\\\BCI\\\\A-Our Motor Data\\\\Good Data\\\\sub-Sherif\\\\s-00\\\\sub-sherif_ses-S002_task-Right Grasp_run-085_eeg.xdf',\n",
              " 'E:\\\\BCI\\\\A-Our Motor Data\\\\Good Data\\\\sub-Sherif\\\\s-00\\\\sub-sherif_ses-S002_task-Right Release_run-001_eeg.xdf',\n",
              " 'E:\\\\BCI\\\\A-Our Motor Data\\\\Good Data\\\\sub-Sherif\\\\s-00\\\\sub-sherif_ses-S002_task-Right Release_run-002_eeg.xdf',\n",
              " 'E:\\\\BCI\\\\A-Our Motor Data\\\\Good Data\\\\sub-Sherif\\\\s-00\\\\sub-sherif_ses-S002_task-Right Release_run-004_eeg.xdf',\n",
              " 'E:\\\\BCI\\\\A-Our Motor Data\\\\Good Data\\\\sub-Sherif\\\\s-00\\\\sub-sherif_ses-S002_task-Right Release_run-005_eeg.xdf',\n",
              " 'E:\\\\BCI\\\\A-Our Motor Data\\\\Good Data\\\\sub-Sherif\\\\s-00\\\\sub-sherif_ses-S002_task-Right Release_run-009_eeg.xdf',\n",
              " 'E:\\\\BCI\\\\A-Our Motor Data\\\\Good Data\\\\sub-Sherif\\\\s-00\\\\sub-sherif_ses-S002_task-Right Release_run-015_eeg.xdf',\n",
              " 'E:\\\\BCI\\\\A-Our Motor Data\\\\Good Data\\\\sub-Sherif\\\\s-00\\\\sub-sherif_ses-S002_task-Right Release_run-018_eeg.xdf',\n",
              " 'E:\\\\BCI\\\\A-Our Motor Data\\\\Good Data\\\\sub-Sherif\\\\s-00\\\\sub-sherif_ses-S002_task-Right Release_run-021_eeg.xdf',\n",
              " 'E:\\\\BCI\\\\A-Our Motor Data\\\\Good Data\\\\sub-Sherif\\\\s-00\\\\sub-sherif_ses-S002_task-Right Release_run-024_eeg.xdf',\n",
              " 'E:\\\\BCI\\\\A-Our Motor Data\\\\Good Data\\\\sub-Sherif\\\\s-00\\\\sub-sherif_ses-S002_task-Right Release_run-026_eeg.xdf',\n",
              " 'E:\\\\BCI\\\\A-Our Motor Data\\\\Good Data\\\\sub-Sherif\\\\s-00\\\\sub-sherif_ses-S002_task-Right Release_run-029_eeg.xdf',\n",
              " 'E:\\\\BCI\\\\A-Our Motor Data\\\\Good Data\\\\sub-Sherif\\\\s-00\\\\sub-sherif_ses-S002_task-Right Release_run-030_eeg.xdf',\n",
              " 'E:\\\\BCI\\\\A-Our Motor Data\\\\Good Data\\\\sub-Sherif\\\\s-00\\\\sub-sherif_ses-S002_task-Right Release_run-031_eeg.xdf',\n",
              " 'E:\\\\BCI\\\\A-Our Motor Data\\\\Good Data\\\\sub-Sherif\\\\s-00\\\\sub-sherif_ses-S002_task-Right Release_run-033_eeg.xdf',\n",
              " 'E:\\\\BCI\\\\A-Our Motor Data\\\\Good Data\\\\sub-Sherif\\\\s-00\\\\sub-sherif_ses-S002_task-Right Release_run-035_eeg.xdf',\n",
              " 'E:\\\\BCI\\\\A-Our Motor Data\\\\Good Data\\\\sub-Sherif\\\\s-00\\\\sub-sherif_ses-S002_task-Right Release_run-036_eeg.xdf',\n",
              " 'E:\\\\BCI\\\\A-Our Motor Data\\\\Good Data\\\\sub-Sherif\\\\s-00\\\\sub-sherif_ses-S002_task-Right Release_run-045_eeg.xdf',\n",
              " 'E:\\\\BCI\\\\A-Our Motor Data\\\\Good Data\\\\sub-Sherif\\\\s-00\\\\sub-sherif_ses-S002_task-Right Release_run-048_eeg.xdf',\n",
              " 'E:\\\\BCI\\\\A-Our Motor Data\\\\Good Data\\\\sub-Sherif\\\\s-00\\\\sub-sherif_ses-S002_task-Right Release_run-053_eeg.xdf',\n",
              " 'E:\\\\BCI\\\\A-Our Motor Data\\\\Good Data\\\\sub-Sherif\\\\s-00\\\\sub-sherif_ses-S002_task-Right Release_run-060_eeg.xdf',\n",
              " 'E:\\\\BCI\\\\A-Our Motor Data\\\\Good Data\\\\sub-Sherif\\\\s-00\\\\sub-sherif_ses-S002_task-Right Release_run-064_eeg.xdf',\n",
              " 'E:\\\\BCI\\\\A-Our Motor Data\\\\Good Data\\\\sub-Sherif\\\\s-00\\\\sub-sherif_ses-S002_task-Right Release_run-066_eeg.xdf',\n",
              " 'E:\\\\BCI\\\\A-Our Motor Data\\\\Good Data\\\\sub-Sherif\\\\s-00\\\\sub-sherif_ses-S002_task-Right Release_run-070_eeg.xdf',\n",
              " 'E:\\\\BCI\\\\A-Our Motor Data\\\\Good Data\\\\sub-Sherif\\\\s-00\\\\sub-sherif_ses-S002_task-Right Release_run-073_eeg.xdf',\n",
              " 'E:\\\\BCI\\\\A-Our Motor Data\\\\Good Data\\\\sub-Sherif\\\\s-00\\\\sub-sherif_ses-S002_task-Right Release_run-075_eeg.xdf',\n",
              " 'E:\\\\BCI\\\\A-Our Motor Data\\\\Good Data\\\\sub-Sherif\\\\s-00\\\\sub-sherif_ses-S002_task-Right Release_run-077_eeg.xdf',\n",
              " 'E:\\\\BCI\\\\A-Our Motor Data\\\\Good Data\\\\sub-Sherif\\\\s-00\\\\sub-sherif_ses-S002_task-Right Release_run-081_eeg.xdf',\n",
              " 'E:\\\\BCI\\\\A-Our Motor Data\\\\Good Data\\\\sub-Sherif\\\\s-00\\\\sub-sherif_ses-S002_task-Right Release_run-087_eeg.xdf',\n",
              " 'E:\\\\BCI\\\\A-Our Motor Data\\\\Good Data\\\\sub-Sherif\\\\s-00\\\\sub-sherif_ses-S002_task-Right Release_run-088_eeg.xdf',\n",
              " 'E:\\\\BCI\\\\A-Our Motor Data\\\\Good Data\\\\sub-Sherif\\\\s-00\\\\sub-sherif_ses-S002_task-Right Release_run-090_eeg.xdf',\n",
              " 'E:\\\\BCI\\\\A-Our Motor Data\\\\Good Data\\\\sub-Sherif\\\\s-00\\\\sub-sherif_ses-S003_task-Right Grasp_run-009_eeg.xdf',\n",
              " 'E:\\\\BCI\\\\A-Our Motor Data\\\\Good Data\\\\sub-Sherif\\\\s-00\\\\sub-sherif_ses-S003_task-Right Grasp_run-010_eeg.xdf',\n",
              " 'E:\\\\BCI\\\\A-Our Motor Data\\\\Good Data\\\\sub-Sherif\\\\s-00\\\\sub-sherif_ses-S003_task-Right Grasp_run-012_eeg.xdf',\n",
              " 'E:\\\\BCI\\\\A-Our Motor Data\\\\Good Data\\\\sub-Sherif\\\\s-00\\\\sub-sherif_ses-S003_task-Right Grasp_run-014_eeg.xdf',\n",
              " 'E:\\\\BCI\\\\A-Our Motor Data\\\\Good Data\\\\sub-Sherif\\\\s-00\\\\sub-sherif_ses-S003_task-Right Grasp_run-016_eeg.xdf',\n",
              " 'E:\\\\BCI\\\\A-Our Motor Data\\\\Good Data\\\\sub-Sherif\\\\s-00\\\\sub-sherif_ses-S003_task-Right Grasp_run-019_eeg.xdf',\n",
              " 'E:\\\\BCI\\\\A-Our Motor Data\\\\Good Data\\\\sub-Sherif\\\\s-00\\\\sub-sherif_ses-S003_task-Right Grasp_run-020_eeg.xdf',\n",
              " 'E:\\\\BCI\\\\A-Our Motor Data\\\\Good Data\\\\sub-Sherif\\\\s-00\\\\sub-sherif_ses-S003_task-Right Grasp_run-021_eeg.xdf',\n",
              " 'E:\\\\BCI\\\\A-Our Motor Data\\\\Good Data\\\\sub-Sherif\\\\s-00\\\\sub-sherif_ses-S003_task-Right Grasp_run-023_eeg.xdf',\n",
              " 'E:\\\\BCI\\\\A-Our Motor Data\\\\Good Data\\\\sub-Sherif\\\\s-00\\\\sub-sherif_ses-S003_task-Right Grasp_run-027_eeg.xdf',\n",
              " 'E:\\\\BCI\\\\A-Our Motor Data\\\\Good Data\\\\sub-Sherif\\\\s-00\\\\sub-sherif_ses-S003_task-Right Grasp_run-035_eeg.xdf',\n",
              " 'E:\\\\BCI\\\\A-Our Motor Data\\\\Good Data\\\\sub-Sherif\\\\s-00\\\\sub-sherif_ses-S003_task-Right Grasp_run-036_eeg.xdf',\n",
              " 'E:\\\\BCI\\\\A-Our Motor Data\\\\Good Data\\\\sub-Sherif\\\\s-00\\\\sub-sherif_ses-S003_task-Right Grasp_run-038_eeg.xdf',\n",
              " 'E:\\\\BCI\\\\A-Our Motor Data\\\\Good Data\\\\sub-Sherif\\\\s-00\\\\sub-sherif_ses-S003_task-Right Grasp_run-041_eeg.xdf',\n",
              " 'E:\\\\BCI\\\\A-Our Motor Data\\\\Good Data\\\\sub-Sherif\\\\s-00\\\\sub-sherif_ses-S003_task-Right Grasp_run-043_eeg.xdf',\n",
              " 'E:\\\\BCI\\\\A-Our Motor Data\\\\Good Data\\\\sub-Sherif\\\\s-00\\\\sub-sherif_ses-S003_task-Right Grasp_run-047_eeg.xdf',\n",
              " 'E:\\\\BCI\\\\A-Our Motor Data\\\\Good Data\\\\sub-Sherif\\\\s-00\\\\sub-sherif_ses-S003_task-Right Grasp_run-050_eeg.xdf',\n",
              " 'E:\\\\BCI\\\\A-Our Motor Data\\\\Good Data\\\\sub-Sherif\\\\s-00\\\\sub-sherif_ses-S003_task-Right Grasp_run-055_eeg.xdf',\n",
              " 'E:\\\\BCI\\\\A-Our Motor Data\\\\Good Data\\\\sub-Sherif\\\\s-00\\\\sub-sherif_ses-S003_task-Right Grasp_run-057_eeg.xdf',\n",
              " 'E:\\\\BCI\\\\A-Our Motor Data\\\\Good Data\\\\sub-Sherif\\\\s-00\\\\sub-sherif_ses-S003_task-Right Grasp_run-058_eeg.xdf',\n",
              " 'E:\\\\BCI\\\\A-Our Motor Data\\\\Good Data\\\\sub-Sherif\\\\s-00\\\\sub-sherif_ses-S003_task-Right Grasp_run-059_eeg.xdf',\n",
              " 'E:\\\\BCI\\\\A-Our Motor Data\\\\Good Data\\\\sub-Sherif\\\\s-00\\\\sub-sherif_ses-S003_task-Right Grasp_run-060_eeg.xdf',\n",
              " 'E:\\\\BCI\\\\A-Our Motor Data\\\\Good Data\\\\sub-Sherif\\\\s-00\\\\sub-sherif_ses-S003_task-Right Grasp_run-082_eeg.xdf',\n",
              " 'E:\\\\BCI\\\\A-Our Motor Data\\\\Good Data\\\\sub-Sherif\\\\s-00\\\\sub-sherif_ses-S003_task-Right Grasp_run-084_eeg.xdf',\n",
              " 'E:\\\\BCI\\\\A-Our Motor Data\\\\Good Data\\\\sub-Sherif\\\\s-00\\\\sub-sherif_ses-S003_task-Right Grasp_run-085_eeg.xdf',\n",
              " 'E:\\\\BCI\\\\A-Our Motor Data\\\\Good Data\\\\sub-Sherif\\\\s-00\\\\sub-sherif_ses-S003_task-Right Grasp_run-087_eeg.xdf',\n",
              " 'E:\\\\BCI\\\\A-Our Motor Data\\\\Good Data\\\\sub-Sherif\\\\s-00\\\\sub-sherif_ses-S003_task-Right Grasp_run-093_eeg.xdf',\n",
              " 'E:\\\\BCI\\\\A-Our Motor Data\\\\Good Data\\\\sub-Sherif\\\\s-00\\\\sub-sherif_ses-S003_task-Right Grasp_run-094_eeg.xdf',\n",
              " 'E:\\\\BCI\\\\A-Our Motor Data\\\\Good Data\\\\sub-Sherif\\\\s-00\\\\sub-sherif_ses-S003_task-Right Grasp_run-095_eeg.xdf',\n",
              " 'E:\\\\BCI\\\\A-Our Motor Data\\\\Good Data\\\\sub-Sherif\\\\s-00\\\\sub-sherif_ses-S003_task-Right Grasp_run-096_eeg.xdf',\n",
              " 'E:\\\\BCI\\\\A-Our Motor Data\\\\Good Data\\\\sub-Sherif\\\\s-00\\\\sub-sherif_ses-S003_task-Right Grasp_run-100_eeg.xdf',\n",
              " 'E:\\\\BCI\\\\A-Our Motor Data\\\\Good Data\\\\sub-Sherif\\\\s-00\\\\sub-sherif_ses-S003_task-Right Grasp_run-104_eeg.xdf',\n",
              " 'E:\\\\BCI\\\\A-Our Motor Data\\\\Good Data\\\\sub-Sherif\\\\s-00\\\\sub-sherif_ses-S003_task-Right Grasp_run-105_eeg.xdf',\n",
              " 'E:\\\\BCI\\\\A-Our Motor Data\\\\Good Data\\\\sub-Sherif\\\\s-00\\\\sub-sherif_ses-S003_task-Right Grasp_run-106_eeg.xdf',\n",
              " 'E:\\\\BCI\\\\A-Our Motor Data\\\\Good Data\\\\sub-Sherif\\\\s-00\\\\sub-sherif_ses-S003_task-Right Grasp_run-108_eeg.xdf',\n",
              " 'E:\\\\BCI\\\\A-Our Motor Data\\\\Good Data\\\\sub-Sherif\\\\s-00\\\\sub-sherif_ses-S003_task-Right Grasp_run-111_eeg.xdf',\n",
              " 'E:\\\\BCI\\\\A-Our Motor Data\\\\Good Data\\\\sub-Sherif\\\\s-00\\\\sub-sherif_ses-S003_task-Right Grasp_run-116_eeg.xdf',\n",
              " 'E:\\\\BCI\\\\A-Our Motor Data\\\\Good Data\\\\sub-Sherif\\\\s-00\\\\sub-sherif_ses-S003_task-Right Grasp_run-118_eeg.xdf',\n",
              " 'E:\\\\BCI\\\\A-Our Motor Data\\\\Good Data\\\\sub-Sherif\\\\s-00\\\\sub-sherif_ses-S003_task-Right Grasp_run-120_eeg.xdf',\n",
              " 'E:\\\\BCI\\\\A-Our Motor Data\\\\Good Data\\\\sub-Sherif\\\\s-00\\\\sub-sherif_ses-S003_task-Right Grasp_run-121_eeg.xdf',\n",
              " 'E:\\\\BCI\\\\A-Our Motor Data\\\\Good Data\\\\sub-Sherif\\\\s-00\\\\sub-sherif_ses-S003_task-Right Grasp_run-122_eeg.xdf',\n",
              " 'E:\\\\BCI\\\\A-Our Motor Data\\\\Good Data\\\\sub-Sherif\\\\s-00\\\\sub-sherif_ses-S003_task-Right Grasp_run-123_eeg.xdf',\n",
              " 'E:\\\\BCI\\\\A-Our Motor Data\\\\Good Data\\\\sub-Sherif\\\\s-00\\\\sub-sherif_ses-S003_task-Right Grasp_run-129_eeg.xdf',\n",
              " 'E:\\\\BCI\\\\A-Our Motor Data\\\\Good Data\\\\sub-Sherif\\\\s-00\\\\sub-sherif_ses-S003_task-Right Grasp_run-132_eeg.xdf',\n",
              " 'E:\\\\BCI\\\\A-Our Motor Data\\\\Good Data\\\\sub-Sherif\\\\s-00\\\\sub-sherif_ses-S003_task-Right Grasp_run-134_eeg.xdf',\n",
              " 'E:\\\\BCI\\\\A-Our Motor Data\\\\Good Data\\\\sub-Sherif\\\\s-00\\\\sub-sherif_ses-S003_task-Right Release_run-001_eeg.xdf',\n",
              " 'E:\\\\BCI\\\\A-Our Motor Data\\\\Good Data\\\\sub-Sherif\\\\s-00\\\\sub-sherif_ses-S003_task-Right Release_run-003_eeg.xdf',\n",
              " 'E:\\\\BCI\\\\A-Our Motor Data\\\\Good Data\\\\sub-Sherif\\\\s-00\\\\sub-sherif_ses-S003_task-Right Release_run-004_eeg.xdf',\n",
              " 'E:\\\\BCI\\\\A-Our Motor Data\\\\Good Data\\\\sub-Sherif\\\\s-00\\\\sub-sherif_ses-S003_task-Right Release_run-006_eeg.xdf',\n",
              " 'E:\\\\BCI\\\\A-Our Motor Data\\\\Good Data\\\\sub-Sherif\\\\s-00\\\\sub-sherif_ses-S003_task-Right Release_run-008_eeg.xdf',\n",
              " 'E:\\\\BCI\\\\A-Our Motor Data\\\\Good Data\\\\sub-Sherif\\\\s-00\\\\sub-sherif_ses-S003_task-Right Release_run-013_eeg.xdf',\n",
              " 'E:\\\\BCI\\\\A-Our Motor Data\\\\Good Data\\\\sub-Sherif\\\\s-00\\\\sub-sherif_ses-S003_task-Right Release_run-018_eeg.xdf',\n",
              " 'E:\\\\BCI\\\\A-Our Motor Data\\\\Good Data\\\\sub-Sherif\\\\s-00\\\\sub-sherif_ses-S003_task-Right Release_run-025_eeg.xdf',\n",
              " 'E:\\\\BCI\\\\A-Our Motor Data\\\\Good Data\\\\sub-Sherif\\\\s-00\\\\sub-sherif_ses-S003_task-Right Release_run-031_eeg.xdf',\n",
              " 'E:\\\\BCI\\\\A-Our Motor Data\\\\Good Data\\\\sub-Sherif\\\\s-00\\\\sub-sherif_ses-S003_task-Right Release_run-034_eeg.xdf',\n",
              " 'E:\\\\BCI\\\\A-Our Motor Data\\\\Good Data\\\\sub-Sherif\\\\s-00\\\\sub-sherif_ses-S003_task-Right Release_run-039_eeg.xdf',\n",
              " 'E:\\\\BCI\\\\A-Our Motor Data\\\\Good Data\\\\sub-Sherif\\\\s-00\\\\sub-sherif_ses-S003_task-Right Release_run-040_eeg.xdf',\n",
              " 'E:\\\\BCI\\\\A-Our Motor Data\\\\Good Data\\\\sub-Sherif\\\\s-00\\\\sub-sherif_ses-S003_task-Right Release_run-042_eeg.xdf',\n",
              " 'E:\\\\BCI\\\\A-Our Motor Data\\\\Good Data\\\\sub-Sherif\\\\s-00\\\\sub-sherif_ses-S003_task-Right Release_run-044_eeg.xdf',\n",
              " 'E:\\\\BCI\\\\A-Our Motor Data\\\\Good Data\\\\sub-Sherif\\\\s-00\\\\sub-sherif_ses-S003_task-Right Release_run-046_eeg.xdf',\n",
              " 'E:\\\\BCI\\\\A-Our Motor Data\\\\Good Data\\\\sub-Sherif\\\\s-00\\\\sub-sherif_ses-S003_task-Right Release_run-049_eeg.xdf',\n",
              " 'E:\\\\BCI\\\\A-Our Motor Data\\\\Good Data\\\\sub-Sherif\\\\s-00\\\\sub-sherif_ses-S003_task-Right Release_run-052_eeg.xdf',\n",
              " 'E:\\\\BCI\\\\A-Our Motor Data\\\\Good Data\\\\sub-Sherif\\\\s-00\\\\sub-sherif_ses-S003_task-Right Release_run-053_eeg.xdf',\n",
              " 'E:\\\\BCI\\\\A-Our Motor Data\\\\Good Data\\\\sub-Sherif\\\\s-00\\\\sub-sherif_ses-S003_task-Right Release_run-061_eeg.xdf',\n",
              " 'E:\\\\BCI\\\\A-Our Motor Data\\\\Good Data\\\\sub-Sherif\\\\s-00\\\\sub-sherif_ses-S003_task-Right Release_run-062_eeg.xdf',\n",
              " 'E:\\\\BCI\\\\A-Our Motor Data\\\\Good Data\\\\sub-Sherif\\\\s-00\\\\sub-sherif_ses-S003_task-Right Release_run-063_eeg.xdf',\n",
              " 'E:\\\\BCI\\\\A-Our Motor Data\\\\Good Data\\\\sub-Sherif\\\\s-00\\\\sub-sherif_ses-S003_task-Right Release_run-066_eeg.xdf',\n",
              " 'E:\\\\BCI\\\\A-Our Motor Data\\\\Good Data\\\\sub-Sherif\\\\s-00\\\\sub-sherif_ses-S003_task-Right Release_run-067_eeg.xdf',\n",
              " 'E:\\\\BCI\\\\A-Our Motor Data\\\\Good Data\\\\sub-Sherif\\\\s-00\\\\sub-sherif_ses-S003_task-Right Release_run-068_eeg.xdf',\n",
              " 'E:\\\\BCI\\\\A-Our Motor Data\\\\Good Data\\\\sub-Sherif\\\\s-00\\\\sub-sherif_ses-S003_task-Right Release_run-069_eeg.xdf',\n",
              " 'E:\\\\BCI\\\\A-Our Motor Data\\\\Good Data\\\\sub-Sherif\\\\s-00\\\\sub-sherif_ses-S003_task-Right Release_run-070_eeg.xdf',\n",
              " 'E:\\\\BCI\\\\A-Our Motor Data\\\\Good Data\\\\sub-Sherif\\\\s-00\\\\sub-sherif_ses-S003_task-Right Release_run-071_eeg.xdf',\n",
              " 'E:\\\\BCI\\\\A-Our Motor Data\\\\Good Data\\\\sub-Sherif\\\\s-00\\\\sub-sherif_ses-S003_task-Right Release_run-073_eeg.xdf',\n",
              " 'E:\\\\BCI\\\\A-Our Motor Data\\\\Good Data\\\\sub-Sherif\\\\s-00\\\\sub-sherif_ses-S003_task-Right Release_run-075_eeg.xdf',\n",
              " 'E:\\\\BCI\\\\A-Our Motor Data\\\\Good Data\\\\sub-Sherif\\\\s-00\\\\sub-sherif_ses-S003_task-Right Release_run-080_eeg.xdf',\n",
              " 'E:\\\\BCI\\\\A-Our Motor Data\\\\Good Data\\\\sub-Sherif\\\\s-00\\\\sub-sherif_ses-S003_task-Right Release_run-081_eeg.xdf',\n",
              " 'E:\\\\BCI\\\\A-Our Motor Data\\\\Good Data\\\\sub-Sherif\\\\s-00\\\\sub-sherif_ses-S003_task-Right Release_run-086_eeg.xdf',\n",
              " 'E:\\\\BCI\\\\A-Our Motor Data\\\\Good Data\\\\sub-Sherif\\\\s-00\\\\sub-sherif_ses-S003_task-Right Release_run-088_eeg.xdf',\n",
              " 'E:\\\\BCI\\\\A-Our Motor Data\\\\Good Data\\\\sub-Sherif\\\\s-00\\\\sub-sherif_ses-S003_task-Right Release_run-090_eeg.xdf',\n",
              " 'E:\\\\BCI\\\\A-Our Motor Data\\\\Good Data\\\\sub-Sherif\\\\s-00\\\\sub-sherif_ses-S003_task-Right Release_run-092_eeg.xdf',\n",
              " 'E:\\\\BCI\\\\A-Our Motor Data\\\\Good Data\\\\sub-Sherif\\\\s-00\\\\sub-sherif_ses-S003_task-Right Release_run-107_eeg.xdf',\n",
              " 'E:\\\\BCI\\\\A-Our Motor Data\\\\Good Data\\\\sub-Sherif\\\\s-00\\\\sub-sherif_ses-S003_task-Right Release_run-109_eeg.xdf',\n",
              " 'E:\\\\BCI\\\\A-Our Motor Data\\\\Good Data\\\\sub-Sherif\\\\s-00\\\\sub-sherif_ses-S003_task-Right Release_run-112_eeg.xdf',\n",
              " 'E:\\\\BCI\\\\A-Our Motor Data\\\\Good Data\\\\sub-Sherif\\\\s-00\\\\sub-sherif_ses-S003_task-Right Release_run-113_eeg.xdf',\n",
              " 'E:\\\\BCI\\\\A-Our Motor Data\\\\Good Data\\\\sub-Sherif\\\\s-00\\\\sub-sherif_ses-S003_task-Right Release_run-124_eeg.xdf',\n",
              " 'E:\\\\BCI\\\\A-Our Motor Data\\\\Good Data\\\\sub-Sherif\\\\s-00\\\\sub-sherif_ses-S003_task-Right Release_run-125_eeg.xdf',\n",
              " 'E:\\\\BCI\\\\A-Our Motor Data\\\\Good Data\\\\sub-Sherif\\\\s-00\\\\sub-sherif_ses-S003_task-Right Release_run-127_eeg.xdf',\n",
              " 'E:\\\\BCI\\\\A-Our Motor Data\\\\Good Data\\\\sub-Sherif\\\\s-00\\\\sub-sherif_ses-S003_task-Right Release_run-130_eeg.xdf',\n",
              " 'E:\\\\BCI\\\\A-Our Motor Data\\\\Good Data\\\\sub-Sherif\\\\s-00\\\\sub-sherif_ses-S003_task-Right Release_run-135_eeg.xdf',\n",
              " 'E:\\\\BCI\\\\A-Our Motor Data\\\\Good Data\\\\sub-Sherif\\\\s-00\\\\sub-sherif_ses-S003_task-Right Release_run-200_eeg.xdf']"
            ]
          },
          "execution_count": 11,
          "metadata": {},
          "output_type": "execute_result"
        }
      ],
      "source": [
        "# Filter the paths\n",
        "filtered_paths = [path for path in files if ('Right Grasp' in path or 'Right Release' in path) and \n",
        "                                            ('B_Right Grasp' not in path and 'B_Right Release' not in path)]\n",
        "\n",
        "# filtered_paths = [path for path in files if ('Right Grasp' in path or 'Right Release' in path or 'Baseline' in path) and \n",
        "#                                             ('B_Right Grasp' not in path and 'B_Right Release' not in path and 'B_Baseline' not in path)]\n",
        "\n",
        "# Print the number of filtered paths and the paths themselves\n",
        "print(f'Number of filtered paths: {len(filtered_paths)}')\n",
        "filtered_paths"
      ]
    },
    {
      "cell_type": "code",
      "execution_count": 12,
      "metadata": {
        "id": "HLmo38MMoZh0"
      },
      "outputs": [
        {
          "data": {
            "text/plain": [
              "150"
            ]
          },
          "execution_count": 12,
          "metadata": {},
          "output_type": "execute_result"
        }
      ],
      "source": [
        "all_files = filtered_paths\n",
        "len(all_files)"
      ]
    },
    {
      "cell_type": "markdown",
      "metadata": {
        "id": "Bpe1FMFI9HBC"
      },
      "source": [
        "# from XDF to MNE"
      ]
    },
    {
      "cell_type": "code",
      "execution_count": 13,
      "metadata": {
        "id": "6RJZO_2ri6xS"
      },
      "outputs": [],
      "source": [
        "# read stream from xdf\n",
        "streams, header = pyxdf.load_xdf(all_files[0])\n",
        "# extract data\n",
        "data = streams[0][\"time_series\"].T\n",
        "# check that it is 9 channels\n",
        "# assert data.shape[0] == 9 # 9 raw EEG channels\n",
        "\n",
        "#get channels count\n",
        "ch_count = int(streams[0][\"info\"][\"channel_count\"][0])\n",
        "# extract channels names\n",
        "# ch_names = []\n",
        "# for i in range(ch_count):\n",
        "#   ch_names.append(streams[0][\"info\"][\"desc\"][0][\"channels\"][0][\"channel\"][i][\"label\"][0])\n",
        "# extract sampling ratw\n",
        "fs = float(streams[0][\"info\"][\"nominal_srate\"][0])\n",
        "# create info\n",
        "# info = mne.create_info(ch_names, fs, \"eeg\")"
      ]
    },
    {
      "cell_type": "code",
      "execution_count": 14,
      "metadata": {
        "id": "sdTPbcC7TZyI"
      },
      "outputs": [],
      "source": [
        "# extract channels names\n",
        "ch_names = []\n",
        "for i in range(ch_count):\n",
        "  ch_name = streams[0][\"info\"][\"desc\"][0][\"channels\"][0][\"channel\"][i][\"label\"][0]\n",
        "  # ch_name= ch_name.split(\"\\n\")[1]\n",
        "  ch_name= ch_name.split(\"\\n\")[0]\n",
        "  ch_names.append(ch_name)"
      ]
    },
    {
      "cell_type": "code",
      "execution_count": 15,
      "metadata": {
        "colab": {
          "base_uri": "https://localhost:8080/"
        },
        "id": "CFJ3pr7CTk8c",
        "outputId": "c463998b-69d8-4f73-d6b3-c775b00e822b"
      },
      "outputs": [
        {
          "data": {
            "text/plain": [
              "['C3', 'CZ', 'C4', 'FCZ', 'FC3', 'CP4', 'CPZ', 'CP3', 'FC4']"
            ]
          },
          "execution_count": 15,
          "metadata": {},
          "output_type": "execute_result"
        }
      ],
      "source": [
        "ch_names"
      ]
    },
    {
      "cell_type": "code",
      "execution_count": 16,
      "metadata": {
        "id": "OhIId1JmkkJm"
      },
      "outputs": [],
      "source": [
        "# cleaned_channel_names = [name.replace('[', '').replace(']', '') for name in ch_names]\n",
        "# cleaned_channel_names"
      ]
    },
    {
      "cell_type": "code",
      "execution_count": 17,
      "metadata": {
        "id": "GYvfn-gZl9bg"
      },
      "outputs": [],
      "source": [
        "crack_channel_names = ['C3', 'Cz', 'C4', 'Fz', 'F3', 'P4', 'Pz', 'P3', 'F4']"
      ]
    },
    {
      "cell_type": "code",
      "execution_count": 18,
      "metadata": {
        "id": "6mwiszhwTY8_"
      },
      "outputs": [],
      "source": [
        "# info = mne.create_info(crack_channel_names, fs, \"eeg\")\n",
        "info = mne.create_info(ch_names, fs, \"eeg\")"
      ]
    },
    {
      "cell_type": "code",
      "execution_count": 19,
      "metadata": {
        "id": "xY_sgMNIkkQu"
      },
      "outputs": [],
      "source": [
        "def extract_tasks_names(files):\n",
        "  task_names = []\n",
        "  for path in files:\n",
        "      # Split the path to isolate the filename\n",
        "      filename = path.split('/')[-1]\n",
        "      # Extract the task name part\n",
        "      task_name = filename.split('_')[-3]\n",
        "      # Replace the hyphen with a space to match the desired format\n",
        "      task_name = task_name.split('-')[-1]\n",
        "      # Append the task name to the list\n",
        "      task_names.append(task_name)\n",
        "  return task_names"
      ]
    },
    {
      "cell_type": "code",
      "execution_count": 20,
      "metadata": {},
      "outputs": [
        {
          "data": {
            "text/plain": [
              "['Right Grasp',\n",
              " 'Right Grasp',\n",
              " 'Right Grasp',\n",
              " 'Right Grasp',\n",
              " 'Right Grasp',\n",
              " 'Right Grasp',\n",
              " 'Right Grasp',\n",
              " 'Right Grasp',\n",
              " 'Right Grasp',\n",
              " 'Right Grasp',\n",
              " 'Right Grasp',\n",
              " 'Right Grasp',\n",
              " 'Right Grasp',\n",
              " 'Right Grasp',\n",
              " 'Right Grasp',\n",
              " 'Right Grasp',\n",
              " 'Right Grasp',\n",
              " 'Right Grasp',\n",
              " 'Right Grasp',\n",
              " 'Right Grasp',\n",
              " 'Right Grasp',\n",
              " 'Right Grasp',\n",
              " 'Right Grasp',\n",
              " 'Right Grasp',\n",
              " 'Right Grasp',\n",
              " 'Right Grasp',\n",
              " 'Right Grasp',\n",
              " 'Right Grasp',\n",
              " 'Right Grasp',\n",
              " 'Right Grasp',\n",
              " 'Right Release',\n",
              " 'Right Release',\n",
              " 'Right Release',\n",
              " 'Right Release',\n",
              " 'Right Release',\n",
              " 'Right Release',\n",
              " 'Right Release',\n",
              " 'Right Release',\n",
              " 'Right Release',\n",
              " 'Right Release',\n",
              " 'Right Release',\n",
              " 'Right Release',\n",
              " 'Right Release',\n",
              " 'Right Release',\n",
              " 'Right Release',\n",
              " 'Right Release',\n",
              " 'Right Release',\n",
              " 'Right Release',\n",
              " 'Right Release',\n",
              " 'Right Release',\n",
              " 'Right Release',\n",
              " 'Right Release',\n",
              " 'Right Release',\n",
              " 'Right Release',\n",
              " 'Right Release',\n",
              " 'Right Release',\n",
              " 'Right Release',\n",
              " 'Right Release',\n",
              " 'Right Release',\n",
              " 'Right Release',\n",
              " 'Right Grasp',\n",
              " 'Right Grasp',\n",
              " 'Right Grasp',\n",
              " 'Right Grasp',\n",
              " 'Right Grasp',\n",
              " 'Right Grasp',\n",
              " 'Right Grasp',\n",
              " 'Right Grasp',\n",
              " 'Right Grasp',\n",
              " 'Right Grasp',\n",
              " 'Right Grasp',\n",
              " 'Right Grasp',\n",
              " 'Right Grasp',\n",
              " 'Right Grasp',\n",
              " 'Right Grasp',\n",
              " 'Right Grasp',\n",
              " 'Right Grasp',\n",
              " 'Right Grasp',\n",
              " 'Right Grasp',\n",
              " 'Right Grasp',\n",
              " 'Right Grasp',\n",
              " 'Right Grasp',\n",
              " 'Right Grasp',\n",
              " 'Right Grasp',\n",
              " 'Right Grasp',\n",
              " 'Right Grasp',\n",
              " 'Right Grasp',\n",
              " 'Right Grasp',\n",
              " 'Right Grasp',\n",
              " 'Right Grasp',\n",
              " 'Right Grasp',\n",
              " 'Right Grasp',\n",
              " 'Right Grasp',\n",
              " 'Right Grasp',\n",
              " 'Right Grasp',\n",
              " 'Right Grasp',\n",
              " 'Right Grasp',\n",
              " 'Right Grasp',\n",
              " 'Right Grasp',\n",
              " 'Right Grasp',\n",
              " 'Right Grasp',\n",
              " 'Right Grasp',\n",
              " 'Right Grasp',\n",
              " 'Right Grasp',\n",
              " 'Right Grasp',\n",
              " 'Right Release',\n",
              " 'Right Release',\n",
              " 'Right Release',\n",
              " 'Right Release',\n",
              " 'Right Release',\n",
              " 'Right Release',\n",
              " 'Right Release',\n",
              " 'Right Release',\n",
              " 'Right Release',\n",
              " 'Right Release',\n",
              " 'Right Release',\n",
              " 'Right Release',\n",
              " 'Right Release',\n",
              " 'Right Release',\n",
              " 'Right Release',\n",
              " 'Right Release',\n",
              " 'Right Release',\n",
              " 'Right Release',\n",
              " 'Right Release',\n",
              " 'Right Release',\n",
              " 'Right Release',\n",
              " 'Right Release',\n",
              " 'Right Release',\n",
              " 'Right Release',\n",
              " 'Right Release',\n",
              " 'Right Release',\n",
              " 'Right Release',\n",
              " 'Right Release',\n",
              " 'Right Release',\n",
              " 'Right Release',\n",
              " 'Right Release',\n",
              " 'Right Release',\n",
              " 'Right Release',\n",
              " 'Right Release',\n",
              " 'Right Release',\n",
              " 'Right Release',\n",
              " 'Right Release',\n",
              " 'Right Release',\n",
              " 'Right Release',\n",
              " 'Right Release',\n",
              " 'Right Release',\n",
              " 'Right Release',\n",
              " 'Right Release',\n",
              " 'Right Release',\n",
              " 'Right Release']"
            ]
          },
          "execution_count": 20,
          "metadata": {},
          "output_type": "execute_result"
        }
      ],
      "source": [
        "task_names = extract_tasks_names(all_files)\n",
        "\n",
        "task_names"
      ]
    },
    {
      "cell_type": "code",
      "execution_count": 21,
      "metadata": {},
      "outputs": [
        {
          "data": {
            "text/plain": [
              "{'Right Grasp', 'Right Release'}"
            ]
          },
          "execution_count": 21,
          "metadata": {},
          "output_type": "execute_result"
        }
      ],
      "source": [
        "set(task_names)"
      ]
    },
    {
      "cell_type": "code",
      "execution_count": 22,
      "metadata": {
        "colab": {
          "base_uri": "https://localhost:8080/"
        },
        "id": "AdVQjkn0QbJJ",
        "outputId": "8e79dd24-e8d2-4c08-ca0d-e1a915896242"
      },
      "outputs": [
        {
          "name": "stdout",
          "output_type": "stream",
          "text": [
            "[1, 1, 1, 1, 1, 1, 1, 1, 1, 1, 1, 1, 1, 1, 1, 1, 1, 1, 1, 1, 1, 1, 1, 1, 1, 1, 1, 1, 1, 1, 2, 2, 2, 2, 2, 2, 2, 2, 2, 2, 2, 2, 2, 2, 2, 2, 2, 2, 2, 2, 2, 2, 2, 2, 2, 2, 2, 2, 2, 2, 1, 1, 1, 1, 1, 1, 1, 1, 1, 1, 1, 1, 1, 1, 1, 1, 1, 1, 1, 1, 1, 1, 1, 1, 1, 1, 1, 1, 1, 1, 1, 1, 1, 1, 1, 1, 1, 1, 1, 1, 1, 1, 1, 1, 1, 2, 2, 2, 2, 2, 2, 2, 2, 2, 2, 2, 2, 2, 2, 2, 2, 2, 2, 2, 2, 2, 2, 2, 2, 2, 2, 2, 2, 2, 2, 2, 2, 2, 2, 2, 2, 2, 2, 2, 2, 2, 2, 2, 2, 2]\n"
          ]
        }
      ],
      "source": [
        "# event_id = {'Left_Grasp': 1, 'Right_Grasp': 2, 'Right_Release': 3, 'Baseline': 4}\n",
        "event_id = {'Right Grasp': 1, 'Right Release': 2, 'Baseline': 3}\n",
        "# Convert the list of task names to the list of numbers\n",
        "task_numbers = [event_id[task] for task in task_names]\n",
        "print(task_numbers)"
      ]
    },
    {
      "cell_type": "code",
      "execution_count": 23,
      "metadata": {
        "colab": {
          "base_uri": "https://localhost:8080/"
        },
        "id": "jO3bhObAwVnD",
        "outputId": "2e70218d-2635-4d77-86cf-5944590da8f6"
      },
      "outputs": [
        {
          "name": "stdout",
          "output_type": "stream",
          "text": [
            "150\n"
          ]
        }
      ],
      "source": [
        "print(len(task_names))\n",
        "# task_names"
      ]
    },
    {
      "cell_type": "code",
      "execution_count": 24,
      "metadata": {
        "id": "tJm_lBs_bHw6"
      },
      "outputs": [],
      "source": [
        "# crop parametes\n",
        "t_start = 2\n",
        "t_end = 3.5\n",
        "# t_end = 6\n",
        "\n",
        "idx_start = int(fs*t_start)\n",
        "idx_end = int(fs*t_end)"
      ]
    },
    {
      "cell_type": "code",
      "execution_count": 25,
      "metadata": {
        "id": "MDwqcps_U1fd"
      },
      "outputs": [
        {
          "name": "stdout",
          "output_type": "stream",
          "text": [
            "E:\\BCI\\A-Our Motor Data\\Good Data\\sub-Sherif\\s-00\\sub-sherif_ses-S002_task-Right Grasp_run-003_eeg.xdf\n",
            "E:\\BCI\\A-Our Motor Data\\Good Data\\sub-Sherif\\s-00\\sub-sherif_ses-S002_task-Right Grasp_run-007_eeg.xdf\n",
            "E:\\BCI\\A-Our Motor Data\\Good Data\\sub-Sherif\\s-00\\sub-sherif_ses-S002_task-Right Grasp_run-008_eeg.xdf\n",
            "E:\\BCI\\A-Our Motor Data\\Good Data\\sub-Sherif\\s-00\\sub-sherif_ses-S002_task-Right Grasp_run-011_eeg.xdf\n",
            "E:\\BCI\\A-Our Motor Data\\Good Data\\sub-Sherif\\s-00\\sub-sherif_ses-S002_task-Right Grasp_run-012_eeg.xdf\n",
            "E:\\BCI\\A-Our Motor Data\\Good Data\\sub-Sherif\\s-00\\sub-sherif_ses-S002_task-Right Grasp_run-016_eeg.xdf\n",
            "E:\\BCI\\A-Our Motor Data\\Good Data\\sub-Sherif\\s-00\\sub-sherif_ses-S002_task-Right Grasp_run-017_eeg.xdf\n",
            "E:\\BCI\\A-Our Motor Data\\Good Data\\sub-Sherif\\s-00\\sub-sherif_ses-S002_task-Right Grasp_run-023_eeg.xdf\n",
            "E:\\BCI\\A-Our Motor Data\\Good Data\\sub-Sherif\\s-00\\sub-sherif_ses-S002_task-Right Grasp_run-025_eeg.xdf\n",
            "E:\\BCI\\A-Our Motor Data\\Good Data\\sub-Sherif\\s-00\\sub-sherif_ses-S002_task-Right Grasp_run-028_eeg.xdf\n",
            "E:\\BCI\\A-Our Motor Data\\Good Data\\sub-Sherif\\s-00\\sub-sherif_ses-S002_task-Right Grasp_run-037_eeg.xdf\n",
            "E:\\BCI\\A-Our Motor Data\\Good Data\\sub-Sherif\\s-00\\sub-sherif_ses-S002_task-Right Grasp_run-039_eeg.xdf\n",
            "E:\\BCI\\A-Our Motor Data\\Good Data\\sub-Sherif\\s-00\\sub-sherif_ses-S002_task-Right Grasp_run-044_eeg.xdf\n",
            "E:\\BCI\\A-Our Motor Data\\Good Data\\sub-Sherif\\s-00\\sub-sherif_ses-S002_task-Right Grasp_run-046_eeg.xdf\n",
            "E:\\BCI\\A-Our Motor Data\\Good Data\\sub-Sherif\\s-00\\sub-sherif_ses-S002_task-Right Grasp_run-049_eeg.xdf\n",
            "E:\\BCI\\A-Our Motor Data\\Good Data\\sub-Sherif\\s-00\\sub-sherif_ses-S002_task-Right Grasp_run-050_eeg.xdf\n",
            "E:\\BCI\\A-Our Motor Data\\Good Data\\sub-Sherif\\s-00\\sub-sherif_ses-S002_task-Right Grasp_run-051_eeg.xdf\n",
            "E:\\BCI\\A-Our Motor Data\\Good Data\\sub-Sherif\\s-00\\sub-sherif_ses-S002_task-Right Grasp_run-054_eeg.xdf\n",
            "E:\\BCI\\A-Our Motor Data\\Good Data\\sub-Sherif\\s-00\\sub-sherif_ses-S002_task-Right Grasp_run-055_eeg.xdf\n",
            "E:\\BCI\\A-Our Motor Data\\Good Data\\sub-Sherif\\s-00\\sub-sherif_ses-S002_task-Right Grasp_run-056_eeg.xdf\n",
            "E:\\BCI\\A-Our Motor Data\\Good Data\\sub-Sherif\\s-00\\sub-sherif_ses-S002_task-Right Grasp_run-057_eeg.xdf\n",
            "E:\\BCI\\A-Our Motor Data\\Good Data\\sub-Sherif\\s-00\\sub-sherif_ses-S002_task-Right Grasp_run-058_eeg.xdf\n",
            "E:\\BCI\\A-Our Motor Data\\Good Data\\sub-Sherif\\s-00\\sub-sherif_ses-S002_task-Right Grasp_run-059_eeg.xdf\n",
            "E:\\BCI\\A-Our Motor Data\\Good Data\\sub-Sherif\\s-00\\sub-sherif_ses-S002_task-Right Grasp_run-061_eeg.xdf\n",
            "E:\\BCI\\A-Our Motor Data\\Good Data\\sub-Sherif\\s-00\\sub-sherif_ses-S002_task-Right Grasp_run-063_eeg.xdf\n",
            "E:\\BCI\\A-Our Motor Data\\Good Data\\sub-Sherif\\s-00\\sub-sherif_ses-S002_task-Right Grasp_run-069_eeg.xdf\n",
            "E:\\BCI\\A-Our Motor Data\\Good Data\\sub-Sherif\\s-00\\sub-sherif_ses-S002_task-Right Grasp_run-072_eeg.xdf\n",
            "E:\\BCI\\A-Our Motor Data\\Good Data\\sub-Sherif\\s-00\\sub-sherif_ses-S002_task-Right Grasp_run-074_eeg.xdf\n",
            "E:\\BCI\\A-Our Motor Data\\Good Data\\sub-Sherif\\s-00\\sub-sherif_ses-S002_task-Right Grasp_run-078_eeg.xdf\n",
            "E:\\BCI\\A-Our Motor Data\\Good Data\\sub-Sherif\\s-00\\sub-sherif_ses-S002_task-Right Grasp_run-085_eeg.xdf\n",
            "E:\\BCI\\A-Our Motor Data\\Good Data\\sub-Sherif\\s-00\\sub-sherif_ses-S002_task-Right Release_run-001_eeg.xdf\n",
            "E:\\BCI\\A-Our Motor Data\\Good Data\\sub-Sherif\\s-00\\sub-sherif_ses-S002_task-Right Release_run-002_eeg.xdf\n",
            "E:\\BCI\\A-Our Motor Data\\Good Data\\sub-Sherif\\s-00\\sub-sherif_ses-S002_task-Right Release_run-004_eeg.xdf\n",
            "E:\\BCI\\A-Our Motor Data\\Good Data\\sub-Sherif\\s-00\\sub-sherif_ses-S002_task-Right Release_run-005_eeg.xdf\n",
            "E:\\BCI\\A-Our Motor Data\\Good Data\\sub-Sherif\\s-00\\sub-sherif_ses-S002_task-Right Release_run-009_eeg.xdf\n",
            "E:\\BCI\\A-Our Motor Data\\Good Data\\sub-Sherif\\s-00\\sub-sherif_ses-S002_task-Right Release_run-015_eeg.xdf\n",
            "E:\\BCI\\A-Our Motor Data\\Good Data\\sub-Sherif\\s-00\\sub-sherif_ses-S002_task-Right Release_run-018_eeg.xdf\n",
            "E:\\BCI\\A-Our Motor Data\\Good Data\\sub-Sherif\\s-00\\sub-sherif_ses-S002_task-Right Release_run-021_eeg.xdf\n",
            "E:\\BCI\\A-Our Motor Data\\Good Data\\sub-Sherif\\s-00\\sub-sherif_ses-S002_task-Right Release_run-024_eeg.xdf\n",
            "E:\\BCI\\A-Our Motor Data\\Good Data\\sub-Sherif\\s-00\\sub-sherif_ses-S002_task-Right Release_run-026_eeg.xdf\n",
            "E:\\BCI\\A-Our Motor Data\\Good Data\\sub-Sherif\\s-00\\sub-sherif_ses-S002_task-Right Release_run-029_eeg.xdf\n",
            "E:\\BCI\\A-Our Motor Data\\Good Data\\sub-Sherif\\s-00\\sub-sherif_ses-S002_task-Right Release_run-030_eeg.xdf\n",
            "E:\\BCI\\A-Our Motor Data\\Good Data\\sub-Sherif\\s-00\\sub-sherif_ses-S002_task-Right Release_run-031_eeg.xdf\n",
            "E:\\BCI\\A-Our Motor Data\\Good Data\\sub-Sherif\\s-00\\sub-sherif_ses-S002_task-Right Release_run-033_eeg.xdf\n",
            "E:\\BCI\\A-Our Motor Data\\Good Data\\sub-Sherif\\s-00\\sub-sherif_ses-S002_task-Right Release_run-035_eeg.xdf\n",
            "E:\\BCI\\A-Our Motor Data\\Good Data\\sub-Sherif\\s-00\\sub-sherif_ses-S002_task-Right Release_run-036_eeg.xdf\n",
            "E:\\BCI\\A-Our Motor Data\\Good Data\\sub-Sherif\\s-00\\sub-sherif_ses-S002_task-Right Release_run-045_eeg.xdf\n",
            "E:\\BCI\\A-Our Motor Data\\Good Data\\sub-Sherif\\s-00\\sub-sherif_ses-S002_task-Right Release_run-048_eeg.xdf\n",
            "E:\\BCI\\A-Our Motor Data\\Good Data\\sub-Sherif\\s-00\\sub-sherif_ses-S002_task-Right Release_run-053_eeg.xdf\n",
            "E:\\BCI\\A-Our Motor Data\\Good Data\\sub-Sherif\\s-00\\sub-sherif_ses-S002_task-Right Release_run-060_eeg.xdf\n",
            "E:\\BCI\\A-Our Motor Data\\Good Data\\sub-Sherif\\s-00\\sub-sherif_ses-S002_task-Right Release_run-064_eeg.xdf\n",
            "E:\\BCI\\A-Our Motor Data\\Good Data\\sub-Sherif\\s-00\\sub-sherif_ses-S002_task-Right Release_run-066_eeg.xdf\n",
            "E:\\BCI\\A-Our Motor Data\\Good Data\\sub-Sherif\\s-00\\sub-sherif_ses-S002_task-Right Release_run-070_eeg.xdf\n",
            "E:\\BCI\\A-Our Motor Data\\Good Data\\sub-Sherif\\s-00\\sub-sherif_ses-S002_task-Right Release_run-073_eeg.xdf\n",
            "E:\\BCI\\A-Our Motor Data\\Good Data\\sub-Sherif\\s-00\\sub-sherif_ses-S002_task-Right Release_run-075_eeg.xdf\n",
            "E:\\BCI\\A-Our Motor Data\\Good Data\\sub-Sherif\\s-00\\sub-sherif_ses-S002_task-Right Release_run-077_eeg.xdf\n",
            "E:\\BCI\\A-Our Motor Data\\Good Data\\sub-Sherif\\s-00\\sub-sherif_ses-S002_task-Right Release_run-081_eeg.xdf\n",
            "E:\\BCI\\A-Our Motor Data\\Good Data\\sub-Sherif\\s-00\\sub-sherif_ses-S002_task-Right Release_run-087_eeg.xdf\n",
            "E:\\BCI\\A-Our Motor Data\\Good Data\\sub-Sherif\\s-00\\sub-sherif_ses-S002_task-Right Release_run-088_eeg.xdf\n",
            "E:\\BCI\\A-Our Motor Data\\Good Data\\sub-Sherif\\s-00\\sub-sherif_ses-S002_task-Right Release_run-090_eeg.xdf\n",
            "E:\\BCI\\A-Our Motor Data\\Good Data\\sub-Sherif\\s-00\\sub-sherif_ses-S003_task-Right Grasp_run-009_eeg.xdf\n",
            "E:\\BCI\\A-Our Motor Data\\Good Data\\sub-Sherif\\s-00\\sub-sherif_ses-S003_task-Right Grasp_run-010_eeg.xdf\n",
            "E:\\BCI\\A-Our Motor Data\\Good Data\\sub-Sherif\\s-00\\sub-sherif_ses-S003_task-Right Grasp_run-012_eeg.xdf\n",
            "E:\\BCI\\A-Our Motor Data\\Good Data\\sub-Sherif\\s-00\\sub-sherif_ses-S003_task-Right Grasp_run-014_eeg.xdf\n",
            "E:\\BCI\\A-Our Motor Data\\Good Data\\sub-Sherif\\s-00\\sub-sherif_ses-S003_task-Right Grasp_run-016_eeg.xdf\n",
            "E:\\BCI\\A-Our Motor Data\\Good Data\\sub-Sherif\\s-00\\sub-sherif_ses-S003_task-Right Grasp_run-019_eeg.xdf\n",
            "E:\\BCI\\A-Our Motor Data\\Good Data\\sub-Sherif\\s-00\\sub-sherif_ses-S003_task-Right Grasp_run-020_eeg.xdf\n",
            "E:\\BCI\\A-Our Motor Data\\Good Data\\sub-Sherif\\s-00\\sub-sherif_ses-S003_task-Right Grasp_run-021_eeg.xdf\n",
            "E:\\BCI\\A-Our Motor Data\\Good Data\\sub-Sherif\\s-00\\sub-sherif_ses-S003_task-Right Grasp_run-023_eeg.xdf\n",
            "E:\\BCI\\A-Our Motor Data\\Good Data\\sub-Sherif\\s-00\\sub-sherif_ses-S003_task-Right Grasp_run-027_eeg.xdf\n",
            "E:\\BCI\\A-Our Motor Data\\Good Data\\sub-Sherif\\s-00\\sub-sherif_ses-S003_task-Right Grasp_run-035_eeg.xdf\n",
            "E:\\BCI\\A-Our Motor Data\\Good Data\\sub-Sherif\\s-00\\sub-sherif_ses-S003_task-Right Grasp_run-036_eeg.xdf\n",
            "E:\\BCI\\A-Our Motor Data\\Good Data\\sub-Sherif\\s-00\\sub-sherif_ses-S003_task-Right Grasp_run-038_eeg.xdf\n",
            "E:\\BCI\\A-Our Motor Data\\Good Data\\sub-Sherif\\s-00\\sub-sherif_ses-S003_task-Right Grasp_run-041_eeg.xdf\n",
            "E:\\BCI\\A-Our Motor Data\\Good Data\\sub-Sherif\\s-00\\sub-sherif_ses-S003_task-Right Grasp_run-043_eeg.xdf\n",
            "E:\\BCI\\A-Our Motor Data\\Good Data\\sub-Sherif\\s-00\\sub-sherif_ses-S003_task-Right Grasp_run-047_eeg.xdf\n",
            "E:\\BCI\\A-Our Motor Data\\Good Data\\sub-Sherif\\s-00\\sub-sherif_ses-S003_task-Right Grasp_run-050_eeg.xdf\n",
            "E:\\BCI\\A-Our Motor Data\\Good Data\\sub-Sherif\\s-00\\sub-sherif_ses-S003_task-Right Grasp_run-055_eeg.xdf\n",
            "E:\\BCI\\A-Our Motor Data\\Good Data\\sub-Sherif\\s-00\\sub-sherif_ses-S003_task-Right Grasp_run-057_eeg.xdf\n",
            "E:\\BCI\\A-Our Motor Data\\Good Data\\sub-Sherif\\s-00\\sub-sherif_ses-S003_task-Right Grasp_run-058_eeg.xdf\n",
            "E:\\BCI\\A-Our Motor Data\\Good Data\\sub-Sherif\\s-00\\sub-sherif_ses-S003_task-Right Grasp_run-059_eeg.xdf\n",
            "E:\\BCI\\A-Our Motor Data\\Good Data\\sub-Sherif\\s-00\\sub-sherif_ses-S003_task-Right Grasp_run-060_eeg.xdf\n",
            "E:\\BCI\\A-Our Motor Data\\Good Data\\sub-Sherif\\s-00\\sub-sherif_ses-S003_task-Right Grasp_run-082_eeg.xdf\n",
            "E:\\BCI\\A-Our Motor Data\\Good Data\\sub-Sherif\\s-00\\sub-sherif_ses-S003_task-Right Grasp_run-084_eeg.xdf\n",
            "E:\\BCI\\A-Our Motor Data\\Good Data\\sub-Sherif\\s-00\\sub-sherif_ses-S003_task-Right Grasp_run-085_eeg.xdf\n",
            "E:\\BCI\\A-Our Motor Data\\Good Data\\sub-Sherif\\s-00\\sub-sherif_ses-S003_task-Right Grasp_run-087_eeg.xdf\n",
            "E:\\BCI\\A-Our Motor Data\\Good Data\\sub-Sherif\\s-00\\sub-sherif_ses-S003_task-Right Grasp_run-093_eeg.xdf\n",
            "E:\\BCI\\A-Our Motor Data\\Good Data\\sub-Sherif\\s-00\\sub-sherif_ses-S003_task-Right Grasp_run-094_eeg.xdf\n",
            "E:\\BCI\\A-Our Motor Data\\Good Data\\sub-Sherif\\s-00\\sub-sherif_ses-S003_task-Right Grasp_run-095_eeg.xdf\n",
            "E:\\BCI\\A-Our Motor Data\\Good Data\\sub-Sherif\\s-00\\sub-sherif_ses-S003_task-Right Grasp_run-096_eeg.xdf\n",
            "E:\\BCI\\A-Our Motor Data\\Good Data\\sub-Sherif\\s-00\\sub-sherif_ses-S003_task-Right Grasp_run-100_eeg.xdf\n",
            "E:\\BCI\\A-Our Motor Data\\Good Data\\sub-Sherif\\s-00\\sub-sherif_ses-S003_task-Right Grasp_run-104_eeg.xdf\n",
            "E:\\BCI\\A-Our Motor Data\\Good Data\\sub-Sherif\\s-00\\sub-sherif_ses-S003_task-Right Grasp_run-105_eeg.xdf\n",
            "E:\\BCI\\A-Our Motor Data\\Good Data\\sub-Sherif\\s-00\\sub-sherif_ses-S003_task-Right Grasp_run-106_eeg.xdf\n",
            "E:\\BCI\\A-Our Motor Data\\Good Data\\sub-Sherif\\s-00\\sub-sherif_ses-S003_task-Right Grasp_run-108_eeg.xdf\n",
            "E:\\BCI\\A-Our Motor Data\\Good Data\\sub-Sherif\\s-00\\sub-sherif_ses-S003_task-Right Grasp_run-111_eeg.xdf\n",
            "E:\\BCI\\A-Our Motor Data\\Good Data\\sub-Sherif\\s-00\\sub-sherif_ses-S003_task-Right Grasp_run-116_eeg.xdf\n",
            "E:\\BCI\\A-Our Motor Data\\Good Data\\sub-Sherif\\s-00\\sub-sherif_ses-S003_task-Right Grasp_run-118_eeg.xdf\n",
            "E:\\BCI\\A-Our Motor Data\\Good Data\\sub-Sherif\\s-00\\sub-sherif_ses-S003_task-Right Grasp_run-120_eeg.xdf\n",
            "E:\\BCI\\A-Our Motor Data\\Good Data\\sub-Sherif\\s-00\\sub-sherif_ses-S003_task-Right Grasp_run-121_eeg.xdf\n",
            "E:\\BCI\\A-Our Motor Data\\Good Data\\sub-Sherif\\s-00\\sub-sherif_ses-S003_task-Right Grasp_run-122_eeg.xdf\n",
            "E:\\BCI\\A-Our Motor Data\\Good Data\\sub-Sherif\\s-00\\sub-sherif_ses-S003_task-Right Grasp_run-123_eeg.xdf\n",
            "E:\\BCI\\A-Our Motor Data\\Good Data\\sub-Sherif\\s-00\\sub-sherif_ses-S003_task-Right Grasp_run-129_eeg.xdf\n",
            "E:\\BCI\\A-Our Motor Data\\Good Data\\sub-Sherif\\s-00\\sub-sherif_ses-S003_task-Right Grasp_run-132_eeg.xdf\n",
            "E:\\BCI\\A-Our Motor Data\\Good Data\\sub-Sherif\\s-00\\sub-sherif_ses-S003_task-Right Grasp_run-134_eeg.xdf\n",
            "E:\\BCI\\A-Our Motor Data\\Good Data\\sub-Sherif\\s-00\\sub-sherif_ses-S003_task-Right Release_run-001_eeg.xdf\n",
            "E:\\BCI\\A-Our Motor Data\\Good Data\\sub-Sherif\\s-00\\sub-sherif_ses-S003_task-Right Release_run-003_eeg.xdf\n",
            "E:\\BCI\\A-Our Motor Data\\Good Data\\sub-Sherif\\s-00\\sub-sherif_ses-S003_task-Right Release_run-004_eeg.xdf\n",
            "E:\\BCI\\A-Our Motor Data\\Good Data\\sub-Sherif\\s-00\\sub-sherif_ses-S003_task-Right Release_run-006_eeg.xdf\n",
            "E:\\BCI\\A-Our Motor Data\\Good Data\\sub-Sherif\\s-00\\sub-sherif_ses-S003_task-Right Release_run-008_eeg.xdf\n",
            "E:\\BCI\\A-Our Motor Data\\Good Data\\sub-Sherif\\s-00\\sub-sherif_ses-S003_task-Right Release_run-013_eeg.xdf\n",
            "E:\\BCI\\A-Our Motor Data\\Good Data\\sub-Sherif\\s-00\\sub-sherif_ses-S003_task-Right Release_run-018_eeg.xdf\n",
            "E:\\BCI\\A-Our Motor Data\\Good Data\\sub-Sherif\\s-00\\sub-sherif_ses-S003_task-Right Release_run-025_eeg.xdf\n",
            "E:\\BCI\\A-Our Motor Data\\Good Data\\sub-Sherif\\s-00\\sub-sherif_ses-S003_task-Right Release_run-031_eeg.xdf\n",
            "E:\\BCI\\A-Our Motor Data\\Good Data\\sub-Sherif\\s-00\\sub-sherif_ses-S003_task-Right Release_run-034_eeg.xdf\n",
            "E:\\BCI\\A-Our Motor Data\\Good Data\\sub-Sherif\\s-00\\sub-sherif_ses-S003_task-Right Release_run-039_eeg.xdf\n",
            "E:\\BCI\\A-Our Motor Data\\Good Data\\sub-Sherif\\s-00\\sub-sherif_ses-S003_task-Right Release_run-040_eeg.xdf\n",
            "E:\\BCI\\A-Our Motor Data\\Good Data\\sub-Sherif\\s-00\\sub-sherif_ses-S003_task-Right Release_run-042_eeg.xdf\n",
            "E:\\BCI\\A-Our Motor Data\\Good Data\\sub-Sherif\\s-00\\sub-sherif_ses-S003_task-Right Release_run-044_eeg.xdf\n",
            "E:\\BCI\\A-Our Motor Data\\Good Data\\sub-Sherif\\s-00\\sub-sherif_ses-S003_task-Right Release_run-046_eeg.xdf\n",
            "E:\\BCI\\A-Our Motor Data\\Good Data\\sub-Sherif\\s-00\\sub-sherif_ses-S003_task-Right Release_run-049_eeg.xdf\n",
            "E:\\BCI\\A-Our Motor Data\\Good Data\\sub-Sherif\\s-00\\sub-sherif_ses-S003_task-Right Release_run-052_eeg.xdf\n",
            "E:\\BCI\\A-Our Motor Data\\Good Data\\sub-Sherif\\s-00\\sub-sherif_ses-S003_task-Right Release_run-053_eeg.xdf\n",
            "E:\\BCI\\A-Our Motor Data\\Good Data\\sub-Sherif\\s-00\\sub-sherif_ses-S003_task-Right Release_run-061_eeg.xdf\n",
            "E:\\BCI\\A-Our Motor Data\\Good Data\\sub-Sherif\\s-00\\sub-sherif_ses-S003_task-Right Release_run-062_eeg.xdf\n",
            "E:\\BCI\\A-Our Motor Data\\Good Data\\sub-Sherif\\s-00\\sub-sherif_ses-S003_task-Right Release_run-063_eeg.xdf\n",
            "E:\\BCI\\A-Our Motor Data\\Good Data\\sub-Sherif\\s-00\\sub-sherif_ses-S003_task-Right Release_run-066_eeg.xdf\n",
            "E:\\BCI\\A-Our Motor Data\\Good Data\\sub-Sherif\\s-00\\sub-sherif_ses-S003_task-Right Release_run-067_eeg.xdf\n",
            "E:\\BCI\\A-Our Motor Data\\Good Data\\sub-Sherif\\s-00\\sub-sherif_ses-S003_task-Right Release_run-068_eeg.xdf\n",
            "E:\\BCI\\A-Our Motor Data\\Good Data\\sub-Sherif\\s-00\\sub-sherif_ses-S003_task-Right Release_run-069_eeg.xdf\n",
            "E:\\BCI\\A-Our Motor Data\\Good Data\\sub-Sherif\\s-00\\sub-sherif_ses-S003_task-Right Release_run-070_eeg.xdf\n",
            "E:\\BCI\\A-Our Motor Data\\Good Data\\sub-Sherif\\s-00\\sub-sherif_ses-S003_task-Right Release_run-071_eeg.xdf\n",
            "E:\\BCI\\A-Our Motor Data\\Good Data\\sub-Sherif\\s-00\\sub-sherif_ses-S003_task-Right Release_run-073_eeg.xdf\n",
            "E:\\BCI\\A-Our Motor Data\\Good Data\\sub-Sherif\\s-00\\sub-sherif_ses-S003_task-Right Release_run-075_eeg.xdf\n",
            "E:\\BCI\\A-Our Motor Data\\Good Data\\sub-Sherif\\s-00\\sub-sherif_ses-S003_task-Right Release_run-080_eeg.xdf\n",
            "E:\\BCI\\A-Our Motor Data\\Good Data\\sub-Sherif\\s-00\\sub-sherif_ses-S003_task-Right Release_run-081_eeg.xdf\n",
            "E:\\BCI\\A-Our Motor Data\\Good Data\\sub-Sherif\\s-00\\sub-sherif_ses-S003_task-Right Release_run-086_eeg.xdf\n",
            "E:\\BCI\\A-Our Motor Data\\Good Data\\sub-Sherif\\s-00\\sub-sherif_ses-S003_task-Right Release_run-088_eeg.xdf\n",
            "E:\\BCI\\A-Our Motor Data\\Good Data\\sub-Sherif\\s-00\\sub-sherif_ses-S003_task-Right Release_run-090_eeg.xdf\n",
            "E:\\BCI\\A-Our Motor Data\\Good Data\\sub-Sherif\\s-00\\sub-sherif_ses-S003_task-Right Release_run-092_eeg.xdf\n",
            "E:\\BCI\\A-Our Motor Data\\Good Data\\sub-Sherif\\s-00\\sub-sherif_ses-S003_task-Right Release_run-107_eeg.xdf\n",
            "E:\\BCI\\A-Our Motor Data\\Good Data\\sub-Sherif\\s-00\\sub-sherif_ses-S003_task-Right Release_run-109_eeg.xdf\n",
            "E:\\BCI\\A-Our Motor Data\\Good Data\\sub-Sherif\\s-00\\sub-sherif_ses-S003_task-Right Release_run-112_eeg.xdf\n",
            "E:\\BCI\\A-Our Motor Data\\Good Data\\sub-Sherif\\s-00\\sub-sherif_ses-S003_task-Right Release_run-113_eeg.xdf\n",
            "E:\\BCI\\A-Our Motor Data\\Good Data\\sub-Sherif\\s-00\\sub-sherif_ses-S003_task-Right Release_run-124_eeg.xdf\n",
            "E:\\BCI\\A-Our Motor Data\\Good Data\\sub-Sherif\\s-00\\sub-sherif_ses-S003_task-Right Release_run-125_eeg.xdf\n",
            "E:\\BCI\\A-Our Motor Data\\Good Data\\sub-Sherif\\s-00\\sub-sherif_ses-S003_task-Right Release_run-127_eeg.xdf\n",
            "E:\\BCI\\A-Our Motor Data\\Good Data\\sub-Sherif\\s-00\\sub-sherif_ses-S003_task-Right Release_run-130_eeg.xdf\n",
            "E:\\BCI\\A-Our Motor Data\\Good Data\\sub-Sherif\\s-00\\sub-sherif_ses-S003_task-Right Release_run-135_eeg.xdf\n",
            "E:\\BCI\\A-Our Motor Data\\Good Data\\sub-Sherif\\s-00\\sub-sherif_ses-S003_task-Right Release_run-200_eeg.xdf\n"
          ]
        }
      ],
      "source": [
        "all_data=[]\n",
        "for fname in all_files:\n",
        "  streams, header = pyxdf.load_xdf(fname)\n",
        "  data = streams[0][\"time_series\"].T\n",
        "  # crop data from second 1 to 6\n",
        "  cropped_data = data[:,idx_start:idx_end+1]\n",
        "  print(fname)\n",
        "  all_data.append(cropped_data)"
      ]
    },
    {
      "cell_type": "code",
      "execution_count": 26,
      "metadata": {
        "colab": {
          "base_uri": "https://localhost:8080/"
        },
        "id": "cYSG9z9Jx121",
        "outputId": "2452cc98-2401-40af-8ed5-99456a4f6efd"
      },
      "outputs": [
        {
          "name": "stdout",
          "output_type": "stream",
          "text": [
            "(9, 751)\n",
            "(9, 751)\n",
            "(9, 751)\n",
            "(9, 751)\n",
            "(9, 751)\n",
            "(9, 751)\n",
            "(9, 751)\n",
            "(9, 751)\n",
            "(9, 751)\n",
            "(9, 751)\n",
            "(9, 751)\n",
            "(9, 751)\n",
            "(9, 751)\n",
            "(9, 751)\n",
            "(9, 751)\n",
            "(9, 751)\n",
            "(9, 751)\n",
            "(9, 751)\n",
            "(9, 751)\n",
            "(9, 751)\n",
            "(9, 751)\n",
            "(9, 751)\n",
            "(9, 751)\n",
            "(9, 751)\n",
            "(9, 751)\n",
            "(9, 751)\n",
            "(9, 751)\n",
            "(9, 751)\n",
            "(9, 751)\n",
            "(9, 751)\n",
            "(9, 751)\n",
            "(9, 751)\n",
            "(9, 751)\n",
            "(9, 751)\n",
            "(9, 751)\n",
            "(9, 751)\n",
            "(9, 751)\n",
            "(9, 751)\n",
            "(9, 751)\n",
            "(9, 751)\n",
            "(9, 751)\n",
            "(9, 751)\n",
            "(9, 751)\n",
            "(9, 751)\n",
            "(9, 751)\n",
            "(9, 751)\n",
            "(9, 751)\n",
            "(9, 751)\n",
            "(9, 751)\n",
            "(9, 751)\n",
            "(9, 751)\n",
            "(9, 751)\n",
            "(9, 751)\n",
            "(9, 751)\n",
            "(9, 751)\n",
            "(9, 751)\n",
            "(9, 751)\n",
            "(9, 751)\n",
            "(9, 751)\n",
            "(9, 751)\n",
            "(9, 751)\n",
            "(9, 751)\n",
            "(9, 751)\n",
            "(9, 751)\n",
            "(9, 751)\n",
            "(9, 751)\n",
            "(9, 751)\n",
            "(9, 751)\n",
            "(9, 751)\n",
            "(9, 751)\n",
            "(9, 751)\n",
            "(9, 751)\n",
            "(9, 751)\n",
            "(9, 751)\n",
            "(9, 751)\n",
            "(9, 751)\n",
            "(9, 751)\n",
            "(9, 751)\n",
            "(9, 751)\n",
            "(9, 751)\n",
            "(9, 751)\n",
            "(9, 751)\n",
            "(9, 751)\n",
            "(9, 751)\n",
            "(9, 751)\n",
            "(9, 751)\n",
            "(9, 751)\n",
            "(9, 751)\n",
            "(9, 751)\n",
            "(9, 751)\n",
            "(9, 751)\n",
            "(9, 751)\n",
            "(9, 751)\n",
            "(9, 751)\n",
            "(9, 751)\n",
            "(9, 751)\n",
            "(9, 751)\n",
            "(9, 751)\n",
            "(9, 751)\n",
            "(9, 751)\n",
            "(9, 751)\n",
            "(9, 751)\n",
            "(9, 751)\n",
            "(9, 751)\n",
            "(9, 751)\n",
            "(9, 751)\n",
            "(9, 751)\n",
            "(9, 751)\n",
            "(9, 751)\n",
            "(9, 751)\n",
            "(9, 751)\n",
            "(9, 751)\n",
            "(9, 751)\n",
            "(9, 751)\n",
            "(9, 751)\n",
            "(9, 751)\n",
            "(9, 751)\n",
            "(9, 751)\n",
            "(9, 751)\n",
            "(9, 751)\n",
            "(9, 751)\n",
            "(9, 751)\n",
            "(9, 751)\n",
            "(9, 751)\n",
            "(9, 751)\n",
            "(9, 751)\n",
            "(9, 751)\n",
            "(9, 751)\n",
            "(9, 751)\n",
            "(9, 751)\n",
            "(9, 751)\n",
            "(9, 751)\n",
            "(9, 751)\n",
            "(9, 751)\n",
            "(9, 751)\n",
            "(9, 751)\n",
            "(9, 751)\n",
            "(9, 751)\n",
            "(9, 751)\n",
            "(9, 751)\n",
            "(9, 751)\n",
            "(9, 751)\n",
            "(9, 751)\n",
            "(9, 751)\n",
            "(9, 751)\n",
            "(9, 751)\n",
            "(9, 751)\n",
            "(9, 751)\n",
            "(9, 751)\n",
            "(9, 751)\n"
          ]
        }
      ],
      "source": [
        "len(all_data)\n",
        "for data in all_data:\n",
        "  print(data.shape)\n"
      ]
    },
    {
      "cell_type": "code",
      "execution_count": 27,
      "metadata": {
        "colab": {
          "base_uri": "https://localhost:8080/"
        },
        "id": "zpFDxQBkaiBF",
        "outputId": "3d9781fa-829f-4c68-c59b-d939ed2c399a"
      },
      "outputs": [
        {
          "name": "stdout",
          "output_type": "stream",
          "text": [
            "(150, 9, 751)\n"
          ]
        }
      ],
      "source": [
        "# Combine into a 3D array\n",
        "combined_array = np.stack(all_data, axis=0)\n",
        "print(combined_array.shape)"
      ]
    },
    {
      "cell_type": "code",
      "execution_count": 28,
      "metadata": {
        "id": "0PkGuYF_Zqy4"
      },
      "outputs": [],
      "source": [
        "eeg_data = combined_array"
      ]
    },
    {
      "cell_type": "code",
      "execution_count": 29,
      "metadata": {
        "id": "ZsEhotDscDls"
      },
      "outputs": [],
      "source": [
        "epochs = mne.EpochsArray(eeg_data, info, verbose=verbose, tmin=0)"
      ]
    },
    {
      "cell_type": "code",
      "execution_count": 30,
      "metadata": {
        "id": "_93FSvuIk5HI"
      },
      "outputs": [],
      "source": [
        "# epochs.set_montage('standard_1020')\n",
        "epochs.filter(1., None)\n",
        "# epochs.apply_baseline(baseline=(-.250, 0)) # linear baseline correction\n",
        "\n",
        "epochs.event_id = event_id\n",
        "epochs.events[:,2] = task_numbers"
      ]
    },
    {
      "cell_type": "code",
      "execution_count": 31,
      "metadata": {
        "colab": {
          "base_uri": "https://localhost:8080/",
          "height": 153
        },
        "id": "9sHtS94PcHuk",
        "outputId": "ff130d48-6472-4061-d765-6b19d77ab787"
      },
      "outputs": [
        {
          "data": {
            "text/html": [
              "<table class=\"table table-hover table-striped table-sm table-responsive small\">\n",
              "    <tr>\n",
              "        <th>Number of events</th>\n",
              "        <td>150</td>\n",
              "    </tr>\n",
              "    <tr>\n",
              "        <th>Events</th>\n",
              "        \n",
              "        <td>Baseline: 0<br/>Right Grasp: 75<br/>Right Release: 75</td>\n",
              "        \n",
              "    </tr>\n",
              "    <tr>\n",
              "        <th>Time range</th>\n",
              "        <td>0.000 – 1.500 s</td>\n",
              "    </tr>\n",
              "    <tr>\n",
              "        <th>Baseline</th>\n",
              "        <td>off</td>\n",
              "    </tr>\n",
              "</table>"
            ],
            "text/plain": [
              "<EpochsArray |  150 events (all good), 0 – 1.5 s, baseline off, ~7.7 MB, data loaded,\n",
              " 'Right Grasp': 75\n",
              " 'Right Release': 75\n",
              " 'Baseline': 0>"
            ]
          },
          "execution_count": 31,
          "metadata": {},
          "output_type": "execute_result"
        }
      ],
      "source": [
        "epochs"
      ]
    },
    {
      "cell_type": "markdown",
      "metadata": {},
      "source": [
        "## Apply FBCSP"
      ]
    },
    {
      "cell_type": "code",
      "execution_count": 32,
      "metadata": {},
      "outputs": [],
      "source": [
        "verbose_clf = False # control output of FBCSP function\n",
        "freqs_band = np.linspace(8, 32, 7) # filter bank choice\n",
        "cv = 10\n",
        "train_ratio = 0.75 # 75:25 for trian-valid split"
      ]
    },
    {
      "cell_type": "code",
      "execution_count": 33,
      "metadata": {},
      "outputs": [
        {
          "data": {
            "text/plain": [
              "array([ 8., 12., 16., 20., 24., 28., 32.])"
            ]
          },
          "execution_count": 33,
          "metadata": {},
          "output_type": "execute_result"
        }
      ],
      "source": [
        "freqs_band"
      ]
    },
    {
      "cell_type": "code",
      "execution_count": 34,
      "metadata": {},
      "outputs": [],
      "source": [
        "epochs_list_train = epochs"
      ]
    },
    {
      "cell_type": "code",
      "execution_count": 35,
      "metadata": {},
      "outputs": [
        {
          "data": {
            "text/html": [
              "<table class=\"table table-hover table-striped table-sm table-responsive small\">\n",
              "    <tr>\n",
              "        <th>Number of events</th>\n",
              "        <td>150</td>\n",
              "    </tr>\n",
              "    <tr>\n",
              "        <th>Events</th>\n",
              "        \n",
              "        <td>Baseline: 0<br/>Right Grasp: 75<br/>Right Release: 75</td>\n",
              "        \n",
              "    </tr>\n",
              "    <tr>\n",
              "        <th>Time range</th>\n",
              "        <td>0.000 – 1.500 s</td>\n",
              "    </tr>\n",
              "    <tr>\n",
              "        <th>Baseline</th>\n",
              "        <td>off</td>\n",
              "    </tr>\n",
              "</table>"
            ],
            "text/plain": [
              "<EpochsArray |  150 events (all good), 0 – 1.5 s, baseline off, ~7.7 MB, data loaded,\n",
              " 'Right Grasp': 75\n",
              " 'Right Release': 75\n",
              " 'Baseline': 0>"
            ]
          },
          "execution_count": 35,
          "metadata": {},
          "output_type": "execute_result"
        }
      ],
      "source": [
        "epochs.filter(7.0, 32.0)"
      ]
    },
    {
      "cell_type": "markdown",
      "metadata": {},
      "source": [
        "## FBCSP \n",
        "The class must receive in input with the initialization a training set inside a dictionary. The keys of the dictionary must be the label of the two class and each element must be a numpy matrix of dimension \"n. trials x n. channels x n.samples\". The class must also receive the frequency sampling of the signal.\n",
        "\n",
        "FBCSP function original has a built-in random splitting so I didn't do a manual splitting here"
      ]
    },
    {
      "cell_type": "code",
      "execution_count": 36,
      "metadata": {},
      "outputs": [],
      "source": [
        "data, labels = epochs.get_data(), epochs.events[:,-1]"
      ]
    },
    {
      "cell_type": "code",
      "execution_count": 37,
      "metadata": {},
      "outputs": [
        {
          "name": "stdout",
          "output_type": "stream",
          "text": [
            "(150, 9, 751)\n",
            "(150,)\n"
          ]
        },
        {
          "data": {
            "text/plain": [
              "array([1, 1, 1, 1, 1, 1, 1, 1, 1, 1, 1, 1, 1, 1, 1, 1, 1, 1, 1, 1, 1, 1,\n",
              "       1, 1, 1, 1, 1, 1, 1, 1, 2, 2, 2, 2, 2, 2, 2, 2, 2, 2, 2, 2, 2, 2,\n",
              "       2, 2, 2, 2, 2, 2, 2, 2, 2, 2, 2, 2, 2, 2, 2, 2, 1, 1, 1, 1, 1, 1,\n",
              "       1, 1, 1, 1, 1, 1, 1, 1, 1, 1, 1, 1, 1, 1, 1, 1, 1, 1, 1, 1, 1, 1,\n",
              "       1, 1, 1, 1, 1, 1, 1, 1, 1, 1, 1, 1, 1, 1, 1, 1, 1, 2, 2, 2, 2, 2,\n",
              "       2, 2, 2, 2, 2, 2, 2, 2, 2, 2, 2, 2, 2, 2, 2, 2, 2, 2, 2, 2, 2, 2,\n",
              "       2, 2, 2, 2, 2, 2, 2, 2, 2, 2, 2, 2, 2, 2, 2, 2, 2, 2])"
            ]
          },
          "execution_count": 37,
          "metadata": {},
          "output_type": "execute_result"
        }
      ],
      "source": [
        "print(data.shape)\n",
        "print(labels.shape)\n",
        "labels"
      ]
    },
    {
      "cell_type": "code",
      "execution_count": 38,
      "metadata": {},
      "outputs": [],
      "source": [
        "data_dict = {'Right Grasp':  epochs['Right Grasp'].get_data(), \n",
        "            'Right Release': epochs['Right Release'].get_data()}\n"
      ]
    },
    {
      "cell_type": "code",
      "execution_count": 39,
      "metadata": {},
      "outputs": [
        {
          "data": {
            "text/plain": [
              "(1, 9, 751)"
            ]
          },
          "execution_count": 39,
          "metadata": {},
          "output_type": "execute_result"
        }
      ],
      "source": [
        "epochs['Right Grasp'][0].get_data().shape"
      ]
    },
    {
      "cell_type": "code",
      "execution_count": 40,
      "metadata": {},
      "outputs": [
        {
          "data": {
            "text/plain": [
              "(9, 751)"
            ]
          },
          "execution_count": 40,
          "metadata": {},
          "output_type": "execute_result"
        }
      ],
      "source": [
        "epochs.get_data()[0].shape"
      ]
    },
    {
      "cell_type": "code",
      "execution_count": 41,
      "metadata": {},
      "outputs": [
        {
          "name": "stdout",
          "output_type": "stream",
          "text": [
            "(75, 9, 751)\n"
          ]
        }
      ],
      "source": [
        "print(data_dict[\"Right Grasp\"].shape)"
      ]
    },
    {
      "cell_type": "code",
      "execution_count": 42,
      "metadata": {},
      "outputs": [
        {
          "data": {
            "text/plain": [
              "(9, 751)"
            ]
          },
          "execution_count": 42,
          "metadata": {},
          "output_type": "execute_result"
        }
      ],
      "source": [
        "data_dict[\"Right Grasp\"][0].shape"
      ]
    },
    {
      "cell_type": "code",
      "execution_count": 43,
      "metadata": {},
      "outputs": [
        {
          "data": {
            "text/plain": [
              "500.0"
            ]
          },
          "execution_count": 43,
          "metadata": {},
          "output_type": "execute_result"
        }
      ],
      "source": [
        "fs = epochs.info['sfreq']\n",
        "fs"
      ]
    },
    {
      "cell_type": "code",
      "execution_count": 44,
      "metadata": {},
      "outputs": [],
      "source": [
        "event_id = {'Right Grasp': 1, 'Right Release': 2, 'Baseline': 3}\n"
      ]
    },
    {
      "cell_type": "markdown",
      "metadata": {},
      "source": [
        "## FBCSP"
      ]
    },
    {
      "cell_type": "code",
      "execution_count": 45,
      "metadata": {},
      "outputs": [
        {
          "name": "stdout",
          "output_type": "stream",
          "text": [
            "Features used for classification:  8\n",
            "Labels :  [1. 1. 1. 1. 1. 1. 1. 1. 1. 1. 1. 1. 1. 1. 1. 1. 1. 1. 1. 1. 1. 1. 1. 1.\n",
            " 1. 1. 1. 1. 1. 1. 1. 1. 1. 1. 1. 1. 1. 1. 1. 1. 1. 1. 1. 1. 1. 1. 1. 1.\n",
            " 1. 1. 1. 1. 1. 1. 1. 1. 1. 1. 1. 1. 1. 1. 1. 1. 1. 1. 1. 1. 1. 1. 1. 1.\n",
            " 1. 1. 1. 2. 2. 2. 2. 2. 2. 2. 2. 2. 2. 2. 2. 2. 2. 2. 2. 2. 2. 2. 2. 2.\n",
            " 2. 2. 2. 2. 2. 2. 2. 2. 2. 2. 2. 2. 2. 2. 2. 2. 2. 2. 2. 2. 2. 2. 2. 2.\n",
            " 2. 2. 2. 2. 2. 2. 2. 2. 2. 2. 2. 2. 2. 2. 2. 2. 2. 2. 2. 2. 2. 2. 2. 2.\n",
            " 2. 2. 2. 2. 2. 2.]\n",
            "Label size  (150,)\n"
          ]
        }
      ],
      "source": [
        "fbcsp_clf = FBCSP(data_dict, fs, freqs_band=freqs_band)"
      ]
    },
    {
      "cell_type": "code",
      "execution_count": 46,
      "metadata": {},
      "outputs": [
        {
          "data": {
            "text/plain": [
              "array([[[-0.03998876,  0.0616941 , -0.17231366, ..., -1.50299811,\n",
              "         -1.43186767, -1.25809791],\n",
              "        [ 0.04492969, -0.64660382, -1.66088553, ..., -1.02072356,\n",
              "         -1.43905039, -1.72422832],\n",
              "        [-1.93913213, -2.92346885, -4.15839436, ...,  1.19918924,\n",
              "          1.14166796,  1.19786701],\n",
              "        ...,\n",
              "        [-2.76736048, -3.53387746, -4.52924566, ...,  1.51332881,\n",
              "          0.8537821 ,  0.30371121],\n",
              "        [-1.86859766, -2.03086135, -2.39154901, ...,  0.04839694,\n",
              "         -0.08084697, -0.11221195],\n",
              "        [ 0.06211643, -0.75467654, -1.85985082, ..., -1.00181648,\n",
              "         -0.94760712, -0.80418121]]])"
            ]
          },
          "execution_count": 46,
          "metadata": {},
          "output_type": "execute_result"
        }
      ],
      "source": [
        "epochs['Right Grasp'][0].get_data()"
      ]
    },
    {
      "cell_type": "code",
      "execution_count": 47,
      "metadata": {},
      "outputs": [],
      "source": [
        "data_matrix = fbcsp_clf.tmp_data_matrix\n",
        "labels = fbcsp_clf.tmp_label\n",
        "# labels_dict = fbcsp_clf.tmp_label_dict\n",
        "# labels_dict = fbcsp_clf.n_features_for_classification"
      ]
    },
    {
      "cell_type": "code",
      "execution_count": 48,
      "metadata": {},
      "outputs": [
        {
          "data": {
            "text/plain": [
              "array([1., 1., 1., 1., 1., 1., 1., 1., 1., 1., 1., 1., 1., 1., 1., 1., 1.,\n",
              "       1., 1., 1., 1., 1., 1., 1., 1., 1., 1., 1., 1., 1., 1., 1., 1., 1.,\n",
              "       1., 1., 1., 1., 1., 1., 1., 1., 1., 1., 1., 1., 1., 1., 1., 1., 1.,\n",
              "       1., 1., 1., 1., 1., 1., 1., 1., 1., 1., 1., 1., 1., 1., 1., 1., 1.,\n",
              "       1., 1., 1., 1., 1., 1., 1., 2., 2., 2., 2., 2., 2., 2., 2., 2., 2.,\n",
              "       2., 2., 2., 2., 2., 2., 2., 2., 2., 2., 2., 2., 2., 2., 2., 2., 2.,\n",
              "       2., 2., 2., 2., 2., 2., 2., 2., 2., 2., 2., 2., 2., 2., 2., 2., 2.,\n",
              "       2., 2., 2., 2., 2., 2., 2., 2., 2., 2., 2., 2., 2., 2., 2., 2., 2.,\n",
              "       2., 2., 2., 2., 2., 2., 2., 2., 2., 2., 2., 2., 2., 2.])"
            ]
          },
          "execution_count": 48,
          "metadata": {},
          "output_type": "execute_result"
        }
      ],
      "source": [
        "labels"
      ]
    },
    {
      "cell_type": "code",
      "execution_count": 49,
      "metadata": {},
      "outputs": [],
      "source": [
        "X = data_matrix\n",
        "y = labels"
      ]
    },
    {
      "cell_type": "code",
      "execution_count": 50,
      "metadata": {},
      "outputs": [
        {
          "name": "stdout",
          "output_type": "stream",
          "text": [
            "(150, 8)\n"
          ]
        }
      ],
      "source": [
        "print(data_matrix.shape)"
      ]
    },
    {
      "cell_type": "markdown",
      "metadata": {},
      "source": [
        "## Normal Train Test Split"
      ]
    },
    {
      "cell_type": "code",
      "execution_count": 51,
      "metadata": {},
      "outputs": [],
      "source": [
        "X_train, X_test, y_train, y_test = train_test_split(X, y, shuffle=True, stratify=labels,test_size=0.4, random_state=42)"
      ]
    },
    {
      "cell_type": "code",
      "execution_count": 52,
      "metadata": {},
      "outputs": [
        {
          "name": "stdout",
          "output_type": "stream",
          "text": [
            "(90, 8)\n",
            "(60, 8)\n"
          ]
        }
      ],
      "source": [
        "print(X_train.shape)\n",
        "print(X_test.shape)"
      ]
    },
    {
      "cell_type": "code",
      "execution_count": 53,
      "metadata": {},
      "outputs": [
        {
          "name": "stdout",
          "output_type": "stream",
          "text": [
            "(90,)\n",
            "[2. 2. 1. 2. 2. 1. 1. 1. 1. 1. 2. 1. 1. 2. 2. 1. 1. 1. 1. 2. 1. 1. 2. 1.\n",
            " 1. 1. 1. 1. 1. 1. 1. 1. 2. 2. 1. 1. 2. 2. 1. 1. 2. 1. 2. 1. 2. 2. 1. 2.\n",
            " 2. 2. 2. 1. 2. 2. 2. 2. 1. 1. 1. 2. 2. 2. 2. 2. 2. 1. 2. 1. 2. 2. 1. 2.\n",
            " 1. 2. 2. 2. 1. 2. 2. 1. 1. 2. 2. 2. 1. 2. 1. 2. 1. 1.]\n",
            "(60,)\n",
            "[2. 1. 1. 1. 2. 1. 1. 1. 2. 2. 2. 1. 2. 2. 1. 2. 2. 2. 1. 2. 2. 2. 1. 1.\n",
            " 1. 1. 2. 2. 2. 2. 1. 1. 1. 1. 2. 2. 1. 1. 1. 2. 1. 2. 2. 1. 2. 2. 1. 1.\n",
            " 2. 1. 1. 2. 2. 2. 1. 1. 1. 2. 2. 1.]\n"
          ]
        }
      ],
      "source": [
        "print(y_train.shape)\n",
        "print(y_train)\n",
        "print(y_test.shape)\n",
        "print(y_test)"
      ]
    },
    {
      "cell_type": "code",
      "execution_count": 54,
      "metadata": {},
      "outputs": [
        {
          "name": "stdout",
          "output_type": "stream",
          "text": [
            "<class 'numpy.ndarray'>\n",
            "<class 'numpy.ndarray'>\n"
          ]
        }
      ],
      "source": [
        "print(type(X_train))\n",
        "print(type(y_train))"
      ]
    },
    {
      "cell_type": "code",
      "execution_count": 55,
      "metadata": {},
      "outputs": [
        {
          "data": {
            "text/html": [
              "<style>#sk-container-id-1 {\n",
              "  /* Definition of color scheme common for light and dark mode */\n",
              "  --sklearn-color-text: black;\n",
              "  --sklearn-color-line: gray;\n",
              "  /* Definition of color scheme for unfitted estimators */\n",
              "  --sklearn-color-unfitted-level-0: #fff5e6;\n",
              "  --sklearn-color-unfitted-level-1: #f6e4d2;\n",
              "  --sklearn-color-unfitted-level-2: #ffe0b3;\n",
              "  --sklearn-color-unfitted-level-3: chocolate;\n",
              "  /* Definition of color scheme for fitted estimators */\n",
              "  --sklearn-color-fitted-level-0: #f0f8ff;\n",
              "  --sklearn-color-fitted-level-1: #d4ebff;\n",
              "  --sklearn-color-fitted-level-2: #b3dbfd;\n",
              "  --sklearn-color-fitted-level-3: cornflowerblue;\n",
              "\n",
              "  /* Specific color for light theme */\n",
              "  --sklearn-color-text-on-default-background: var(--sg-text-color, var(--theme-code-foreground, var(--jp-content-font-color1, black)));\n",
              "  --sklearn-color-background: var(--sg-background-color, var(--theme-background, var(--jp-layout-color0, white)));\n",
              "  --sklearn-color-border-box: var(--sg-text-color, var(--theme-code-foreground, var(--jp-content-font-color1, black)));\n",
              "  --sklearn-color-icon: #696969;\n",
              "\n",
              "  @media (prefers-color-scheme: dark) {\n",
              "    /* Redefinition of color scheme for dark theme */\n",
              "    --sklearn-color-text-on-default-background: var(--sg-text-color, var(--theme-code-foreground, var(--jp-content-font-color1, white)));\n",
              "    --sklearn-color-background: var(--sg-background-color, var(--theme-background, var(--jp-layout-color0, #111)));\n",
              "    --sklearn-color-border-box: var(--sg-text-color, var(--theme-code-foreground, var(--jp-content-font-color1, white)));\n",
              "    --sklearn-color-icon: #878787;\n",
              "  }\n",
              "}\n",
              "\n",
              "#sk-container-id-1 {\n",
              "  color: var(--sklearn-color-text);\n",
              "}\n",
              "\n",
              "#sk-container-id-1 pre {\n",
              "  padding: 0;\n",
              "}\n",
              "\n",
              "#sk-container-id-1 input.sk-hidden--visually {\n",
              "  border: 0;\n",
              "  clip: rect(1px 1px 1px 1px);\n",
              "  clip: rect(1px, 1px, 1px, 1px);\n",
              "  height: 1px;\n",
              "  margin: -1px;\n",
              "  overflow: hidden;\n",
              "  padding: 0;\n",
              "  position: absolute;\n",
              "  width: 1px;\n",
              "}\n",
              "\n",
              "#sk-container-id-1 div.sk-dashed-wrapped {\n",
              "  border: 1px dashed var(--sklearn-color-line);\n",
              "  margin: 0 0.4em 0.5em 0.4em;\n",
              "  box-sizing: border-box;\n",
              "  padding-bottom: 0.4em;\n",
              "  background-color: var(--sklearn-color-background);\n",
              "}\n",
              "\n",
              "#sk-container-id-1 div.sk-container {\n",
              "  /* jupyter's `normalize.less` sets `[hidden] { display: none; }`\n",
              "     but bootstrap.min.css set `[hidden] { display: none !important; }`\n",
              "     so we also need the `!important` here to be able to override the\n",
              "     default hidden behavior on the sphinx rendered scikit-learn.org.\n",
              "     See: https://github.com/scikit-learn/scikit-learn/issues/21755 */\n",
              "  display: inline-block !important;\n",
              "  position: relative;\n",
              "}\n",
              "\n",
              "#sk-container-id-1 div.sk-text-repr-fallback {\n",
              "  display: none;\n",
              "}\n",
              "\n",
              "div.sk-parallel-item,\n",
              "div.sk-serial,\n",
              "div.sk-item {\n",
              "  /* draw centered vertical line to link estimators */\n",
              "  background-image: linear-gradient(var(--sklearn-color-text-on-default-background), var(--sklearn-color-text-on-default-background));\n",
              "  background-size: 2px 100%;\n",
              "  background-repeat: no-repeat;\n",
              "  background-position: center center;\n",
              "}\n",
              "\n",
              "/* Parallel-specific style estimator block */\n",
              "\n",
              "#sk-container-id-1 div.sk-parallel-item::after {\n",
              "  content: \"\";\n",
              "  width: 100%;\n",
              "  border-bottom: 2px solid var(--sklearn-color-text-on-default-background);\n",
              "  flex-grow: 1;\n",
              "}\n",
              "\n",
              "#sk-container-id-1 div.sk-parallel {\n",
              "  display: flex;\n",
              "  align-items: stretch;\n",
              "  justify-content: center;\n",
              "  background-color: var(--sklearn-color-background);\n",
              "  position: relative;\n",
              "}\n",
              "\n",
              "#sk-container-id-1 div.sk-parallel-item {\n",
              "  display: flex;\n",
              "  flex-direction: column;\n",
              "}\n",
              "\n",
              "#sk-container-id-1 div.sk-parallel-item:first-child::after {\n",
              "  align-self: flex-end;\n",
              "  width: 50%;\n",
              "}\n",
              "\n",
              "#sk-container-id-1 div.sk-parallel-item:last-child::after {\n",
              "  align-self: flex-start;\n",
              "  width: 50%;\n",
              "}\n",
              "\n",
              "#sk-container-id-1 div.sk-parallel-item:only-child::after {\n",
              "  width: 0;\n",
              "}\n",
              "\n",
              "/* Serial-specific style estimator block */\n",
              "\n",
              "#sk-container-id-1 div.sk-serial {\n",
              "  display: flex;\n",
              "  flex-direction: column;\n",
              "  align-items: center;\n",
              "  background-color: var(--sklearn-color-background);\n",
              "  padding-right: 1em;\n",
              "  padding-left: 1em;\n",
              "}\n",
              "\n",
              "\n",
              "/* Toggleable style: style used for estimator/Pipeline/ColumnTransformer box that is\n",
              "clickable and can be expanded/collapsed.\n",
              "- Pipeline and ColumnTransformer use this feature and define the default style\n",
              "- Estimators will overwrite some part of the style using the `sk-estimator` class\n",
              "*/\n",
              "\n",
              "/* Pipeline and ColumnTransformer style (default) */\n",
              "\n",
              "#sk-container-id-1 div.sk-toggleable {\n",
              "  /* Default theme specific background. It is overwritten whether we have a\n",
              "  specific estimator or a Pipeline/ColumnTransformer */\n",
              "  background-color: var(--sklearn-color-background);\n",
              "}\n",
              "\n",
              "/* Toggleable label */\n",
              "#sk-container-id-1 label.sk-toggleable__label {\n",
              "  cursor: pointer;\n",
              "  display: block;\n",
              "  width: 100%;\n",
              "  margin-bottom: 0;\n",
              "  padding: 0.5em;\n",
              "  box-sizing: border-box;\n",
              "  text-align: center;\n",
              "}\n",
              "\n",
              "#sk-container-id-1 label.sk-toggleable__label-arrow:before {\n",
              "  /* Arrow on the left of the label */\n",
              "  content: \"▸\";\n",
              "  float: left;\n",
              "  margin-right: 0.25em;\n",
              "  color: var(--sklearn-color-icon);\n",
              "}\n",
              "\n",
              "#sk-container-id-1 label.sk-toggleable__label-arrow:hover:before {\n",
              "  color: var(--sklearn-color-text);\n",
              "}\n",
              "\n",
              "/* Toggleable content - dropdown */\n",
              "\n",
              "#sk-container-id-1 div.sk-toggleable__content {\n",
              "  max-height: 0;\n",
              "  max-width: 0;\n",
              "  overflow: hidden;\n",
              "  text-align: left;\n",
              "  /* unfitted */\n",
              "  background-color: var(--sklearn-color-unfitted-level-0);\n",
              "}\n",
              "\n",
              "#sk-container-id-1 div.sk-toggleable__content.fitted {\n",
              "  /* fitted */\n",
              "  background-color: var(--sklearn-color-fitted-level-0);\n",
              "}\n",
              "\n",
              "#sk-container-id-1 div.sk-toggleable__content pre {\n",
              "  margin: 0.2em;\n",
              "  border-radius: 0.25em;\n",
              "  color: var(--sklearn-color-text);\n",
              "  /* unfitted */\n",
              "  background-color: var(--sklearn-color-unfitted-level-0);\n",
              "}\n",
              "\n",
              "#sk-container-id-1 div.sk-toggleable__content.fitted pre {\n",
              "  /* unfitted */\n",
              "  background-color: var(--sklearn-color-fitted-level-0);\n",
              "}\n",
              "\n",
              "#sk-container-id-1 input.sk-toggleable__control:checked~div.sk-toggleable__content {\n",
              "  /* Expand drop-down */\n",
              "  max-height: 200px;\n",
              "  max-width: 100%;\n",
              "  overflow: auto;\n",
              "}\n",
              "\n",
              "#sk-container-id-1 input.sk-toggleable__control:checked~label.sk-toggleable__label-arrow:before {\n",
              "  content: \"▾\";\n",
              "}\n",
              "\n",
              "/* Pipeline/ColumnTransformer-specific style */\n",
              "\n",
              "#sk-container-id-1 div.sk-label input.sk-toggleable__control:checked~label.sk-toggleable__label {\n",
              "  color: var(--sklearn-color-text);\n",
              "  background-color: var(--sklearn-color-unfitted-level-2);\n",
              "}\n",
              "\n",
              "#sk-container-id-1 div.sk-label.fitted input.sk-toggleable__control:checked~label.sk-toggleable__label {\n",
              "  background-color: var(--sklearn-color-fitted-level-2);\n",
              "}\n",
              "\n",
              "/* Estimator-specific style */\n",
              "\n",
              "/* Colorize estimator box */\n",
              "#sk-container-id-1 div.sk-estimator input.sk-toggleable__control:checked~label.sk-toggleable__label {\n",
              "  /* unfitted */\n",
              "  background-color: var(--sklearn-color-unfitted-level-2);\n",
              "}\n",
              "\n",
              "#sk-container-id-1 div.sk-estimator.fitted input.sk-toggleable__control:checked~label.sk-toggleable__label {\n",
              "  /* fitted */\n",
              "  background-color: var(--sklearn-color-fitted-level-2);\n",
              "}\n",
              "\n",
              "#sk-container-id-1 div.sk-label label.sk-toggleable__label,\n",
              "#sk-container-id-1 div.sk-label label {\n",
              "  /* The background is the default theme color */\n",
              "  color: var(--sklearn-color-text-on-default-background);\n",
              "}\n",
              "\n",
              "/* On hover, darken the color of the background */\n",
              "#sk-container-id-1 div.sk-label:hover label.sk-toggleable__label {\n",
              "  color: var(--sklearn-color-text);\n",
              "  background-color: var(--sklearn-color-unfitted-level-2);\n",
              "}\n",
              "\n",
              "/* Label box, darken color on hover, fitted */\n",
              "#sk-container-id-1 div.sk-label.fitted:hover label.sk-toggleable__label.fitted {\n",
              "  color: var(--sklearn-color-text);\n",
              "  background-color: var(--sklearn-color-fitted-level-2);\n",
              "}\n",
              "\n",
              "/* Estimator label */\n",
              "\n",
              "#sk-container-id-1 div.sk-label label {\n",
              "  font-family: monospace;\n",
              "  font-weight: bold;\n",
              "  display: inline-block;\n",
              "  line-height: 1.2em;\n",
              "}\n",
              "\n",
              "#sk-container-id-1 div.sk-label-container {\n",
              "  text-align: center;\n",
              "}\n",
              "\n",
              "/* Estimator-specific */\n",
              "#sk-container-id-1 div.sk-estimator {\n",
              "  font-family: monospace;\n",
              "  border: 1px dotted var(--sklearn-color-border-box);\n",
              "  border-radius: 0.25em;\n",
              "  box-sizing: border-box;\n",
              "  margin-bottom: 0.5em;\n",
              "  /* unfitted */\n",
              "  background-color: var(--sklearn-color-unfitted-level-0);\n",
              "}\n",
              "\n",
              "#sk-container-id-1 div.sk-estimator.fitted {\n",
              "  /* fitted */\n",
              "  background-color: var(--sklearn-color-fitted-level-0);\n",
              "}\n",
              "\n",
              "/* on hover */\n",
              "#sk-container-id-1 div.sk-estimator:hover {\n",
              "  /* unfitted */\n",
              "  background-color: var(--sklearn-color-unfitted-level-2);\n",
              "}\n",
              "\n",
              "#sk-container-id-1 div.sk-estimator.fitted:hover {\n",
              "  /* fitted */\n",
              "  background-color: var(--sklearn-color-fitted-level-2);\n",
              "}\n",
              "\n",
              "/* Specification for estimator info (e.g. \"i\" and \"?\") */\n",
              "\n",
              "/* Common style for \"i\" and \"?\" */\n",
              "\n",
              ".sk-estimator-doc-link,\n",
              "a:link.sk-estimator-doc-link,\n",
              "a:visited.sk-estimator-doc-link {\n",
              "  float: right;\n",
              "  font-size: smaller;\n",
              "  line-height: 1em;\n",
              "  font-family: monospace;\n",
              "  background-color: var(--sklearn-color-background);\n",
              "  border-radius: 1em;\n",
              "  height: 1em;\n",
              "  width: 1em;\n",
              "  text-decoration: none !important;\n",
              "  margin-left: 1ex;\n",
              "  /* unfitted */\n",
              "  border: var(--sklearn-color-unfitted-level-1) 1pt solid;\n",
              "  color: var(--sklearn-color-unfitted-level-1);\n",
              "}\n",
              "\n",
              ".sk-estimator-doc-link.fitted,\n",
              "a:link.sk-estimator-doc-link.fitted,\n",
              "a:visited.sk-estimator-doc-link.fitted {\n",
              "  /* fitted */\n",
              "  border: var(--sklearn-color-fitted-level-1) 1pt solid;\n",
              "  color: var(--sklearn-color-fitted-level-1);\n",
              "}\n",
              "\n",
              "/* On hover */\n",
              "div.sk-estimator:hover .sk-estimator-doc-link:hover,\n",
              ".sk-estimator-doc-link:hover,\n",
              "div.sk-label-container:hover .sk-estimator-doc-link:hover,\n",
              ".sk-estimator-doc-link:hover {\n",
              "  /* unfitted */\n",
              "  background-color: var(--sklearn-color-unfitted-level-3);\n",
              "  color: var(--sklearn-color-background);\n",
              "  text-decoration: none;\n",
              "}\n",
              "\n",
              "div.sk-estimator.fitted:hover .sk-estimator-doc-link.fitted:hover,\n",
              ".sk-estimator-doc-link.fitted:hover,\n",
              "div.sk-label-container:hover .sk-estimator-doc-link.fitted:hover,\n",
              ".sk-estimator-doc-link.fitted:hover {\n",
              "  /* fitted */\n",
              "  background-color: var(--sklearn-color-fitted-level-3);\n",
              "  color: var(--sklearn-color-background);\n",
              "  text-decoration: none;\n",
              "}\n",
              "\n",
              "/* Span, style for the box shown on hovering the info icon */\n",
              ".sk-estimator-doc-link span {\n",
              "  display: none;\n",
              "  z-index: 9999;\n",
              "  position: relative;\n",
              "  font-weight: normal;\n",
              "  right: .2ex;\n",
              "  padding: .5ex;\n",
              "  margin: .5ex;\n",
              "  width: min-content;\n",
              "  min-width: 20ex;\n",
              "  max-width: 50ex;\n",
              "  color: var(--sklearn-color-text);\n",
              "  box-shadow: 2pt 2pt 4pt #999;\n",
              "  /* unfitted */\n",
              "  background: var(--sklearn-color-unfitted-level-0);\n",
              "  border: .5pt solid var(--sklearn-color-unfitted-level-3);\n",
              "}\n",
              "\n",
              ".sk-estimator-doc-link.fitted span {\n",
              "  /* fitted */\n",
              "  background: var(--sklearn-color-fitted-level-0);\n",
              "  border: var(--sklearn-color-fitted-level-3);\n",
              "}\n",
              "\n",
              ".sk-estimator-doc-link:hover span {\n",
              "  display: block;\n",
              "}\n",
              "\n",
              "/* \"?\"-specific style due to the `<a>` HTML tag */\n",
              "\n",
              "#sk-container-id-1 a.estimator_doc_link {\n",
              "  float: right;\n",
              "  font-size: 1rem;\n",
              "  line-height: 1em;\n",
              "  font-family: monospace;\n",
              "  background-color: var(--sklearn-color-background);\n",
              "  border-radius: 1rem;\n",
              "  height: 1rem;\n",
              "  width: 1rem;\n",
              "  text-decoration: none;\n",
              "  /* unfitted */\n",
              "  color: var(--sklearn-color-unfitted-level-1);\n",
              "  border: var(--sklearn-color-unfitted-level-1) 1pt solid;\n",
              "}\n",
              "\n",
              "#sk-container-id-1 a.estimator_doc_link.fitted {\n",
              "  /* fitted */\n",
              "  border: var(--sklearn-color-fitted-level-1) 1pt solid;\n",
              "  color: var(--sklearn-color-fitted-level-1);\n",
              "}\n",
              "\n",
              "/* On hover */\n",
              "#sk-container-id-1 a.estimator_doc_link:hover {\n",
              "  /* unfitted */\n",
              "  background-color: var(--sklearn-color-unfitted-level-3);\n",
              "  color: var(--sklearn-color-background);\n",
              "  text-decoration: none;\n",
              "}\n",
              "\n",
              "#sk-container-id-1 a.estimator_doc_link.fitted:hover {\n",
              "  /* fitted */\n",
              "  background-color: var(--sklearn-color-fitted-level-3);\n",
              "}\n",
              "</style><div id=\"sk-container-id-1\" class=\"sk-top-container\"><div class=\"sk-text-repr-fallback\"><pre>LinearDiscriminantAnalysis()</pre><b>In a Jupyter environment, please rerun this cell to show the HTML representation or trust the notebook. <br />On GitHub, the HTML representation is unable to render, please try loading this page with nbviewer.org.</b></div><div class=\"sk-container\" hidden><div class=\"sk-item\"><div class=\"sk-estimator fitted sk-toggleable\"><input class=\"sk-toggleable__control sk-hidden--visually\" id=\"sk-estimator-id-1\" type=\"checkbox\" checked><label for=\"sk-estimator-id-1\" class=\"sk-toggleable__label fitted sk-toggleable__label-arrow fitted\">&nbsp;&nbsp;LinearDiscriminantAnalysis<a class=\"sk-estimator-doc-link fitted\" rel=\"noreferrer\" target=\"_blank\" href=\"https://scikit-learn.org/1.4/modules/generated/sklearn.discriminant_analysis.LinearDiscriminantAnalysis.html\">?<span>Documentation for LinearDiscriminantAnalysis</span></a><span class=\"sk-estimator-doc-link fitted\">i<span>Fitted</span></span></label><div class=\"sk-toggleable__content fitted\"><pre>LinearDiscriminantAnalysis()</pre></div> </div></div></div></div>"
            ],
            "text/plain": [
              "LinearDiscriminantAnalysis()"
            ]
          },
          "execution_count": 55,
          "metadata": {},
          "output_type": "execute_result"
        }
      ],
      "source": [
        "from sklearn.discriminant_analysis import LinearDiscriminantAnalysis as LDA\n",
        "from sklearn.metrics import accuracy_score\n",
        "\n",
        "lda_classifier = LDA()\n",
        "lda_classifier.fit(X_train, y_train)"
      ]
    },
    {
      "cell_type": "code",
      "execution_count": 56,
      "metadata": {},
      "outputs": [
        {
          "name": "stdout",
          "output_type": "stream",
          "text": [
            "Accuracy: 65.00%\n"
          ]
        }
      ],
      "source": [
        "# Step 7: Evaluate the Model\n",
        "y_pred = lda_classifier.predict(X_test)\n",
        "accuracy = accuracy_score(y_test, y_pred)\n",
        "print(f'Accuracy: {accuracy * 100:.2f}%')"
      ]
    },
    {
      "cell_type": "code",
      "execution_count": 57,
      "metadata": {},
      "outputs": [],
      "source": [
        "kappa_scorer = sklearn.metrics.make_scorer(sklearn.metrics.cohen_kappa_score) \n",
        "accuracy_scorer = sklearn.metrics.make_scorer(sklearn.metrics.accuracy_score)"
      ]
    },
    {
      "cell_type": "code",
      "execution_count": 58,
      "metadata": {},
      "outputs": [
        {
          "name": "stdout",
          "output_type": "stream",
          "text": [
            "Accuracy Score on Training set:  0.6888888888888889\n",
            "Accuracy Score on Test set:  0.65\n"
          ]
        }
      ],
      "source": [
        "# Accuracy Score\n",
        "train_score = accuracy_scorer(lda_classifier, X_train, y_train)\n",
        "test_score = accuracy_scorer(lda_classifier, X_test, y_test)\n",
        "print(\"Accuracy Score on Training set: \", train_score)\n",
        "print(\"Accuracy Score on Test set: \", test_score)"
      ]
    },
    {
      "cell_type": "code",
      "execution_count": 59,
      "metadata": {},
      "outputs": [
        {
          "name": "stdout",
          "output_type": "stream",
          "text": [
            "Kappa Score on Training set:  0.37777777777777777\n",
            "Kappa Score on Test set:  0.30000000000000004\n"
          ]
        }
      ],
      "source": [
        "# Kappa Score\n",
        "train_score = kappa_scorer(lda_classifier, X_train, y_train)\n",
        "test_score = kappa_scorer(lda_classifier, X_test, y_test)\n",
        "print(\"Kappa Score on Training set: \", train_score)\n",
        "print(\"Kappa Score on Test set: \", test_score)\n",
        "        "
      ]
    },
    {
      "cell_type": "markdown",
      "metadata": {},
      "source": [
        "### All Models"
      ]
    },
    {
      "cell_type": "code",
      "execution_count": 60,
      "metadata": {},
      "outputs": [],
      "source": [
        "from sklearn.model_selection import train_test_split\n",
        "from sklearn.svm import SVC, LinearSVC\n",
        "from sklearn.ensemble import RandomForestClassifier, ExtraTreesClassifier\n",
        "from sklearn.neighbors import KNeighborsClassifier\n",
        "from sklearn.linear_model import LogisticRegression\n",
        "from sklearn.discriminant_analysis import LinearDiscriminantAnalysis\n",
        "from sklearn.naive_bayes import GaussianNB\n",
        "from xgboost import XGBClassifier\n",
        "from sklearn.tree import DecisionTreeClassifier\n",
        "from sklearn.neural_network import MLPClassifier\n",
        "from sklearn.metrics import accuracy_score"
      ]
    },
    {
      "cell_type": "code",
      "execution_count": 61,
      "metadata": {},
      "outputs": [],
      "source": [
        "# Dictionary to hold models and their names\n",
        "models = {\n",
        "    'SVM': SVC(kernel='rbf', C=1, gamma='scale'),\n",
        "    'Linear SVC': LinearSVC(max_iter=10000, random_state=42),\n",
        "    'Random Forest': RandomForestClassifier(n_estimators=100, random_state=42),\n",
        "    'k-NN': KNeighborsClassifier(n_neighbors=5),\n",
        "    'Logistic Regression': LogisticRegression(solver='lbfgs', max_iter=1000),\n",
        "    'LDA': LinearDiscriminantAnalysis(),\n",
        "    'Naive Bayes': GaussianNB(),\n",
        "    'Extra Trees': ExtraTreesClassifier(n_estimators=100, random_state=42),\n",
        "    'Decision Tree': DecisionTreeClassifier(random_state=42),\n",
        "    'MLP Classifier': MLPClassifier(hidden_layer_sizes=(100,), max_iter=300, random_state=42),\n",
        "}"
      ]
    },
    {
      "cell_type": "code",
      "execution_count": 62,
      "metadata": {},
      "outputs": [
        {
          "name": "stdout",
          "output_type": "stream",
          "text": [
            "Train Shape:  (105, 8)\n",
            "Test Shape:  (45, 8)\n"
          ]
        }
      ],
      "source": [
        "X_train, X_test, y_train, y_test = train_test_split(X, y, shuffle=True, stratify=labels,test_size=0.3, random_state=42)\n",
        "print(\"Train Shape: \", X_train.shape)\n",
        "print(\"Test Shape: \", X_test.shape)"
      ]
    },
    {
      "cell_type": "code",
      "execution_count": 63,
      "metadata": {},
      "outputs": [],
      "source": [
        "# Dictionary to store the trained models and their accuracies\n",
        "# trained_models = {}\n",
        "# model_accuracies = {}\n",
        "\n",
        "# # Train and evaluate each model\n",
        "# for name, model in models.items():\n",
        "#     model.fit(X_train, y_train)  # Train the model\n",
        "#     y_pred = model.predict(X_test)  # Predict on test data\n",
        "#     accuracy = accuracy_score(y_test, y_pred)  # Calculate accuracy\n",
        "#     print(f'{name} Accuracy: {accuracy * 100:.2f}%')\n",
        "    \n",
        "#     # Save the trained model to the dictionary\n",
        "#     trained_models[name] = model\n",
        "#     # Save the accuracy to the dictionary\n",
        "#     model_accuracies[name] = accuracy * 100\n"
      ]
    },
    {
      "cell_type": "code",
      "execution_count": 64,
      "metadata": {},
      "outputs": [
        {
          "name": "stdout",
          "output_type": "stream",
          "text": [
            "XGBoost Accuracy: 62.22%\n"
          ]
        }
      ],
      "source": [
        "# Transform the labels to start from 0\n",
        "label_encoder = LabelEncoder()\n",
        "y_transformed = label_encoder.fit_transform(y)\n",
        "# Split the data into training and testing sets\n",
        "X_train_encoded, X_test_encoded, y_train_encoded, y_test_encoded = train_test_split(X, y_transformed, shuffle=True, stratify=labels,test_size=0.3, random_state=42)\n",
        "# Initialize the XGBoost classifier\n",
        "xgb_model = XGBClassifier(\n",
        "    n_estimators=100,         # Number of trees in the ensemble\n",
        "    learning_rate=0.1,        # Step size shrinkage used to prevent overfitting\n",
        "    max_depth=3,              # Maximum depth of a tree\n",
        "    use_label_encoder=False,  # Disable label encoder to avoid deprecation warning\n",
        "    eval_metric='logloss',    # Evaluation metric\n",
        "    random_state=42           # Seed for reproducibility\n",
        ")\n",
        "# Train the XGBoost model\n",
        "xgb_model.fit(X_train_encoded, y_train_encoded)\n",
        "# Predict on the test set\n",
        "y_pred_transformed = xgb_model.predict(X_test_encoded)\n",
        "# Transform predictions back to original labels\n",
        "y_pred = label_encoder.inverse_transform(y_pred_transformed)\n",
        "# Calculate accuracy\n",
        "accuracy = accuracy_score(label_encoder.inverse_transform(y_test_encoded), y_pred)\n",
        "# Print the accuracy\n",
        "print(f'XGBoost Accuracy: {accuracy * 100:.2f}%')\n",
        "# model_accuracies[\"XGBoost\"] = accuracy * 100\n"
      ]
    },
    {
      "cell_type": "code",
      "execution_count": 65,
      "metadata": {},
      "outputs": [],
      "source": [
        "# # Find the model with the highest accuracy\n",
        "# best_model_name = max(model_accuracies, key=model_accuracies.get)\n",
        "# max_accuracy = model_accuracies[best_model_name]\n",
        "\n",
        "# # Print the model name and its maximum accuracy\n",
        "# print(f'Best Model: {best_model_name} with Accuracy: {max_accuracy:.2f}%')"
      ]
    },
    {
      "cell_type": "markdown",
      "metadata": {},
      "source": [
        "## StratifiedKFold Cross Validation"
      ]
    },
    {
      "cell_type": "code",
      "execution_count": 66,
      "metadata": {},
      "outputs": [],
      "source": [
        "from sklearn.discriminant_analysis import LinearDiscriminantAnalysis as LDA\n",
        "from sklearn.model_selection import cross_val_score, StratifiedKFold\n",
        "from sklearn.metrics import accuracy_score\n",
        "import numpy as np"
      ]
    },
    {
      "cell_type": "code",
      "execution_count": 67,
      "metadata": {},
      "outputs": [],
      "source": [
        "X = data_matrix\n",
        "y = labels"
      ]
    },
    {
      "cell_type": "code",
      "execution_count": 68,
      "metadata": {},
      "outputs": [
        {
          "name": "stdout",
          "output_type": "stream",
          "text": [
            "(150, 8)\n"
          ]
        }
      ],
      "source": [
        "print(X.shape)"
      ]
    },
    {
      "cell_type": "code",
      "execution_count": 69,
      "metadata": {},
      "outputs": [
        {
          "name": "stdout",
          "output_type": "stream",
          "text": [
            "Train Shape:  (105, 8)\n",
            "Test Shape:  (45, 8)\n"
          ]
        }
      ],
      "source": [
        "X_train, X_test, y_train, y_test = train_test_split(X, y, shuffle=True, stratify=labels,test_size=0.3, random_state=42)\n",
        "print(\"Train Shape: \", X_train.shape)\n",
        "print(\"Test Shape: \", X_test.shape)"
      ]
    },
    {
      "cell_type": "code",
      "execution_count": 70,
      "metadata": {},
      "outputs": [],
      "source": [
        "# # Define the LDA classifier\n",
        "# cv_lda_classifier = LDA()\n",
        "\n",
        "# # Use StratifiedKFold to maintain class distribution in each fold\n",
        "# kf = StratifiedKFold(n_splits=5, shuffle=True, random_state=43)\n",
        "\n",
        "# # Perform cross-validation and compute accuracy for each fold\n",
        "# cv_scores = cross_val_score(cv_lda_classifier, X, y, cv=kf, scoring='accuracy')\n",
        "# # Print cross-validation scores\n",
        "# print(f'Cross-validation scores for each fold: {cv_scores}')\n",
        "# print(f'Average cross-validation accuracy: {cv_scores.mean():.2f} ± {cv_scores.std():.2f}')"
      ]
    },
    {
      "cell_type": "code",
      "execution_count": 71,
      "metadata": {},
      "outputs": [
        {
          "name": "stdout",
          "output_type": "stream",
          "text": [
            "SVM Accuracy: 71.11%\n",
            "Kappa Score on Test set:  0.37623762376237624\n",
            "Cross-validation scores for SVM: [0.56666667 0.56666667 0.46666667 0.66666667 0.73333333]\n",
            "Average cross-validation accuracy for SVM: 0.60 ± 0.09\n",
            "----------------------------------------------------------------------------------------------------\n",
            "Linear SVC Accuracy: 71.11%\n",
            "Kappa Score on Test set:  0.37623762376237624\n",
            "Cross-validation scores for Linear SVC: [0.6        0.63333333 0.63333333 0.63333333 0.6       ]\n",
            "Average cross-validation accuracy for Linear SVC: 0.62 ± 0.02\n",
            "----------------------------------------------------------------------------------------------------\n",
            "Random Forest Accuracy: 68.89%\n",
            "Kappa Score on Test set:  0.37623762376237624\n",
            "Cross-validation scores for Random Forest: [0.63333333 0.6        0.6        0.6        0.7       ]\n",
            "Average cross-validation accuracy for Random Forest: 0.63 ± 0.04\n",
            "----------------------------------------------------------------------------------------------------\n",
            "k-NN Accuracy: 62.22%\n",
            "Kappa Score on Test set:  0.37623762376237624\n",
            "Cross-validation scores for k-NN: [0.56666667 0.43333333 0.5        0.6        0.53333333]\n",
            "Average cross-validation accuracy for k-NN: 0.53 ± 0.06\n",
            "----------------------------------------------------------------------------------------------------\n",
            "Logistic Regression Accuracy: 68.89%\n",
            "Kappa Score on Test set:  0.37623762376237624\n",
            "Cross-validation scores for Logistic Regression: [0.6        0.6        0.63333333 0.63333333 0.63333333]\n",
            "Average cross-validation accuracy for Logistic Regression: 0.62 ± 0.02\n",
            "----------------------------------------------------------------------------------------------------\n",
            "LDA Accuracy: 64.44%\n",
            "Kappa Score on Test set:  0.37623762376237624\n",
            "Cross-validation scores for LDA: [0.6        0.63333333 0.63333333 0.63333333 0.6       ]\n",
            "Average cross-validation accuracy for LDA: 0.62 ± 0.02\n",
            "----------------------------------------------------------------------------------------------------\n",
            "Naive Bayes Accuracy: 71.11%\n",
            "Kappa Score on Test set:  0.37623762376237624\n",
            "Cross-validation scores for Naive Bayes: [0.56666667 0.53333333 0.73333333 0.66666667 0.66666667]\n",
            "Average cross-validation accuracy for Naive Bayes: 0.63 ± 0.07\n",
            "----------------------------------------------------------------------------------------------------\n",
            "Extra Trees Accuracy: 60.00%\n",
            "Kappa Score on Test set:  0.37623762376237624\n",
            "Cross-validation scores for Extra Trees: [0.66666667 0.53333333 0.56666667 0.6        0.6       ]\n",
            "Average cross-validation accuracy for Extra Trees: 0.59 ± 0.04\n",
            "----------------------------------------------------------------------------------------------------\n",
            "Decision Tree Accuracy: 55.56%\n",
            "Kappa Score on Test set:  0.37623762376237624\n",
            "Cross-validation scores for Decision Tree: [0.5        0.53333333 0.46666667 0.56666667 0.53333333]\n",
            "Average cross-validation accuracy for Decision Tree: 0.52 ± 0.03\n",
            "----------------------------------------------------------------------------------------------------\n",
            "MLP Classifier Accuracy: 73.33%\n",
            "Kappa Score on Test set:  0.37623762376237624\n",
            "Cross-validation scores for MLP Classifier: [0.63333333 0.66666667 0.53333333 0.66666667 0.63333333]\n",
            "Average cross-validation accuracy for MLP Classifier: 0.63 ± 0.05\n",
            "----------------------------------------------------------------------------------------------------\n"
          ]
        }
      ],
      "source": [
        "# Dictionary to store the trained models and their accuracies\n",
        "trained_models = {}\n",
        "model_accuracies = {}\n",
        "cv_results = {}\n",
        "kappa_results = {}\n",
        "\n",
        "# Variable to track the best cross-validation score and corresponding model name\n",
        "best_cv_score = 0\n",
        "best_cv_model_name = \"\"\n",
        "\n",
        "# Train and evaluate each model\n",
        "for name, model in models.items():\n",
        "    model.fit(X_train, y_train)  # Train the model\n",
        "    y_pred = model.predict(X_test)  # Predict on test data\n",
        "    accuracy = accuracy_score(y_test, y_pred)  # Calculate accuracy\n",
        "    print(f'{name} Accuracy: {accuracy * 100:.2f}%')\n",
        "\n",
        "    # Kappa Score\n",
        "    kappa_score = kappa_scorer(lda_classifier, X_test, y_test)\n",
        "    print(\"Kappa Score on Test set: \", kappa_score)\n",
        "    \n",
        "    # Save the trained model to the dictionary\n",
        "    trained_models[name] = model\n",
        "    # Save the accuracy to the dictionary\n",
        "    # model_accuracies[name] = accuracy * 100\n",
        "    model_accuracies[name] = accuracy \n",
        "    # kappa_results[name] = kappa_score * 100\n",
        "    kappa_results[name] = kappa_score \n",
        "    \n",
        "    # Perform Stratified K-Fold cross-validation\n",
        "    kf = StratifiedKFold(n_splits=5, shuffle=True, random_state=43)\n",
        "    cv_scores = cross_val_score(model, X, y, cv=kf, scoring='accuracy')\n",
        "    cv_results[name] = cv_scores\n",
        "\n",
        "    # Check if this model has the best cross-validation score\n",
        "    if cv_scores.mean() > best_cv_score:\n",
        "        best_cv_score = cv_scores.mean()\n",
        "        best_cv_model_name = name\n",
        "\n",
        "    # Print cross-validation results\n",
        "    print(f'Cross-validation scores for {name}: {cv_scores}')\n",
        "    print(f'Average cross-validation accuracy for {name}: {cv_scores.mean():.2f} ± {cv_scores.std():.2f}')\n",
        "\n",
        "    print(\"--\"*50)"
      ]
    },
    {
      "cell_type": "markdown",
      "metadata": {},
      "source": [
        "## Best Results"
      ]
    },
    {
      "cell_type": "code",
      "execution_count": 72,
      "metadata": {},
      "outputs": [
        {
          "name": "stdout",
          "output_type": "stream",
          "text": [
            "Best Model based on cross-validation: Naive Bayes with Average CV Accuracy: 0.63\n"
          ]
        }
      ],
      "source": [
        "# Print the model with the highest average cross-validation score\n",
        "print(f'Best Model based on cross-validation: {best_cv_model_name} with Average CV Accuracy: {best_cv_score:.2f}')"
      ]
    },
    {
      "cell_type": "code",
      "execution_count": 73,
      "metadata": {},
      "outputs": [
        {
          "name": "stdout",
          "output_type": "stream",
          "text": [
            "Best Model based on test accuracy: MLP Classifier with Accuracy: 0.73%\n"
          ]
        }
      ],
      "source": [
        "# Find the model with the highest test set accuracy\n",
        "best_model_name = max(model_accuracies, key=model_accuracies.get)\n",
        "max_accuracy = model_accuracies[best_model_name]\n",
        "print(f'Best Model based on test accuracy: {best_model_name} with Accuracy: {max_accuracy:.2f}%')"
      ]
    },
    {
      "cell_type": "code",
      "execution_count": 74,
      "metadata": {},
      "outputs": [
        {
          "name": "stdout",
          "output_type": "stream",
          "text": [
            "Best Model based on test Kappa : SVM with Kappa: 0.38%\n"
          ]
        }
      ],
      "source": [
        "# Find the model with the highest test set accuracy\n",
        "best_kappa_model_name = max(kappa_results, key=kappa_results.get)\n",
        "max_kappa = kappa_results[best_kappa_model_name]\n",
        "print(f'Best Model based on test Kappa : {best_kappa_model_name} with Kappa: {max_kappa:.2f}%')"
      ]
    },
    {
      "cell_type": "code",
      "execution_count": 75,
      "metadata": {},
      "outputs": [],
      "source": [
        "# # Optionally, you can save the best model for later use\n",
        "# best_model = trained_models[best_model_name]\n",
        "# joblib.dump(best_model, f'{best_model_name}_model.joblib')\n",
        "\n",
        "# To load and use the best model later\n",
        "# loaded_best_model = joblib.load(f'{best_model_name}_model.joblib')\n",
        "# predictions_transformed = loaded_best_model.predict(new_data)  # Replace 'new_data' with your actual data\n",
        "# predictions = label_encoder.inverse_transform(predictions_transformed)"
      ]
    },
    {
      "cell_type": "code",
      "execution_count": null,
      "metadata": {},
      "outputs": [],
      "source": []
    },
    {
      "cell_type": "markdown",
      "metadata": {},
      "source": [
        "## Trial Prediction Time"
      ]
    },
    {
      "cell_type": "code",
      "execution_count": 76,
      "metadata": {},
      "outputs": [
        {
          "data": {
            "text/plain": [
              "(1, 9, 751)"
            ]
          },
          "execution_count": 76,
          "metadata": {},
          "output_type": "execute_result"
        }
      ],
      "source": [
        "epochs['Right Grasp'][0].get_data().shape"
      ]
    },
    {
      "cell_type": "code",
      "execution_count": 77,
      "metadata": {},
      "outputs": [],
      "source": [
        "# fbcsp_clf.evaluateTrial(epochs['Right Grasp'][0].get_data())"
      ]
    },
    {
      "cell_type": "code",
      "execution_count": 78,
      "metadata": {},
      "outputs": [
        {
          "name": "stdout",
          "output_type": "stream",
          "text": [
            "(1, 8)\n"
          ]
        },
        {
          "data": {
            "text/plain": [
              "array([[-0.98283694, -0.24996523,  0.24233287, -0.21663897, -0.98321907,\n",
              "        -1.37450617, -0.09856868, -1.60378482]])"
            ]
          },
          "execution_count": 78,
          "metadata": {},
          "output_type": "execute_result"
        }
      ],
      "source": [
        "trial_features = fbcsp_clf.extractTrialFeatures(epochs['Right Grasp'][0].get_data())\n",
        "# print(trial_features.shape)\n",
        "trial_features"
      ]
    },
    {
      "cell_type": "code",
      "execution_count": 79,
      "metadata": {},
      "outputs": [
        {
          "data": {
            "text/plain": [
              "array([1.])"
            ]
          },
          "execution_count": 79,
          "metadata": {},
          "output_type": "execute_result"
        }
      ],
      "source": [
        "trained_models[\"LDA\"].predict(trial_features)\n",
        "# LDA.predict"
      ]
    },
    {
      "cell_type": "code",
      "execution_count": 80,
      "metadata": {},
      "outputs": [
        {
          "data": {
            "text/plain": [
              "array([[0.87586127, 0.12413873]])"
            ]
          },
          "execution_count": 80,
          "metadata": {},
          "output_type": "execute_result"
        }
      ],
      "source": [
        "trained_models[\"LDA\"].predict_proba(trial_features)"
      ]
    },
    {
      "cell_type": "markdown",
      "metadata": {},
      "source": [
        "### Release"
      ]
    },
    {
      "cell_type": "code",
      "execution_count": 81,
      "metadata": {},
      "outputs": [],
      "source": [
        "# fbcsp_clf.evaluateTrial(epochs['Right Release'][9].get_data())"
      ]
    },
    {
      "cell_type": "code",
      "execution_count": 82,
      "metadata": {},
      "outputs": [
        {
          "name": "stdout",
          "output_type": "stream",
          "text": [
            "(1, 8)\n"
          ]
        },
        {
          "data": {
            "text/plain": [
              "array([[-1.2961563 , -0.10772566, -1.57989231, -1.13988759, -1.38225233,\n",
              "        -1.17862223, -2.39892056, -1.239622  ]])"
            ]
          },
          "execution_count": 82,
          "metadata": {},
          "output_type": "execute_result"
        }
      ],
      "source": [
        "trial_features = fbcsp_clf.extractTrialFeatures(epochs['Right Release'][9].get_data())\n",
        "# print(trial_features.shape)\n",
        "trial_features"
      ]
    },
    {
      "cell_type": "code",
      "execution_count": 83,
      "metadata": {},
      "outputs": [
        {
          "data": {
            "text/plain": [
              "array([2.])"
            ]
          },
          "execution_count": 83,
          "metadata": {},
          "output_type": "execute_result"
        }
      ],
      "source": [
        "trained_models[\"LDA\"].predict(trial_features)\n"
      ]
    },
    {
      "cell_type": "markdown",
      "metadata": {},
      "source": [
        "## Save Models"
      ]
    },
    {
      "cell_type": "code",
      "execution_count": 84,
      "metadata": {},
      "outputs": [],
      "source": [
        "import pickle\n",
        "\n",
        "# Save the FBCSP to a file\n",
        "with open('fbcsp_clf_sherif.pkl', 'wb') as file:\n",
        "    pickle.dump(fbcsp_clf, file)"
      ]
    },
    {
      "cell_type": "code",
      "execution_count": 85,
      "metadata": {},
      "outputs": [],
      "source": [
        "# Save the trained model to a file\n",
        "with open('LDA_clf_sherif.pkl', 'wb') as file:\n",
        "    pickle.dump(trained_models[\"LDA\"], file)"
      ]
    },
    {
      "cell_type": "markdown",
      "metadata": {},
      "source": [
        "## Load model"
      ]
    },
    {
      "cell_type": "code",
      "execution_count": 86,
      "metadata": {},
      "outputs": [],
      "source": [
        "# Load the FBCSP from the file\n",
        "with open('fbcsp_clf_sherif.pkl', 'rb') as file:\n",
        "    loaded_fbcsp_clf = pickle.load(file)"
      ]
    },
    {
      "cell_type": "code",
      "execution_count": 87,
      "metadata": {},
      "outputs": [],
      "source": [
        "# Load the trained model from the file\n",
        "with open('LDA_clf_sherif.pkl', 'rb') as file:\n",
        "    loaded_LDA_clf = pickle.load(file)"
      ]
    },
    {
      "cell_type": "markdown",
      "metadata": {},
      "source": [
        "## Trial Prediction with loaded models"
      ]
    },
    {
      "cell_type": "code",
      "execution_count": 94,
      "metadata": {},
      "outputs": [
        {
          "name": "stdout",
          "output_type": "stream",
          "text": [
            "(1, 8)\n"
          ]
        },
        {
          "data": {
            "text/plain": [
              "array([[-1.2961563 , -0.10772566, -1.57989231, -1.13988759, -1.38225233,\n",
              "        -1.17862223, -2.39892056, -1.239622  ]])"
            ]
          },
          "execution_count": 94,
          "metadata": {},
          "output_type": "execute_result"
        }
      ],
      "source": [
        "trial_features = loaded_fbcsp_clf.extractTrialFeatures(epochs['Right Release'][9].get_data())\n",
        "# print(trial_features.shape)\n",
        "trial_features"
      ]
    },
    {
      "cell_type": "code",
      "execution_count": 95,
      "metadata": {},
      "outputs": [
        {
          "data": {
            "text/plain": [
              "array([2.])"
            ]
          },
          "execution_count": 95,
          "metadata": {},
          "output_type": "execute_result"
        }
      ],
      "source": [
        "loaded_LDA_clf.predict(trial_features)"
      ]
    },
    {
      "cell_type": "code",
      "execution_count": 96,
      "metadata": {},
      "outputs": [
        {
          "data": {
            "text/plain": [
              "2.0"
            ]
          },
          "execution_count": 96,
          "metadata": {},
          "output_type": "execute_result"
        }
      ],
      "source": [
        "prediction = loaded_LDA_clf.predict(trial_features)\n",
        "prediction[0]"
      ]
    },
    {
      "cell_type": "code",
      "execution_count": 97,
      "metadata": {},
      "outputs": [
        {
          "data": {
            "text/plain": [
              "numpy.float64"
            ]
          },
          "execution_count": 97,
          "metadata": {},
          "output_type": "execute_result"
        }
      ],
      "source": [
        "type(prediction[0])"
      ]
    },
    {
      "cell_type": "code",
      "execution_count": null,
      "metadata": {},
      "outputs": [],
      "source": []
    }
  ],
  "metadata": {
    "colab": {
      "provenance": []
    },
    "kernelspec": {
      "display_name": "Python 3",
      "name": "python3"
    },
    "language_info": {
      "codemirror_mode": {
        "name": "ipython",
        "version": 3
      },
      "file_extension": ".py",
      "mimetype": "text/x-python",
      "name": "python",
      "nbconvert_exporter": "python",
      "pygments_lexer": "ipython3",
      "version": "3.11.2"
    }
  },
  "nbformat": 4,
  "nbformat_minor": 0
}
