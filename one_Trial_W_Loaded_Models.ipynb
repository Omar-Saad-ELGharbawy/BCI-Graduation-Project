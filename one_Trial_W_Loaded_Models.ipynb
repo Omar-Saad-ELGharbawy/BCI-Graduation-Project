{
  "cells": [
    {
      "cell_type": "markdown",
      "metadata": {
        "id": "xgdH4QWHulUz"
      },
      "source": [
        "# Importing packages"
      ]
    },
    {
      "cell_type": "code",
      "execution_count": 250,
      "metadata": {
        "colab": {
          "base_uri": "https://localhost:8080/"
        },
        "id": "vA3H342ptnzP",
        "outputId": "e4895d03-693f-4fc6-b940-7d4de999c06f"
      },
      "outputs": [],
      "source": [
        "# !pip install mne"
      ]
    },
    {
      "cell_type": "code",
      "execution_count": 251,
      "metadata": {
        "colab": {
          "base_uri": "https://localhost:8080/"
        },
        "id": "nI3ejojr869-",
        "outputId": "36a5cf4f-d238-44b6-dd83-c5ad3ad663d6"
      },
      "outputs": [],
      "source": [
        "# !pip install pyxdf"
      ]
    },
    {
      "cell_type": "code",
      "execution_count": 1,
      "metadata": {
        "id": "xiCKgVOiuiZB"
      },
      "outputs": [],
      "source": [
        "import numpy as np # linear algebra\n",
        "import pandas as pd # data processing, CSV file I/O (e.g. pd.read_csv)\n",
        "import mne\n",
        "import pyxdf\n",
        "import glob\n",
        "import os\n",
        "import matplotlib.pyplot as plt\n",
        "from scipy.io import loadmat\n",
        "import scipy\n",
        "import sklearn\n",
        "# ------------------------------------------------------------------------------------------\n",
        "from sklearn.preprocessing import LabelEncoder,StandardScaler\n",
        "from sklearn.discriminant_analysis import LinearDiscriminantAnalysis as lda\n",
        "from sklearn.model_selection import ShuffleSplit, cross_val_score, train_test_split, GridSearchCV, StratifiedShuffleSplit\n",
        "from sklearn.pipeline import Pipeline, make_pipeline\n",
        "from sklearn.base import BaseEstimator, TransformerMixin\n",
        "from sklearn.linear_model import LogisticRegression\n",
        "from sklearn.neighbors import KNeighborsClassifier\n",
        "from sklearn.svm import LinearSVC, SVC\n",
        "\n",
        "# ------------------------------------------------------------------------------------------\n",
        "from mne.decoding import CSP\n",
        "from mne import Epochs, pick_types\n",
        "from mne.channels import make_standard_montage\n",
        "from mne.datasets import eegbci\n",
        "from mne.io import concatenate_raws, read_raw_edf"
      ]
    },
    {
      "cell_type": "code",
      "execution_count": 2,
      "metadata": {},
      "outputs": [],
      "source": [
        "from sklearn.ensemble import RandomForestClassifier\n",
        "from sklearn.tree import DecisionTreeClassifier\n",
        "from sklearn.neural_network import MLPClassifier"
      ]
    },
    {
      "cell_type": "code",
      "execution_count": 3,
      "metadata": {},
      "outputs": [],
      "source": [
        "from FBCSP_V7 import FBCSP_V4 as FBCSP "
      ]
    },
    {
      "cell_type": "code",
      "execution_count": 4,
      "metadata": {
        "id": "vefLh0o2ukU2"
      },
      "outputs": [],
      "source": [
        "import warnings\n",
        "warnings.filterwarnings('ignore') # to ignore warnings"
      ]
    },
    {
      "cell_type": "code",
      "execution_count": 5,
      "metadata": {
        "id": "AczJm-EVKkcq"
      },
      "outputs": [],
      "source": [
        "verbose = False                    # global variable to suppress output display of MNE functions\n",
        "mne.set_log_level(verbose=verbose) # to suppress large info outputs"
      ]
    },
    {
      "cell_type": "markdown",
      "metadata": {
        "id": "qYSAnVtxusG5"
      },
      "source": [
        "# Data Loading"
      ]
    },
    {
      "cell_type": "code",
      "execution_count": 257,
      "metadata": {
        "colab": {
          "base_uri": "https://localhost:8080/"
        },
        "id": "xli8Ve2Mu4mP",
        "outputId": "e567daa0-dd21-4c3e-922d-b6624a45b28b"
      },
      "outputs": [],
      "source": [
        "# from google.colab import drive\n",
        "# drive.mount('/content/drive')"
      ]
    },
    {
      "cell_type": "code",
      "execution_count": 6,
      "metadata": {
        "id": "YkE9AxdIPZx3",
        "tags": [
          "Paths"
        ]
      },
      "outputs": [
        {
          "data": {
            "text/plain": [
              "225"
            ]
          },
          "execution_count": 6,
          "metadata": {},
          "output_type": "execute_result"
        }
      ],
      "source": [
        "# Anwar_data_path = \"E:\\BCI\\A-Our Motor Data\\Good Data\\sub-Anwar\\ses-S002\\eeg\"\n",
        "# Anwar_data_path = \"E:\\BCI\\A-Our Motor Data\\Good Data\\sub-Anwar\\ses-S002\\eeg\\Remaining Data\"\n",
        "# Anwar_data_path = \"E:\\BCI\\A-Our Motor Data\\Good Data\\sub-Anwar\\ses-S002\\s_2_all\"\n",
        "\n",
        "# Anwar_data_path = \"E:\\BCI\\A-Our Motor Data\\Good Data\\sub-Anwar\\ses-S003\\s3\"\n",
        "# Anwar_data_path = \"E:\\BCI\\A-Our Motor Data\\Good Data\\sub-Anwar\\ses-S003\\s3_45\"\n",
        "# Anwar_data_path = \"E:\\BCI\\A-Our Motor Data\\Good Data\\sub-Anwar\\ses-S003\\s3_00\"\n",
        "\n",
        "# Anwar_data_path = \"E:\\BCI\\A-Our Motor Data\\Good Data\\sub-Anwar\\s-00\" # ALL ANWAR\n",
        "\n",
        "\n",
        "# sherif_data_path = \"E:\\BCI\\A-Our Motor Data\\Good Data\\sub-Sherif\\ses-S002\\eeg\"\n",
        "# sherif_data_path = \"E:\\BCI\\A-Our Motor Data\\Good Data\\sub-Sherif\\ses-S003\\eeg\"\n",
        "\n",
        "sherif_data_path = \"E:\\BCI\\A-Our Motor Data\\Good Data\\sub-Sherif\\s-00\" #ALL SHERIF\n",
        "\n",
        "# magdy_data_path = \"E:\\BCI\\A-Our Motor Data\\magdy\\sub-magdy\\ses-S001\\eeg\"\n",
        "\n",
        "# saad_data_path = \"E:\\BCI\\A-Our Motor Data\\omar\\sub-omar\\ses-S001\\eeg\"\n",
        "\n",
        "folder_path = sherif_data_path\n",
        "files   = glob.glob(folder_path + '/*eeg.xdf')\n",
        "# files   = glob.glob(folder_path)\n",
        "len(files)     # if  return zero,then no file is loaded"
      ]
    },
    {
      "cell_type": "code",
      "execution_count": 7,
      "metadata": {
        "colab": {
          "base_uri": "https://localhost:8080/"
        },
        "id": "ciCkti80tTje",
        "outputId": "d20d011c-618d-472d-c0f2-0ebeae13a918"
      },
      "outputs": [
        {
          "data": {
            "text/plain": [
              "['E:\\\\BCI\\\\A-Our Motor Data\\\\Good Data\\\\sub-Sherif\\\\s-00\\\\sub-sherif_ses-S002_task-Baseline_run-001_eeg.xdf',\n",
              " 'E:\\\\BCI\\\\A-Our Motor Data\\\\Good Data\\\\sub-Sherif\\\\s-00\\\\sub-sherif_ses-S002_task-Baseline_run-006_eeg.xdf',\n",
              " 'E:\\\\BCI\\\\A-Our Motor Data\\\\Good Data\\\\sub-Sherif\\\\s-00\\\\sub-sherif_ses-S002_task-Baseline_run-010_eeg.xdf',\n",
              " 'E:\\\\BCI\\\\A-Our Motor Data\\\\Good Data\\\\sub-Sherif\\\\s-00\\\\sub-sherif_ses-S002_task-Baseline_run-013_eeg.xdf',\n",
              " 'E:\\\\BCI\\\\A-Our Motor Data\\\\Good Data\\\\sub-Sherif\\\\s-00\\\\sub-sherif_ses-S002_task-Baseline_run-014_eeg.xdf',\n",
              " 'E:\\\\BCI\\\\A-Our Motor Data\\\\Good Data\\\\sub-Sherif\\\\s-00\\\\sub-sherif_ses-S002_task-Baseline_run-019_eeg.xdf',\n",
              " 'E:\\\\BCI\\\\A-Our Motor Data\\\\Good Data\\\\sub-Sherif\\\\s-00\\\\sub-sherif_ses-S002_task-Baseline_run-020_eeg.xdf',\n",
              " 'E:\\\\BCI\\\\A-Our Motor Data\\\\Good Data\\\\sub-Sherif\\\\s-00\\\\sub-sherif_ses-S002_task-Baseline_run-022_eeg.xdf',\n",
              " 'E:\\\\BCI\\\\A-Our Motor Data\\\\Good Data\\\\sub-Sherif\\\\s-00\\\\sub-sherif_ses-S002_task-Baseline_run-027_eeg.xdf',\n",
              " 'E:\\\\BCI\\\\A-Our Motor Data\\\\Good Data\\\\sub-Sherif\\\\s-00\\\\sub-sherif_ses-S002_task-Baseline_run-032_eeg.xdf',\n",
              " 'E:\\\\BCI\\\\A-Our Motor Data\\\\Good Data\\\\sub-Sherif\\\\s-00\\\\sub-sherif_ses-S002_task-Baseline_run-034_eeg.xdf',\n",
              " 'E:\\\\BCI\\\\A-Our Motor Data\\\\Good Data\\\\sub-Sherif\\\\s-00\\\\sub-sherif_ses-S002_task-Baseline_run-038_eeg.xdf',\n",
              " 'E:\\\\BCI\\\\A-Our Motor Data\\\\Good Data\\\\sub-Sherif\\\\s-00\\\\sub-sherif_ses-S002_task-Baseline_run-040_eeg.xdf',\n",
              " 'E:\\\\BCI\\\\A-Our Motor Data\\\\Good Data\\\\sub-Sherif\\\\s-00\\\\sub-sherif_ses-S002_task-Baseline_run-042_eeg.xdf',\n",
              " 'E:\\\\BCI\\\\A-Our Motor Data\\\\Good Data\\\\sub-Sherif\\\\s-00\\\\sub-sherif_ses-S002_task-Baseline_run-043_eeg.xdf',\n",
              " 'E:\\\\BCI\\\\A-Our Motor Data\\\\Good Data\\\\sub-Sherif\\\\s-00\\\\sub-sherif_ses-S002_task-Baseline_run-047_eeg.xdf',\n",
              " 'E:\\\\BCI\\\\A-Our Motor Data\\\\Good Data\\\\sub-Sherif\\\\s-00\\\\sub-sherif_ses-S002_task-Baseline_run-052_eeg.xdf',\n",
              " 'E:\\\\BCI\\\\A-Our Motor Data\\\\Good Data\\\\sub-Sherif\\\\s-00\\\\sub-sherif_ses-S002_task-Baseline_run-062_eeg.xdf',\n",
              " 'E:\\\\BCI\\\\A-Our Motor Data\\\\Good Data\\\\sub-Sherif\\\\s-00\\\\sub-sherif_ses-S002_task-Baseline_run-065_eeg.xdf',\n",
              " 'E:\\\\BCI\\\\A-Our Motor Data\\\\Good Data\\\\sub-Sherif\\\\s-00\\\\sub-sherif_ses-S002_task-Baseline_run-067_eeg.xdf',\n",
              " 'E:\\\\BCI\\\\A-Our Motor Data\\\\Good Data\\\\sub-Sherif\\\\s-00\\\\sub-sherif_ses-S002_task-Baseline_run-068_eeg.xdf',\n",
              " 'E:\\\\BCI\\\\A-Our Motor Data\\\\Good Data\\\\sub-Sherif\\\\s-00\\\\sub-sherif_ses-S002_task-Baseline_run-071_eeg.xdf',\n",
              " 'E:\\\\BCI\\\\A-Our Motor Data\\\\Good Data\\\\sub-Sherif\\\\s-00\\\\sub-sherif_ses-S002_task-Baseline_run-076_eeg.xdf',\n",
              " 'E:\\\\BCI\\\\A-Our Motor Data\\\\Good Data\\\\sub-Sherif\\\\s-00\\\\sub-sherif_ses-S002_task-Baseline_run-079_eeg.xdf',\n",
              " 'E:\\\\BCI\\\\A-Our Motor Data\\\\Good Data\\\\sub-Sherif\\\\s-00\\\\sub-sherif_ses-S002_task-Baseline_run-080_eeg.xdf',\n",
              " 'E:\\\\BCI\\\\A-Our Motor Data\\\\Good Data\\\\sub-Sherif\\\\s-00\\\\sub-sherif_ses-S002_task-Baseline_run-082_eeg.xdf',\n",
              " 'E:\\\\BCI\\\\A-Our Motor Data\\\\Good Data\\\\sub-Sherif\\\\s-00\\\\sub-sherif_ses-S002_task-Baseline_run-083_eeg.xdf',\n",
              " 'E:\\\\BCI\\\\A-Our Motor Data\\\\Good Data\\\\sub-Sherif\\\\s-00\\\\sub-sherif_ses-S002_task-Baseline_run-084_eeg.xdf',\n",
              " 'E:\\\\BCI\\\\A-Our Motor Data\\\\Good Data\\\\sub-Sherif\\\\s-00\\\\sub-sherif_ses-S002_task-Baseline_run-086_eeg.xdf',\n",
              " 'E:\\\\BCI\\\\A-Our Motor Data\\\\Good Data\\\\sub-Sherif\\\\s-00\\\\sub-sherif_ses-S002_task-Baseline_run-089_eeg.xdf',\n",
              " 'E:\\\\BCI\\\\A-Our Motor Data\\\\Good Data\\\\sub-Sherif\\\\s-00\\\\sub-sherif_ses-S002_task-Right Grasp_run-003_eeg.xdf',\n",
              " 'E:\\\\BCI\\\\A-Our Motor Data\\\\Good Data\\\\sub-Sherif\\\\s-00\\\\sub-sherif_ses-S002_task-Right Grasp_run-007_eeg.xdf',\n",
              " 'E:\\\\BCI\\\\A-Our Motor Data\\\\Good Data\\\\sub-Sherif\\\\s-00\\\\sub-sherif_ses-S002_task-Right Grasp_run-008_eeg.xdf',\n",
              " 'E:\\\\BCI\\\\A-Our Motor Data\\\\Good Data\\\\sub-Sherif\\\\s-00\\\\sub-sherif_ses-S002_task-Right Grasp_run-011_eeg.xdf',\n",
              " 'E:\\\\BCI\\\\A-Our Motor Data\\\\Good Data\\\\sub-Sherif\\\\s-00\\\\sub-sherif_ses-S002_task-Right Grasp_run-012_eeg.xdf',\n",
              " 'E:\\\\BCI\\\\A-Our Motor Data\\\\Good Data\\\\sub-Sherif\\\\s-00\\\\sub-sherif_ses-S002_task-Right Grasp_run-016_eeg.xdf',\n",
              " 'E:\\\\BCI\\\\A-Our Motor Data\\\\Good Data\\\\sub-Sherif\\\\s-00\\\\sub-sherif_ses-S002_task-Right Grasp_run-017_eeg.xdf',\n",
              " 'E:\\\\BCI\\\\A-Our Motor Data\\\\Good Data\\\\sub-Sherif\\\\s-00\\\\sub-sherif_ses-S002_task-Right Grasp_run-023_eeg.xdf',\n",
              " 'E:\\\\BCI\\\\A-Our Motor Data\\\\Good Data\\\\sub-Sherif\\\\s-00\\\\sub-sherif_ses-S002_task-Right Grasp_run-025_eeg.xdf',\n",
              " 'E:\\\\BCI\\\\A-Our Motor Data\\\\Good Data\\\\sub-Sherif\\\\s-00\\\\sub-sherif_ses-S002_task-Right Grasp_run-028_eeg.xdf',\n",
              " 'E:\\\\BCI\\\\A-Our Motor Data\\\\Good Data\\\\sub-Sherif\\\\s-00\\\\sub-sherif_ses-S002_task-Right Grasp_run-037_eeg.xdf',\n",
              " 'E:\\\\BCI\\\\A-Our Motor Data\\\\Good Data\\\\sub-Sherif\\\\s-00\\\\sub-sherif_ses-S002_task-Right Grasp_run-039_eeg.xdf',\n",
              " 'E:\\\\BCI\\\\A-Our Motor Data\\\\Good Data\\\\sub-Sherif\\\\s-00\\\\sub-sherif_ses-S002_task-Right Grasp_run-044_eeg.xdf',\n",
              " 'E:\\\\BCI\\\\A-Our Motor Data\\\\Good Data\\\\sub-Sherif\\\\s-00\\\\sub-sherif_ses-S002_task-Right Grasp_run-046_eeg.xdf',\n",
              " 'E:\\\\BCI\\\\A-Our Motor Data\\\\Good Data\\\\sub-Sherif\\\\s-00\\\\sub-sherif_ses-S002_task-Right Grasp_run-049_eeg.xdf',\n",
              " 'E:\\\\BCI\\\\A-Our Motor Data\\\\Good Data\\\\sub-Sherif\\\\s-00\\\\sub-sherif_ses-S002_task-Right Grasp_run-050_eeg.xdf',\n",
              " 'E:\\\\BCI\\\\A-Our Motor Data\\\\Good Data\\\\sub-Sherif\\\\s-00\\\\sub-sherif_ses-S002_task-Right Grasp_run-051_eeg.xdf',\n",
              " 'E:\\\\BCI\\\\A-Our Motor Data\\\\Good Data\\\\sub-Sherif\\\\s-00\\\\sub-sherif_ses-S002_task-Right Grasp_run-054_eeg.xdf',\n",
              " 'E:\\\\BCI\\\\A-Our Motor Data\\\\Good Data\\\\sub-Sherif\\\\s-00\\\\sub-sherif_ses-S002_task-Right Grasp_run-055_eeg.xdf',\n",
              " 'E:\\\\BCI\\\\A-Our Motor Data\\\\Good Data\\\\sub-Sherif\\\\s-00\\\\sub-sherif_ses-S002_task-Right Grasp_run-056_eeg.xdf',\n",
              " 'E:\\\\BCI\\\\A-Our Motor Data\\\\Good Data\\\\sub-Sherif\\\\s-00\\\\sub-sherif_ses-S002_task-Right Grasp_run-057_eeg.xdf',\n",
              " 'E:\\\\BCI\\\\A-Our Motor Data\\\\Good Data\\\\sub-Sherif\\\\s-00\\\\sub-sherif_ses-S002_task-Right Grasp_run-058_eeg.xdf',\n",
              " 'E:\\\\BCI\\\\A-Our Motor Data\\\\Good Data\\\\sub-Sherif\\\\s-00\\\\sub-sherif_ses-S002_task-Right Grasp_run-059_eeg.xdf',\n",
              " 'E:\\\\BCI\\\\A-Our Motor Data\\\\Good Data\\\\sub-Sherif\\\\s-00\\\\sub-sherif_ses-S002_task-Right Grasp_run-061_eeg.xdf',\n",
              " 'E:\\\\BCI\\\\A-Our Motor Data\\\\Good Data\\\\sub-Sherif\\\\s-00\\\\sub-sherif_ses-S002_task-Right Grasp_run-063_eeg.xdf',\n",
              " 'E:\\\\BCI\\\\A-Our Motor Data\\\\Good Data\\\\sub-Sherif\\\\s-00\\\\sub-sherif_ses-S002_task-Right Grasp_run-069_eeg.xdf',\n",
              " 'E:\\\\BCI\\\\A-Our Motor Data\\\\Good Data\\\\sub-Sherif\\\\s-00\\\\sub-sherif_ses-S002_task-Right Grasp_run-072_eeg.xdf',\n",
              " 'E:\\\\BCI\\\\A-Our Motor Data\\\\Good Data\\\\sub-Sherif\\\\s-00\\\\sub-sherif_ses-S002_task-Right Grasp_run-074_eeg.xdf',\n",
              " 'E:\\\\BCI\\\\A-Our Motor Data\\\\Good Data\\\\sub-Sherif\\\\s-00\\\\sub-sherif_ses-S002_task-Right Grasp_run-078_eeg.xdf',\n",
              " 'E:\\\\BCI\\\\A-Our Motor Data\\\\Good Data\\\\sub-Sherif\\\\s-00\\\\sub-sherif_ses-S002_task-Right Grasp_run-085_eeg.xdf',\n",
              " 'E:\\\\BCI\\\\A-Our Motor Data\\\\Good Data\\\\sub-Sherif\\\\s-00\\\\sub-sherif_ses-S002_task-Right Release_run-001_eeg.xdf',\n",
              " 'E:\\\\BCI\\\\A-Our Motor Data\\\\Good Data\\\\sub-Sherif\\\\s-00\\\\sub-sherif_ses-S002_task-Right Release_run-002_eeg.xdf',\n",
              " 'E:\\\\BCI\\\\A-Our Motor Data\\\\Good Data\\\\sub-Sherif\\\\s-00\\\\sub-sherif_ses-S002_task-Right Release_run-004_eeg.xdf',\n",
              " 'E:\\\\BCI\\\\A-Our Motor Data\\\\Good Data\\\\sub-Sherif\\\\s-00\\\\sub-sherif_ses-S002_task-Right Release_run-005_eeg.xdf',\n",
              " 'E:\\\\BCI\\\\A-Our Motor Data\\\\Good Data\\\\sub-Sherif\\\\s-00\\\\sub-sherif_ses-S002_task-Right Release_run-009_eeg.xdf',\n",
              " 'E:\\\\BCI\\\\A-Our Motor Data\\\\Good Data\\\\sub-Sherif\\\\s-00\\\\sub-sherif_ses-S002_task-Right Release_run-015_eeg.xdf',\n",
              " 'E:\\\\BCI\\\\A-Our Motor Data\\\\Good Data\\\\sub-Sherif\\\\s-00\\\\sub-sherif_ses-S002_task-Right Release_run-018_eeg.xdf',\n",
              " 'E:\\\\BCI\\\\A-Our Motor Data\\\\Good Data\\\\sub-Sherif\\\\s-00\\\\sub-sherif_ses-S002_task-Right Release_run-021_eeg.xdf',\n",
              " 'E:\\\\BCI\\\\A-Our Motor Data\\\\Good Data\\\\sub-Sherif\\\\s-00\\\\sub-sherif_ses-S002_task-Right Release_run-024_eeg.xdf',\n",
              " 'E:\\\\BCI\\\\A-Our Motor Data\\\\Good Data\\\\sub-Sherif\\\\s-00\\\\sub-sherif_ses-S002_task-Right Release_run-026_eeg.xdf',\n",
              " 'E:\\\\BCI\\\\A-Our Motor Data\\\\Good Data\\\\sub-Sherif\\\\s-00\\\\sub-sherif_ses-S002_task-Right Release_run-029_eeg.xdf',\n",
              " 'E:\\\\BCI\\\\A-Our Motor Data\\\\Good Data\\\\sub-Sherif\\\\s-00\\\\sub-sherif_ses-S002_task-Right Release_run-030_eeg.xdf',\n",
              " 'E:\\\\BCI\\\\A-Our Motor Data\\\\Good Data\\\\sub-Sherif\\\\s-00\\\\sub-sherif_ses-S002_task-Right Release_run-031_eeg.xdf',\n",
              " 'E:\\\\BCI\\\\A-Our Motor Data\\\\Good Data\\\\sub-Sherif\\\\s-00\\\\sub-sherif_ses-S002_task-Right Release_run-033_eeg.xdf',\n",
              " 'E:\\\\BCI\\\\A-Our Motor Data\\\\Good Data\\\\sub-Sherif\\\\s-00\\\\sub-sherif_ses-S002_task-Right Release_run-035_eeg.xdf',\n",
              " 'E:\\\\BCI\\\\A-Our Motor Data\\\\Good Data\\\\sub-Sherif\\\\s-00\\\\sub-sherif_ses-S002_task-Right Release_run-036_eeg.xdf',\n",
              " 'E:\\\\BCI\\\\A-Our Motor Data\\\\Good Data\\\\sub-Sherif\\\\s-00\\\\sub-sherif_ses-S002_task-Right Release_run-045_eeg.xdf',\n",
              " 'E:\\\\BCI\\\\A-Our Motor Data\\\\Good Data\\\\sub-Sherif\\\\s-00\\\\sub-sherif_ses-S002_task-Right Release_run-048_eeg.xdf',\n",
              " 'E:\\\\BCI\\\\A-Our Motor Data\\\\Good Data\\\\sub-Sherif\\\\s-00\\\\sub-sherif_ses-S002_task-Right Release_run-053_eeg.xdf',\n",
              " 'E:\\\\BCI\\\\A-Our Motor Data\\\\Good Data\\\\sub-Sherif\\\\s-00\\\\sub-sherif_ses-S002_task-Right Release_run-060_eeg.xdf',\n",
              " 'E:\\\\BCI\\\\A-Our Motor Data\\\\Good Data\\\\sub-Sherif\\\\s-00\\\\sub-sherif_ses-S002_task-Right Release_run-064_eeg.xdf',\n",
              " 'E:\\\\BCI\\\\A-Our Motor Data\\\\Good Data\\\\sub-Sherif\\\\s-00\\\\sub-sherif_ses-S002_task-Right Release_run-066_eeg.xdf',\n",
              " 'E:\\\\BCI\\\\A-Our Motor Data\\\\Good Data\\\\sub-Sherif\\\\s-00\\\\sub-sherif_ses-S002_task-Right Release_run-070_eeg.xdf',\n",
              " 'E:\\\\BCI\\\\A-Our Motor Data\\\\Good Data\\\\sub-Sherif\\\\s-00\\\\sub-sherif_ses-S002_task-Right Release_run-073_eeg.xdf',\n",
              " 'E:\\\\BCI\\\\A-Our Motor Data\\\\Good Data\\\\sub-Sherif\\\\s-00\\\\sub-sherif_ses-S002_task-Right Release_run-075_eeg.xdf',\n",
              " 'E:\\\\BCI\\\\A-Our Motor Data\\\\Good Data\\\\sub-Sherif\\\\s-00\\\\sub-sherif_ses-S002_task-Right Release_run-077_eeg.xdf',\n",
              " 'E:\\\\BCI\\\\A-Our Motor Data\\\\Good Data\\\\sub-Sherif\\\\s-00\\\\sub-sherif_ses-S002_task-Right Release_run-081_eeg.xdf',\n",
              " 'E:\\\\BCI\\\\A-Our Motor Data\\\\Good Data\\\\sub-Sherif\\\\s-00\\\\sub-sherif_ses-S002_task-Right Release_run-087_eeg.xdf',\n",
              " 'E:\\\\BCI\\\\A-Our Motor Data\\\\Good Data\\\\sub-Sherif\\\\s-00\\\\sub-sherif_ses-S002_task-Right Release_run-088_eeg.xdf',\n",
              " 'E:\\\\BCI\\\\A-Our Motor Data\\\\Good Data\\\\sub-Sherif\\\\s-00\\\\sub-sherif_ses-S002_task-Right Release_run-090_eeg.xdf',\n",
              " 'E:\\\\BCI\\\\A-Our Motor Data\\\\Good Data\\\\sub-Sherif\\\\s-00\\\\sub-sherif_ses-S003_task-Baseline_run-005_eeg.xdf',\n",
              " 'E:\\\\BCI\\\\A-Our Motor Data\\\\Good Data\\\\sub-Sherif\\\\s-00\\\\sub-sherif_ses-S003_task-Baseline_run-007_eeg.xdf',\n",
              " 'E:\\\\BCI\\\\A-Our Motor Data\\\\Good Data\\\\sub-Sherif\\\\s-00\\\\sub-sherif_ses-S003_task-Baseline_run-011_eeg.xdf',\n",
              " 'E:\\\\BCI\\\\A-Our Motor Data\\\\Good Data\\\\sub-Sherif\\\\s-00\\\\sub-sherif_ses-S003_task-Baseline_run-015_eeg.xdf',\n",
              " 'E:\\\\BCI\\\\A-Our Motor Data\\\\Good Data\\\\sub-Sherif\\\\s-00\\\\sub-sherif_ses-S003_task-Baseline_run-017_eeg.xdf',\n",
              " 'E:\\\\BCI\\\\A-Our Motor Data\\\\Good Data\\\\sub-Sherif\\\\s-00\\\\sub-sherif_ses-S003_task-Baseline_run-022_eeg.xdf',\n",
              " 'E:\\\\BCI\\\\A-Our Motor Data\\\\Good Data\\\\sub-Sherif\\\\s-00\\\\sub-sherif_ses-S003_task-Baseline_run-024_eeg.xdf',\n",
              " 'E:\\\\BCI\\\\A-Our Motor Data\\\\Good Data\\\\sub-Sherif\\\\s-00\\\\sub-sherif_ses-S003_task-Baseline_run-026_eeg.xdf',\n",
              " 'E:\\\\BCI\\\\A-Our Motor Data\\\\Good Data\\\\sub-Sherif\\\\s-00\\\\sub-sherif_ses-S003_task-Baseline_run-028_eeg.xdf',\n",
              " 'E:\\\\BCI\\\\A-Our Motor Data\\\\Good Data\\\\sub-Sherif\\\\s-00\\\\sub-sherif_ses-S003_task-Baseline_run-029_eeg.xdf',\n",
              " 'E:\\\\BCI\\\\A-Our Motor Data\\\\Good Data\\\\sub-Sherif\\\\s-00\\\\sub-sherif_ses-S003_task-Baseline_run-030_eeg.xdf',\n",
              " 'E:\\\\BCI\\\\A-Our Motor Data\\\\Good Data\\\\sub-Sherif\\\\s-00\\\\sub-sherif_ses-S003_task-Baseline_run-032_eeg.xdf',\n",
              " 'E:\\\\BCI\\\\A-Our Motor Data\\\\Good Data\\\\sub-Sherif\\\\s-00\\\\sub-sherif_ses-S003_task-Baseline_run-033_eeg.xdf',\n",
              " 'E:\\\\BCI\\\\A-Our Motor Data\\\\Good Data\\\\sub-Sherif\\\\s-00\\\\sub-sherif_ses-S003_task-Baseline_run-037_eeg.xdf',\n",
              " 'E:\\\\BCI\\\\A-Our Motor Data\\\\Good Data\\\\sub-Sherif\\\\s-00\\\\sub-sherif_ses-S003_task-Baseline_run-045_eeg.xdf',\n",
              " 'E:\\\\BCI\\\\A-Our Motor Data\\\\Good Data\\\\sub-Sherif\\\\s-00\\\\sub-sherif_ses-S003_task-Baseline_run-048_eeg.xdf',\n",
              " 'E:\\\\BCI\\\\A-Our Motor Data\\\\Good Data\\\\sub-Sherif\\\\s-00\\\\sub-sherif_ses-S003_task-Baseline_run-051_eeg.xdf',\n",
              " 'E:\\\\BCI\\\\A-Our Motor Data\\\\Good Data\\\\sub-Sherif\\\\s-00\\\\sub-sherif_ses-S003_task-Baseline_run-054_eeg.xdf',\n",
              " 'E:\\\\BCI\\\\A-Our Motor Data\\\\Good Data\\\\sub-Sherif\\\\s-00\\\\sub-sherif_ses-S003_task-Baseline_run-056_eeg.xdf',\n",
              " 'E:\\\\BCI\\\\A-Our Motor Data\\\\Good Data\\\\sub-Sherif\\\\s-00\\\\sub-sherif_ses-S003_task-Baseline_run-064_eeg.xdf',\n",
              " 'E:\\\\BCI\\\\A-Our Motor Data\\\\Good Data\\\\sub-Sherif\\\\s-00\\\\sub-sherif_ses-S003_task-Baseline_run-065_eeg.xdf',\n",
              " 'E:\\\\BCI\\\\A-Our Motor Data\\\\Good Data\\\\sub-Sherif\\\\s-00\\\\sub-sherif_ses-S003_task-Baseline_run-072_eeg.xdf',\n",
              " 'E:\\\\BCI\\\\A-Our Motor Data\\\\Good Data\\\\sub-Sherif\\\\s-00\\\\sub-sherif_ses-S003_task-Baseline_run-074_eeg.xdf',\n",
              " 'E:\\\\BCI\\\\A-Our Motor Data\\\\Good Data\\\\sub-Sherif\\\\s-00\\\\sub-sherif_ses-S003_task-Baseline_run-076_eeg.xdf',\n",
              " 'E:\\\\BCI\\\\A-Our Motor Data\\\\Good Data\\\\sub-Sherif\\\\s-00\\\\sub-sherif_ses-S003_task-Baseline_run-077_eeg.xdf',\n",
              " 'E:\\\\BCI\\\\A-Our Motor Data\\\\Good Data\\\\sub-Sherif\\\\s-00\\\\sub-sherif_ses-S003_task-Baseline_run-078_eeg.xdf',\n",
              " 'E:\\\\BCI\\\\A-Our Motor Data\\\\Good Data\\\\sub-Sherif\\\\s-00\\\\sub-sherif_ses-S003_task-Baseline_run-079_eeg.xdf',\n",
              " 'E:\\\\BCI\\\\A-Our Motor Data\\\\Good Data\\\\sub-Sherif\\\\s-00\\\\sub-sherif_ses-S003_task-Baseline_run-083_eeg.xdf',\n",
              " 'E:\\\\BCI\\\\A-Our Motor Data\\\\Good Data\\\\sub-Sherif\\\\s-00\\\\sub-sherif_ses-S003_task-Baseline_run-089_eeg.xdf',\n",
              " 'E:\\\\BCI\\\\A-Our Motor Data\\\\Good Data\\\\sub-Sherif\\\\s-00\\\\sub-sherif_ses-S003_task-Baseline_run-091_eeg.xdf',\n",
              " 'E:\\\\BCI\\\\A-Our Motor Data\\\\Good Data\\\\sub-Sherif\\\\s-00\\\\sub-sherif_ses-S003_task-Baseline_run-097_eeg.xdf',\n",
              " 'E:\\\\BCI\\\\A-Our Motor Data\\\\Good Data\\\\sub-Sherif\\\\s-00\\\\sub-sherif_ses-S003_task-Baseline_run-098_eeg.xdf',\n",
              " 'E:\\\\BCI\\\\A-Our Motor Data\\\\Good Data\\\\sub-Sherif\\\\s-00\\\\sub-sherif_ses-S003_task-Baseline_run-099_eeg.xdf',\n",
              " 'E:\\\\BCI\\\\A-Our Motor Data\\\\Good Data\\\\sub-Sherif\\\\s-00\\\\sub-sherif_ses-S003_task-Baseline_run-101_eeg.xdf',\n",
              " 'E:\\\\BCI\\\\A-Our Motor Data\\\\Good Data\\\\sub-Sherif\\\\s-00\\\\sub-sherif_ses-S003_task-Baseline_run-102_eeg.xdf',\n",
              " 'E:\\\\BCI\\\\A-Our Motor Data\\\\Good Data\\\\sub-Sherif\\\\s-00\\\\sub-sherif_ses-S003_task-Baseline_run-103_eeg.xdf',\n",
              " 'E:\\\\BCI\\\\A-Our Motor Data\\\\Good Data\\\\sub-Sherif\\\\s-00\\\\sub-sherif_ses-S003_task-Baseline_run-110_eeg.xdf',\n",
              " 'E:\\\\BCI\\\\A-Our Motor Data\\\\Good Data\\\\sub-Sherif\\\\s-00\\\\sub-sherif_ses-S003_task-Baseline_run-114_eeg.xdf',\n",
              " 'E:\\\\BCI\\\\A-Our Motor Data\\\\Good Data\\\\sub-Sherif\\\\s-00\\\\sub-sherif_ses-S003_task-Baseline_run-115_eeg.xdf',\n",
              " 'E:\\\\BCI\\\\A-Our Motor Data\\\\Good Data\\\\sub-Sherif\\\\s-00\\\\sub-sherif_ses-S003_task-Baseline_run-117_eeg.xdf',\n",
              " 'E:\\\\BCI\\\\A-Our Motor Data\\\\Good Data\\\\sub-Sherif\\\\s-00\\\\sub-sherif_ses-S003_task-Baseline_run-119_eeg.xdf',\n",
              " 'E:\\\\BCI\\\\A-Our Motor Data\\\\Good Data\\\\sub-Sherif\\\\s-00\\\\sub-sherif_ses-S003_task-Baseline_run-126_eeg.xdf',\n",
              " 'E:\\\\BCI\\\\A-Our Motor Data\\\\Good Data\\\\sub-Sherif\\\\s-00\\\\sub-sherif_ses-S003_task-Baseline_run-128_eeg.xdf',\n",
              " 'E:\\\\BCI\\\\A-Our Motor Data\\\\Good Data\\\\sub-Sherif\\\\s-00\\\\sub-sherif_ses-S003_task-Baseline_run-131_eeg.xdf',\n",
              " 'E:\\\\BCI\\\\A-Our Motor Data\\\\Good Data\\\\sub-Sherif\\\\s-00\\\\sub-sherif_ses-S003_task-Baseline_run-133_eeg.xdf',\n",
              " 'E:\\\\BCI\\\\A-Our Motor Data\\\\Good Data\\\\sub-Sherif\\\\s-00\\\\sub-sherif_ses-S003_task-Right Grasp_run-009_eeg.xdf',\n",
              " 'E:\\\\BCI\\\\A-Our Motor Data\\\\Good Data\\\\sub-Sherif\\\\s-00\\\\sub-sherif_ses-S003_task-Right Grasp_run-010_eeg.xdf',\n",
              " 'E:\\\\BCI\\\\A-Our Motor Data\\\\Good Data\\\\sub-Sherif\\\\s-00\\\\sub-sherif_ses-S003_task-Right Grasp_run-012_eeg.xdf',\n",
              " 'E:\\\\BCI\\\\A-Our Motor Data\\\\Good Data\\\\sub-Sherif\\\\s-00\\\\sub-sherif_ses-S003_task-Right Grasp_run-014_eeg.xdf',\n",
              " 'E:\\\\BCI\\\\A-Our Motor Data\\\\Good Data\\\\sub-Sherif\\\\s-00\\\\sub-sherif_ses-S003_task-Right Grasp_run-016_eeg.xdf',\n",
              " 'E:\\\\BCI\\\\A-Our Motor Data\\\\Good Data\\\\sub-Sherif\\\\s-00\\\\sub-sherif_ses-S003_task-Right Grasp_run-019_eeg.xdf',\n",
              " 'E:\\\\BCI\\\\A-Our Motor Data\\\\Good Data\\\\sub-Sherif\\\\s-00\\\\sub-sherif_ses-S003_task-Right Grasp_run-020_eeg.xdf',\n",
              " 'E:\\\\BCI\\\\A-Our Motor Data\\\\Good Data\\\\sub-Sherif\\\\s-00\\\\sub-sherif_ses-S003_task-Right Grasp_run-021_eeg.xdf',\n",
              " 'E:\\\\BCI\\\\A-Our Motor Data\\\\Good Data\\\\sub-Sherif\\\\s-00\\\\sub-sherif_ses-S003_task-Right Grasp_run-023_eeg.xdf',\n",
              " 'E:\\\\BCI\\\\A-Our Motor Data\\\\Good Data\\\\sub-Sherif\\\\s-00\\\\sub-sherif_ses-S003_task-Right Grasp_run-027_eeg.xdf',\n",
              " 'E:\\\\BCI\\\\A-Our Motor Data\\\\Good Data\\\\sub-Sherif\\\\s-00\\\\sub-sherif_ses-S003_task-Right Grasp_run-035_eeg.xdf',\n",
              " 'E:\\\\BCI\\\\A-Our Motor Data\\\\Good Data\\\\sub-Sherif\\\\s-00\\\\sub-sherif_ses-S003_task-Right Grasp_run-036_eeg.xdf',\n",
              " 'E:\\\\BCI\\\\A-Our Motor Data\\\\Good Data\\\\sub-Sherif\\\\s-00\\\\sub-sherif_ses-S003_task-Right Grasp_run-038_eeg.xdf',\n",
              " 'E:\\\\BCI\\\\A-Our Motor Data\\\\Good Data\\\\sub-Sherif\\\\s-00\\\\sub-sherif_ses-S003_task-Right Grasp_run-041_eeg.xdf',\n",
              " 'E:\\\\BCI\\\\A-Our Motor Data\\\\Good Data\\\\sub-Sherif\\\\s-00\\\\sub-sherif_ses-S003_task-Right Grasp_run-043_eeg.xdf',\n",
              " 'E:\\\\BCI\\\\A-Our Motor Data\\\\Good Data\\\\sub-Sherif\\\\s-00\\\\sub-sherif_ses-S003_task-Right Grasp_run-047_eeg.xdf',\n",
              " 'E:\\\\BCI\\\\A-Our Motor Data\\\\Good Data\\\\sub-Sherif\\\\s-00\\\\sub-sherif_ses-S003_task-Right Grasp_run-050_eeg.xdf',\n",
              " 'E:\\\\BCI\\\\A-Our Motor Data\\\\Good Data\\\\sub-Sherif\\\\s-00\\\\sub-sherif_ses-S003_task-Right Grasp_run-055_eeg.xdf',\n",
              " 'E:\\\\BCI\\\\A-Our Motor Data\\\\Good Data\\\\sub-Sherif\\\\s-00\\\\sub-sherif_ses-S003_task-Right Grasp_run-057_eeg.xdf',\n",
              " 'E:\\\\BCI\\\\A-Our Motor Data\\\\Good Data\\\\sub-Sherif\\\\s-00\\\\sub-sherif_ses-S003_task-Right Grasp_run-058_eeg.xdf',\n",
              " 'E:\\\\BCI\\\\A-Our Motor Data\\\\Good Data\\\\sub-Sherif\\\\s-00\\\\sub-sherif_ses-S003_task-Right Grasp_run-059_eeg.xdf',\n",
              " 'E:\\\\BCI\\\\A-Our Motor Data\\\\Good Data\\\\sub-Sherif\\\\s-00\\\\sub-sherif_ses-S003_task-Right Grasp_run-060_eeg.xdf',\n",
              " 'E:\\\\BCI\\\\A-Our Motor Data\\\\Good Data\\\\sub-Sherif\\\\s-00\\\\sub-sherif_ses-S003_task-Right Grasp_run-082_eeg.xdf',\n",
              " 'E:\\\\BCI\\\\A-Our Motor Data\\\\Good Data\\\\sub-Sherif\\\\s-00\\\\sub-sherif_ses-S003_task-Right Grasp_run-084_eeg.xdf',\n",
              " 'E:\\\\BCI\\\\A-Our Motor Data\\\\Good Data\\\\sub-Sherif\\\\s-00\\\\sub-sherif_ses-S003_task-Right Grasp_run-085_eeg.xdf',\n",
              " 'E:\\\\BCI\\\\A-Our Motor Data\\\\Good Data\\\\sub-Sherif\\\\s-00\\\\sub-sherif_ses-S003_task-Right Grasp_run-087_eeg.xdf',\n",
              " 'E:\\\\BCI\\\\A-Our Motor Data\\\\Good Data\\\\sub-Sherif\\\\s-00\\\\sub-sherif_ses-S003_task-Right Grasp_run-093_eeg.xdf',\n",
              " 'E:\\\\BCI\\\\A-Our Motor Data\\\\Good Data\\\\sub-Sherif\\\\s-00\\\\sub-sherif_ses-S003_task-Right Grasp_run-094_eeg.xdf',\n",
              " 'E:\\\\BCI\\\\A-Our Motor Data\\\\Good Data\\\\sub-Sherif\\\\s-00\\\\sub-sherif_ses-S003_task-Right Grasp_run-095_eeg.xdf',\n",
              " 'E:\\\\BCI\\\\A-Our Motor Data\\\\Good Data\\\\sub-Sherif\\\\s-00\\\\sub-sherif_ses-S003_task-Right Grasp_run-096_eeg.xdf',\n",
              " 'E:\\\\BCI\\\\A-Our Motor Data\\\\Good Data\\\\sub-Sherif\\\\s-00\\\\sub-sherif_ses-S003_task-Right Grasp_run-100_eeg.xdf',\n",
              " 'E:\\\\BCI\\\\A-Our Motor Data\\\\Good Data\\\\sub-Sherif\\\\s-00\\\\sub-sherif_ses-S003_task-Right Grasp_run-104_eeg.xdf',\n",
              " 'E:\\\\BCI\\\\A-Our Motor Data\\\\Good Data\\\\sub-Sherif\\\\s-00\\\\sub-sherif_ses-S003_task-Right Grasp_run-105_eeg.xdf',\n",
              " 'E:\\\\BCI\\\\A-Our Motor Data\\\\Good Data\\\\sub-Sherif\\\\s-00\\\\sub-sherif_ses-S003_task-Right Grasp_run-106_eeg.xdf',\n",
              " 'E:\\\\BCI\\\\A-Our Motor Data\\\\Good Data\\\\sub-Sherif\\\\s-00\\\\sub-sherif_ses-S003_task-Right Grasp_run-108_eeg.xdf',\n",
              " 'E:\\\\BCI\\\\A-Our Motor Data\\\\Good Data\\\\sub-Sherif\\\\s-00\\\\sub-sherif_ses-S003_task-Right Grasp_run-111_eeg.xdf',\n",
              " 'E:\\\\BCI\\\\A-Our Motor Data\\\\Good Data\\\\sub-Sherif\\\\s-00\\\\sub-sherif_ses-S003_task-Right Grasp_run-116_eeg.xdf',\n",
              " 'E:\\\\BCI\\\\A-Our Motor Data\\\\Good Data\\\\sub-Sherif\\\\s-00\\\\sub-sherif_ses-S003_task-Right Grasp_run-118_eeg.xdf',\n",
              " 'E:\\\\BCI\\\\A-Our Motor Data\\\\Good Data\\\\sub-Sherif\\\\s-00\\\\sub-sherif_ses-S003_task-Right Grasp_run-120_eeg.xdf',\n",
              " 'E:\\\\BCI\\\\A-Our Motor Data\\\\Good Data\\\\sub-Sherif\\\\s-00\\\\sub-sherif_ses-S003_task-Right Grasp_run-121_eeg.xdf',\n",
              " 'E:\\\\BCI\\\\A-Our Motor Data\\\\Good Data\\\\sub-Sherif\\\\s-00\\\\sub-sherif_ses-S003_task-Right Grasp_run-122_eeg.xdf',\n",
              " 'E:\\\\BCI\\\\A-Our Motor Data\\\\Good Data\\\\sub-Sherif\\\\s-00\\\\sub-sherif_ses-S003_task-Right Grasp_run-123_eeg.xdf',\n",
              " 'E:\\\\BCI\\\\A-Our Motor Data\\\\Good Data\\\\sub-Sherif\\\\s-00\\\\sub-sherif_ses-S003_task-Right Grasp_run-129_eeg.xdf',\n",
              " 'E:\\\\BCI\\\\A-Our Motor Data\\\\Good Data\\\\sub-Sherif\\\\s-00\\\\sub-sherif_ses-S003_task-Right Grasp_run-132_eeg.xdf',\n",
              " 'E:\\\\BCI\\\\A-Our Motor Data\\\\Good Data\\\\sub-Sherif\\\\s-00\\\\sub-sherif_ses-S003_task-Right Grasp_run-134_eeg.xdf',\n",
              " 'E:\\\\BCI\\\\A-Our Motor Data\\\\Good Data\\\\sub-Sherif\\\\s-00\\\\sub-sherif_ses-S003_task-Right Release_run-001_eeg.xdf',\n",
              " 'E:\\\\BCI\\\\A-Our Motor Data\\\\Good Data\\\\sub-Sherif\\\\s-00\\\\sub-sherif_ses-S003_task-Right Release_run-003_eeg.xdf',\n",
              " 'E:\\\\BCI\\\\A-Our Motor Data\\\\Good Data\\\\sub-Sherif\\\\s-00\\\\sub-sherif_ses-S003_task-Right Release_run-004_eeg.xdf',\n",
              " 'E:\\\\BCI\\\\A-Our Motor Data\\\\Good Data\\\\sub-Sherif\\\\s-00\\\\sub-sherif_ses-S003_task-Right Release_run-006_eeg.xdf',\n",
              " 'E:\\\\BCI\\\\A-Our Motor Data\\\\Good Data\\\\sub-Sherif\\\\s-00\\\\sub-sherif_ses-S003_task-Right Release_run-008_eeg.xdf',\n",
              " 'E:\\\\BCI\\\\A-Our Motor Data\\\\Good Data\\\\sub-Sherif\\\\s-00\\\\sub-sherif_ses-S003_task-Right Release_run-013_eeg.xdf',\n",
              " 'E:\\\\BCI\\\\A-Our Motor Data\\\\Good Data\\\\sub-Sherif\\\\s-00\\\\sub-sherif_ses-S003_task-Right Release_run-018_eeg.xdf',\n",
              " 'E:\\\\BCI\\\\A-Our Motor Data\\\\Good Data\\\\sub-Sherif\\\\s-00\\\\sub-sherif_ses-S003_task-Right Release_run-025_eeg.xdf',\n",
              " 'E:\\\\BCI\\\\A-Our Motor Data\\\\Good Data\\\\sub-Sherif\\\\s-00\\\\sub-sherif_ses-S003_task-Right Release_run-031_eeg.xdf',\n",
              " 'E:\\\\BCI\\\\A-Our Motor Data\\\\Good Data\\\\sub-Sherif\\\\s-00\\\\sub-sherif_ses-S003_task-Right Release_run-034_eeg.xdf',\n",
              " 'E:\\\\BCI\\\\A-Our Motor Data\\\\Good Data\\\\sub-Sherif\\\\s-00\\\\sub-sherif_ses-S003_task-Right Release_run-039_eeg.xdf',\n",
              " 'E:\\\\BCI\\\\A-Our Motor Data\\\\Good Data\\\\sub-Sherif\\\\s-00\\\\sub-sherif_ses-S003_task-Right Release_run-040_eeg.xdf',\n",
              " 'E:\\\\BCI\\\\A-Our Motor Data\\\\Good Data\\\\sub-Sherif\\\\s-00\\\\sub-sherif_ses-S003_task-Right Release_run-042_eeg.xdf',\n",
              " 'E:\\\\BCI\\\\A-Our Motor Data\\\\Good Data\\\\sub-Sherif\\\\s-00\\\\sub-sherif_ses-S003_task-Right Release_run-044_eeg.xdf',\n",
              " 'E:\\\\BCI\\\\A-Our Motor Data\\\\Good Data\\\\sub-Sherif\\\\s-00\\\\sub-sherif_ses-S003_task-Right Release_run-046_eeg.xdf',\n",
              " 'E:\\\\BCI\\\\A-Our Motor Data\\\\Good Data\\\\sub-Sherif\\\\s-00\\\\sub-sherif_ses-S003_task-Right Release_run-049_eeg.xdf',\n",
              " 'E:\\\\BCI\\\\A-Our Motor Data\\\\Good Data\\\\sub-Sherif\\\\s-00\\\\sub-sherif_ses-S003_task-Right Release_run-052_eeg.xdf',\n",
              " 'E:\\\\BCI\\\\A-Our Motor Data\\\\Good Data\\\\sub-Sherif\\\\s-00\\\\sub-sherif_ses-S003_task-Right Release_run-053_eeg.xdf',\n",
              " 'E:\\\\BCI\\\\A-Our Motor Data\\\\Good Data\\\\sub-Sherif\\\\s-00\\\\sub-sherif_ses-S003_task-Right Release_run-061_eeg.xdf',\n",
              " 'E:\\\\BCI\\\\A-Our Motor Data\\\\Good Data\\\\sub-Sherif\\\\s-00\\\\sub-sherif_ses-S003_task-Right Release_run-062_eeg.xdf',\n",
              " 'E:\\\\BCI\\\\A-Our Motor Data\\\\Good Data\\\\sub-Sherif\\\\s-00\\\\sub-sherif_ses-S003_task-Right Release_run-063_eeg.xdf',\n",
              " 'E:\\\\BCI\\\\A-Our Motor Data\\\\Good Data\\\\sub-Sherif\\\\s-00\\\\sub-sherif_ses-S003_task-Right Release_run-066_eeg.xdf',\n",
              " 'E:\\\\BCI\\\\A-Our Motor Data\\\\Good Data\\\\sub-Sherif\\\\s-00\\\\sub-sherif_ses-S003_task-Right Release_run-067_eeg.xdf',\n",
              " 'E:\\\\BCI\\\\A-Our Motor Data\\\\Good Data\\\\sub-Sherif\\\\s-00\\\\sub-sherif_ses-S003_task-Right Release_run-068_eeg.xdf',\n",
              " 'E:\\\\BCI\\\\A-Our Motor Data\\\\Good Data\\\\sub-Sherif\\\\s-00\\\\sub-sherif_ses-S003_task-Right Release_run-069_eeg.xdf',\n",
              " 'E:\\\\BCI\\\\A-Our Motor Data\\\\Good Data\\\\sub-Sherif\\\\s-00\\\\sub-sherif_ses-S003_task-Right Release_run-070_eeg.xdf',\n",
              " 'E:\\\\BCI\\\\A-Our Motor Data\\\\Good Data\\\\sub-Sherif\\\\s-00\\\\sub-sherif_ses-S003_task-Right Release_run-071_eeg.xdf',\n",
              " 'E:\\\\BCI\\\\A-Our Motor Data\\\\Good Data\\\\sub-Sherif\\\\s-00\\\\sub-sherif_ses-S003_task-Right Release_run-073_eeg.xdf',\n",
              " 'E:\\\\BCI\\\\A-Our Motor Data\\\\Good Data\\\\sub-Sherif\\\\s-00\\\\sub-sherif_ses-S003_task-Right Release_run-075_eeg.xdf',\n",
              " 'E:\\\\BCI\\\\A-Our Motor Data\\\\Good Data\\\\sub-Sherif\\\\s-00\\\\sub-sherif_ses-S003_task-Right Release_run-080_eeg.xdf',\n",
              " 'E:\\\\BCI\\\\A-Our Motor Data\\\\Good Data\\\\sub-Sherif\\\\s-00\\\\sub-sherif_ses-S003_task-Right Release_run-081_eeg.xdf',\n",
              " 'E:\\\\BCI\\\\A-Our Motor Data\\\\Good Data\\\\sub-Sherif\\\\s-00\\\\sub-sherif_ses-S003_task-Right Release_run-086_eeg.xdf',\n",
              " 'E:\\\\BCI\\\\A-Our Motor Data\\\\Good Data\\\\sub-Sherif\\\\s-00\\\\sub-sherif_ses-S003_task-Right Release_run-088_eeg.xdf',\n",
              " 'E:\\\\BCI\\\\A-Our Motor Data\\\\Good Data\\\\sub-Sherif\\\\s-00\\\\sub-sherif_ses-S003_task-Right Release_run-090_eeg.xdf',\n",
              " 'E:\\\\BCI\\\\A-Our Motor Data\\\\Good Data\\\\sub-Sherif\\\\s-00\\\\sub-sherif_ses-S003_task-Right Release_run-092_eeg.xdf',\n",
              " 'E:\\\\BCI\\\\A-Our Motor Data\\\\Good Data\\\\sub-Sherif\\\\s-00\\\\sub-sherif_ses-S003_task-Right Release_run-107_eeg.xdf',\n",
              " 'E:\\\\BCI\\\\A-Our Motor Data\\\\Good Data\\\\sub-Sherif\\\\s-00\\\\sub-sherif_ses-S003_task-Right Release_run-109_eeg.xdf',\n",
              " 'E:\\\\BCI\\\\A-Our Motor Data\\\\Good Data\\\\sub-Sherif\\\\s-00\\\\sub-sherif_ses-S003_task-Right Release_run-112_eeg.xdf',\n",
              " 'E:\\\\BCI\\\\A-Our Motor Data\\\\Good Data\\\\sub-Sherif\\\\s-00\\\\sub-sherif_ses-S003_task-Right Release_run-113_eeg.xdf',\n",
              " 'E:\\\\BCI\\\\A-Our Motor Data\\\\Good Data\\\\sub-Sherif\\\\s-00\\\\sub-sherif_ses-S003_task-Right Release_run-124_eeg.xdf',\n",
              " 'E:\\\\BCI\\\\A-Our Motor Data\\\\Good Data\\\\sub-Sherif\\\\s-00\\\\sub-sherif_ses-S003_task-Right Release_run-125_eeg.xdf',\n",
              " 'E:\\\\BCI\\\\A-Our Motor Data\\\\Good Data\\\\sub-Sherif\\\\s-00\\\\sub-sherif_ses-S003_task-Right Release_run-127_eeg.xdf',\n",
              " 'E:\\\\BCI\\\\A-Our Motor Data\\\\Good Data\\\\sub-Sherif\\\\s-00\\\\sub-sherif_ses-S003_task-Right Release_run-130_eeg.xdf',\n",
              " 'E:\\\\BCI\\\\A-Our Motor Data\\\\Good Data\\\\sub-Sherif\\\\s-00\\\\sub-sherif_ses-S003_task-Right Release_run-135_eeg.xdf',\n",
              " 'E:\\\\BCI\\\\A-Our Motor Data\\\\Good Data\\\\sub-Sherif\\\\s-00\\\\sub-sherif_ses-S003_task-Right Release_run-200_eeg.xdf']"
            ]
          },
          "execution_count": 7,
          "metadata": {},
          "output_type": "execute_result"
        }
      ],
      "source": [
        "files"
      ]
    },
    {
      "cell_type": "code",
      "execution_count": 8,
      "metadata": {},
      "outputs": [
        {
          "name": "stdout",
          "output_type": "stream",
          "text": [
            "Number of filtered paths: 150\n"
          ]
        },
        {
          "data": {
            "text/plain": [
              "['E:\\\\BCI\\\\A-Our Motor Data\\\\Good Data\\\\sub-Sherif\\\\s-00\\\\sub-sherif_ses-S002_task-Right Grasp_run-003_eeg.xdf',\n",
              " 'E:\\\\BCI\\\\A-Our Motor Data\\\\Good Data\\\\sub-Sherif\\\\s-00\\\\sub-sherif_ses-S002_task-Right Grasp_run-007_eeg.xdf',\n",
              " 'E:\\\\BCI\\\\A-Our Motor Data\\\\Good Data\\\\sub-Sherif\\\\s-00\\\\sub-sherif_ses-S002_task-Right Grasp_run-008_eeg.xdf',\n",
              " 'E:\\\\BCI\\\\A-Our Motor Data\\\\Good Data\\\\sub-Sherif\\\\s-00\\\\sub-sherif_ses-S002_task-Right Grasp_run-011_eeg.xdf',\n",
              " 'E:\\\\BCI\\\\A-Our Motor Data\\\\Good Data\\\\sub-Sherif\\\\s-00\\\\sub-sherif_ses-S002_task-Right Grasp_run-012_eeg.xdf',\n",
              " 'E:\\\\BCI\\\\A-Our Motor Data\\\\Good Data\\\\sub-Sherif\\\\s-00\\\\sub-sherif_ses-S002_task-Right Grasp_run-016_eeg.xdf',\n",
              " 'E:\\\\BCI\\\\A-Our Motor Data\\\\Good Data\\\\sub-Sherif\\\\s-00\\\\sub-sherif_ses-S002_task-Right Grasp_run-017_eeg.xdf',\n",
              " 'E:\\\\BCI\\\\A-Our Motor Data\\\\Good Data\\\\sub-Sherif\\\\s-00\\\\sub-sherif_ses-S002_task-Right Grasp_run-023_eeg.xdf',\n",
              " 'E:\\\\BCI\\\\A-Our Motor Data\\\\Good Data\\\\sub-Sherif\\\\s-00\\\\sub-sherif_ses-S002_task-Right Grasp_run-025_eeg.xdf',\n",
              " 'E:\\\\BCI\\\\A-Our Motor Data\\\\Good Data\\\\sub-Sherif\\\\s-00\\\\sub-sherif_ses-S002_task-Right Grasp_run-028_eeg.xdf',\n",
              " 'E:\\\\BCI\\\\A-Our Motor Data\\\\Good Data\\\\sub-Sherif\\\\s-00\\\\sub-sherif_ses-S002_task-Right Grasp_run-037_eeg.xdf',\n",
              " 'E:\\\\BCI\\\\A-Our Motor Data\\\\Good Data\\\\sub-Sherif\\\\s-00\\\\sub-sherif_ses-S002_task-Right Grasp_run-039_eeg.xdf',\n",
              " 'E:\\\\BCI\\\\A-Our Motor Data\\\\Good Data\\\\sub-Sherif\\\\s-00\\\\sub-sherif_ses-S002_task-Right Grasp_run-044_eeg.xdf',\n",
              " 'E:\\\\BCI\\\\A-Our Motor Data\\\\Good Data\\\\sub-Sherif\\\\s-00\\\\sub-sherif_ses-S002_task-Right Grasp_run-046_eeg.xdf',\n",
              " 'E:\\\\BCI\\\\A-Our Motor Data\\\\Good Data\\\\sub-Sherif\\\\s-00\\\\sub-sherif_ses-S002_task-Right Grasp_run-049_eeg.xdf',\n",
              " 'E:\\\\BCI\\\\A-Our Motor Data\\\\Good Data\\\\sub-Sherif\\\\s-00\\\\sub-sherif_ses-S002_task-Right Grasp_run-050_eeg.xdf',\n",
              " 'E:\\\\BCI\\\\A-Our Motor Data\\\\Good Data\\\\sub-Sherif\\\\s-00\\\\sub-sherif_ses-S002_task-Right Grasp_run-051_eeg.xdf',\n",
              " 'E:\\\\BCI\\\\A-Our Motor Data\\\\Good Data\\\\sub-Sherif\\\\s-00\\\\sub-sherif_ses-S002_task-Right Grasp_run-054_eeg.xdf',\n",
              " 'E:\\\\BCI\\\\A-Our Motor Data\\\\Good Data\\\\sub-Sherif\\\\s-00\\\\sub-sherif_ses-S002_task-Right Grasp_run-055_eeg.xdf',\n",
              " 'E:\\\\BCI\\\\A-Our Motor Data\\\\Good Data\\\\sub-Sherif\\\\s-00\\\\sub-sherif_ses-S002_task-Right Grasp_run-056_eeg.xdf',\n",
              " 'E:\\\\BCI\\\\A-Our Motor Data\\\\Good Data\\\\sub-Sherif\\\\s-00\\\\sub-sherif_ses-S002_task-Right Grasp_run-057_eeg.xdf',\n",
              " 'E:\\\\BCI\\\\A-Our Motor Data\\\\Good Data\\\\sub-Sherif\\\\s-00\\\\sub-sherif_ses-S002_task-Right Grasp_run-058_eeg.xdf',\n",
              " 'E:\\\\BCI\\\\A-Our Motor Data\\\\Good Data\\\\sub-Sherif\\\\s-00\\\\sub-sherif_ses-S002_task-Right Grasp_run-059_eeg.xdf',\n",
              " 'E:\\\\BCI\\\\A-Our Motor Data\\\\Good Data\\\\sub-Sherif\\\\s-00\\\\sub-sherif_ses-S002_task-Right Grasp_run-061_eeg.xdf',\n",
              " 'E:\\\\BCI\\\\A-Our Motor Data\\\\Good Data\\\\sub-Sherif\\\\s-00\\\\sub-sherif_ses-S002_task-Right Grasp_run-063_eeg.xdf',\n",
              " 'E:\\\\BCI\\\\A-Our Motor Data\\\\Good Data\\\\sub-Sherif\\\\s-00\\\\sub-sherif_ses-S002_task-Right Grasp_run-069_eeg.xdf',\n",
              " 'E:\\\\BCI\\\\A-Our Motor Data\\\\Good Data\\\\sub-Sherif\\\\s-00\\\\sub-sherif_ses-S002_task-Right Grasp_run-072_eeg.xdf',\n",
              " 'E:\\\\BCI\\\\A-Our Motor Data\\\\Good Data\\\\sub-Sherif\\\\s-00\\\\sub-sherif_ses-S002_task-Right Grasp_run-074_eeg.xdf',\n",
              " 'E:\\\\BCI\\\\A-Our Motor Data\\\\Good Data\\\\sub-Sherif\\\\s-00\\\\sub-sherif_ses-S002_task-Right Grasp_run-078_eeg.xdf',\n",
              " 'E:\\\\BCI\\\\A-Our Motor Data\\\\Good Data\\\\sub-Sherif\\\\s-00\\\\sub-sherif_ses-S002_task-Right Grasp_run-085_eeg.xdf',\n",
              " 'E:\\\\BCI\\\\A-Our Motor Data\\\\Good Data\\\\sub-Sherif\\\\s-00\\\\sub-sherif_ses-S002_task-Right Release_run-001_eeg.xdf',\n",
              " 'E:\\\\BCI\\\\A-Our Motor Data\\\\Good Data\\\\sub-Sherif\\\\s-00\\\\sub-sherif_ses-S002_task-Right Release_run-002_eeg.xdf',\n",
              " 'E:\\\\BCI\\\\A-Our Motor Data\\\\Good Data\\\\sub-Sherif\\\\s-00\\\\sub-sherif_ses-S002_task-Right Release_run-004_eeg.xdf',\n",
              " 'E:\\\\BCI\\\\A-Our Motor Data\\\\Good Data\\\\sub-Sherif\\\\s-00\\\\sub-sherif_ses-S002_task-Right Release_run-005_eeg.xdf',\n",
              " 'E:\\\\BCI\\\\A-Our Motor Data\\\\Good Data\\\\sub-Sherif\\\\s-00\\\\sub-sherif_ses-S002_task-Right Release_run-009_eeg.xdf',\n",
              " 'E:\\\\BCI\\\\A-Our Motor Data\\\\Good Data\\\\sub-Sherif\\\\s-00\\\\sub-sherif_ses-S002_task-Right Release_run-015_eeg.xdf',\n",
              " 'E:\\\\BCI\\\\A-Our Motor Data\\\\Good Data\\\\sub-Sherif\\\\s-00\\\\sub-sherif_ses-S002_task-Right Release_run-018_eeg.xdf',\n",
              " 'E:\\\\BCI\\\\A-Our Motor Data\\\\Good Data\\\\sub-Sherif\\\\s-00\\\\sub-sherif_ses-S002_task-Right Release_run-021_eeg.xdf',\n",
              " 'E:\\\\BCI\\\\A-Our Motor Data\\\\Good Data\\\\sub-Sherif\\\\s-00\\\\sub-sherif_ses-S002_task-Right Release_run-024_eeg.xdf',\n",
              " 'E:\\\\BCI\\\\A-Our Motor Data\\\\Good Data\\\\sub-Sherif\\\\s-00\\\\sub-sherif_ses-S002_task-Right Release_run-026_eeg.xdf',\n",
              " 'E:\\\\BCI\\\\A-Our Motor Data\\\\Good Data\\\\sub-Sherif\\\\s-00\\\\sub-sherif_ses-S002_task-Right Release_run-029_eeg.xdf',\n",
              " 'E:\\\\BCI\\\\A-Our Motor Data\\\\Good Data\\\\sub-Sherif\\\\s-00\\\\sub-sherif_ses-S002_task-Right Release_run-030_eeg.xdf',\n",
              " 'E:\\\\BCI\\\\A-Our Motor Data\\\\Good Data\\\\sub-Sherif\\\\s-00\\\\sub-sherif_ses-S002_task-Right Release_run-031_eeg.xdf',\n",
              " 'E:\\\\BCI\\\\A-Our Motor Data\\\\Good Data\\\\sub-Sherif\\\\s-00\\\\sub-sherif_ses-S002_task-Right Release_run-033_eeg.xdf',\n",
              " 'E:\\\\BCI\\\\A-Our Motor Data\\\\Good Data\\\\sub-Sherif\\\\s-00\\\\sub-sherif_ses-S002_task-Right Release_run-035_eeg.xdf',\n",
              " 'E:\\\\BCI\\\\A-Our Motor Data\\\\Good Data\\\\sub-Sherif\\\\s-00\\\\sub-sherif_ses-S002_task-Right Release_run-036_eeg.xdf',\n",
              " 'E:\\\\BCI\\\\A-Our Motor Data\\\\Good Data\\\\sub-Sherif\\\\s-00\\\\sub-sherif_ses-S002_task-Right Release_run-045_eeg.xdf',\n",
              " 'E:\\\\BCI\\\\A-Our Motor Data\\\\Good Data\\\\sub-Sherif\\\\s-00\\\\sub-sherif_ses-S002_task-Right Release_run-048_eeg.xdf',\n",
              " 'E:\\\\BCI\\\\A-Our Motor Data\\\\Good Data\\\\sub-Sherif\\\\s-00\\\\sub-sherif_ses-S002_task-Right Release_run-053_eeg.xdf',\n",
              " 'E:\\\\BCI\\\\A-Our Motor Data\\\\Good Data\\\\sub-Sherif\\\\s-00\\\\sub-sherif_ses-S002_task-Right Release_run-060_eeg.xdf',\n",
              " 'E:\\\\BCI\\\\A-Our Motor Data\\\\Good Data\\\\sub-Sherif\\\\s-00\\\\sub-sherif_ses-S002_task-Right Release_run-064_eeg.xdf',\n",
              " 'E:\\\\BCI\\\\A-Our Motor Data\\\\Good Data\\\\sub-Sherif\\\\s-00\\\\sub-sherif_ses-S002_task-Right Release_run-066_eeg.xdf',\n",
              " 'E:\\\\BCI\\\\A-Our Motor Data\\\\Good Data\\\\sub-Sherif\\\\s-00\\\\sub-sherif_ses-S002_task-Right Release_run-070_eeg.xdf',\n",
              " 'E:\\\\BCI\\\\A-Our Motor Data\\\\Good Data\\\\sub-Sherif\\\\s-00\\\\sub-sherif_ses-S002_task-Right Release_run-073_eeg.xdf',\n",
              " 'E:\\\\BCI\\\\A-Our Motor Data\\\\Good Data\\\\sub-Sherif\\\\s-00\\\\sub-sherif_ses-S002_task-Right Release_run-075_eeg.xdf',\n",
              " 'E:\\\\BCI\\\\A-Our Motor Data\\\\Good Data\\\\sub-Sherif\\\\s-00\\\\sub-sherif_ses-S002_task-Right Release_run-077_eeg.xdf',\n",
              " 'E:\\\\BCI\\\\A-Our Motor Data\\\\Good Data\\\\sub-Sherif\\\\s-00\\\\sub-sherif_ses-S002_task-Right Release_run-081_eeg.xdf',\n",
              " 'E:\\\\BCI\\\\A-Our Motor Data\\\\Good Data\\\\sub-Sherif\\\\s-00\\\\sub-sherif_ses-S002_task-Right Release_run-087_eeg.xdf',\n",
              " 'E:\\\\BCI\\\\A-Our Motor Data\\\\Good Data\\\\sub-Sherif\\\\s-00\\\\sub-sherif_ses-S002_task-Right Release_run-088_eeg.xdf',\n",
              " 'E:\\\\BCI\\\\A-Our Motor Data\\\\Good Data\\\\sub-Sherif\\\\s-00\\\\sub-sherif_ses-S002_task-Right Release_run-090_eeg.xdf',\n",
              " 'E:\\\\BCI\\\\A-Our Motor Data\\\\Good Data\\\\sub-Sherif\\\\s-00\\\\sub-sherif_ses-S003_task-Right Grasp_run-009_eeg.xdf',\n",
              " 'E:\\\\BCI\\\\A-Our Motor Data\\\\Good Data\\\\sub-Sherif\\\\s-00\\\\sub-sherif_ses-S003_task-Right Grasp_run-010_eeg.xdf',\n",
              " 'E:\\\\BCI\\\\A-Our Motor Data\\\\Good Data\\\\sub-Sherif\\\\s-00\\\\sub-sherif_ses-S003_task-Right Grasp_run-012_eeg.xdf',\n",
              " 'E:\\\\BCI\\\\A-Our Motor Data\\\\Good Data\\\\sub-Sherif\\\\s-00\\\\sub-sherif_ses-S003_task-Right Grasp_run-014_eeg.xdf',\n",
              " 'E:\\\\BCI\\\\A-Our Motor Data\\\\Good Data\\\\sub-Sherif\\\\s-00\\\\sub-sherif_ses-S003_task-Right Grasp_run-016_eeg.xdf',\n",
              " 'E:\\\\BCI\\\\A-Our Motor Data\\\\Good Data\\\\sub-Sherif\\\\s-00\\\\sub-sherif_ses-S003_task-Right Grasp_run-019_eeg.xdf',\n",
              " 'E:\\\\BCI\\\\A-Our Motor Data\\\\Good Data\\\\sub-Sherif\\\\s-00\\\\sub-sherif_ses-S003_task-Right Grasp_run-020_eeg.xdf',\n",
              " 'E:\\\\BCI\\\\A-Our Motor Data\\\\Good Data\\\\sub-Sherif\\\\s-00\\\\sub-sherif_ses-S003_task-Right Grasp_run-021_eeg.xdf',\n",
              " 'E:\\\\BCI\\\\A-Our Motor Data\\\\Good Data\\\\sub-Sherif\\\\s-00\\\\sub-sherif_ses-S003_task-Right Grasp_run-023_eeg.xdf',\n",
              " 'E:\\\\BCI\\\\A-Our Motor Data\\\\Good Data\\\\sub-Sherif\\\\s-00\\\\sub-sherif_ses-S003_task-Right Grasp_run-027_eeg.xdf',\n",
              " 'E:\\\\BCI\\\\A-Our Motor Data\\\\Good Data\\\\sub-Sherif\\\\s-00\\\\sub-sherif_ses-S003_task-Right Grasp_run-035_eeg.xdf',\n",
              " 'E:\\\\BCI\\\\A-Our Motor Data\\\\Good Data\\\\sub-Sherif\\\\s-00\\\\sub-sherif_ses-S003_task-Right Grasp_run-036_eeg.xdf',\n",
              " 'E:\\\\BCI\\\\A-Our Motor Data\\\\Good Data\\\\sub-Sherif\\\\s-00\\\\sub-sherif_ses-S003_task-Right Grasp_run-038_eeg.xdf',\n",
              " 'E:\\\\BCI\\\\A-Our Motor Data\\\\Good Data\\\\sub-Sherif\\\\s-00\\\\sub-sherif_ses-S003_task-Right Grasp_run-041_eeg.xdf',\n",
              " 'E:\\\\BCI\\\\A-Our Motor Data\\\\Good Data\\\\sub-Sherif\\\\s-00\\\\sub-sherif_ses-S003_task-Right Grasp_run-043_eeg.xdf',\n",
              " 'E:\\\\BCI\\\\A-Our Motor Data\\\\Good Data\\\\sub-Sherif\\\\s-00\\\\sub-sherif_ses-S003_task-Right Grasp_run-047_eeg.xdf',\n",
              " 'E:\\\\BCI\\\\A-Our Motor Data\\\\Good Data\\\\sub-Sherif\\\\s-00\\\\sub-sherif_ses-S003_task-Right Grasp_run-050_eeg.xdf',\n",
              " 'E:\\\\BCI\\\\A-Our Motor Data\\\\Good Data\\\\sub-Sherif\\\\s-00\\\\sub-sherif_ses-S003_task-Right Grasp_run-055_eeg.xdf',\n",
              " 'E:\\\\BCI\\\\A-Our Motor Data\\\\Good Data\\\\sub-Sherif\\\\s-00\\\\sub-sherif_ses-S003_task-Right Grasp_run-057_eeg.xdf',\n",
              " 'E:\\\\BCI\\\\A-Our Motor Data\\\\Good Data\\\\sub-Sherif\\\\s-00\\\\sub-sherif_ses-S003_task-Right Grasp_run-058_eeg.xdf',\n",
              " 'E:\\\\BCI\\\\A-Our Motor Data\\\\Good Data\\\\sub-Sherif\\\\s-00\\\\sub-sherif_ses-S003_task-Right Grasp_run-059_eeg.xdf',\n",
              " 'E:\\\\BCI\\\\A-Our Motor Data\\\\Good Data\\\\sub-Sherif\\\\s-00\\\\sub-sherif_ses-S003_task-Right Grasp_run-060_eeg.xdf',\n",
              " 'E:\\\\BCI\\\\A-Our Motor Data\\\\Good Data\\\\sub-Sherif\\\\s-00\\\\sub-sherif_ses-S003_task-Right Grasp_run-082_eeg.xdf',\n",
              " 'E:\\\\BCI\\\\A-Our Motor Data\\\\Good Data\\\\sub-Sherif\\\\s-00\\\\sub-sherif_ses-S003_task-Right Grasp_run-084_eeg.xdf',\n",
              " 'E:\\\\BCI\\\\A-Our Motor Data\\\\Good Data\\\\sub-Sherif\\\\s-00\\\\sub-sherif_ses-S003_task-Right Grasp_run-085_eeg.xdf',\n",
              " 'E:\\\\BCI\\\\A-Our Motor Data\\\\Good Data\\\\sub-Sherif\\\\s-00\\\\sub-sherif_ses-S003_task-Right Grasp_run-087_eeg.xdf',\n",
              " 'E:\\\\BCI\\\\A-Our Motor Data\\\\Good Data\\\\sub-Sherif\\\\s-00\\\\sub-sherif_ses-S003_task-Right Grasp_run-093_eeg.xdf',\n",
              " 'E:\\\\BCI\\\\A-Our Motor Data\\\\Good Data\\\\sub-Sherif\\\\s-00\\\\sub-sherif_ses-S003_task-Right Grasp_run-094_eeg.xdf',\n",
              " 'E:\\\\BCI\\\\A-Our Motor Data\\\\Good Data\\\\sub-Sherif\\\\s-00\\\\sub-sherif_ses-S003_task-Right Grasp_run-095_eeg.xdf',\n",
              " 'E:\\\\BCI\\\\A-Our Motor Data\\\\Good Data\\\\sub-Sherif\\\\s-00\\\\sub-sherif_ses-S003_task-Right Grasp_run-096_eeg.xdf',\n",
              " 'E:\\\\BCI\\\\A-Our Motor Data\\\\Good Data\\\\sub-Sherif\\\\s-00\\\\sub-sherif_ses-S003_task-Right Grasp_run-100_eeg.xdf',\n",
              " 'E:\\\\BCI\\\\A-Our Motor Data\\\\Good Data\\\\sub-Sherif\\\\s-00\\\\sub-sherif_ses-S003_task-Right Grasp_run-104_eeg.xdf',\n",
              " 'E:\\\\BCI\\\\A-Our Motor Data\\\\Good Data\\\\sub-Sherif\\\\s-00\\\\sub-sherif_ses-S003_task-Right Grasp_run-105_eeg.xdf',\n",
              " 'E:\\\\BCI\\\\A-Our Motor Data\\\\Good Data\\\\sub-Sherif\\\\s-00\\\\sub-sherif_ses-S003_task-Right Grasp_run-106_eeg.xdf',\n",
              " 'E:\\\\BCI\\\\A-Our Motor Data\\\\Good Data\\\\sub-Sherif\\\\s-00\\\\sub-sherif_ses-S003_task-Right Grasp_run-108_eeg.xdf',\n",
              " 'E:\\\\BCI\\\\A-Our Motor Data\\\\Good Data\\\\sub-Sherif\\\\s-00\\\\sub-sherif_ses-S003_task-Right Grasp_run-111_eeg.xdf',\n",
              " 'E:\\\\BCI\\\\A-Our Motor Data\\\\Good Data\\\\sub-Sherif\\\\s-00\\\\sub-sherif_ses-S003_task-Right Grasp_run-116_eeg.xdf',\n",
              " 'E:\\\\BCI\\\\A-Our Motor Data\\\\Good Data\\\\sub-Sherif\\\\s-00\\\\sub-sherif_ses-S003_task-Right Grasp_run-118_eeg.xdf',\n",
              " 'E:\\\\BCI\\\\A-Our Motor Data\\\\Good Data\\\\sub-Sherif\\\\s-00\\\\sub-sherif_ses-S003_task-Right Grasp_run-120_eeg.xdf',\n",
              " 'E:\\\\BCI\\\\A-Our Motor Data\\\\Good Data\\\\sub-Sherif\\\\s-00\\\\sub-sherif_ses-S003_task-Right Grasp_run-121_eeg.xdf',\n",
              " 'E:\\\\BCI\\\\A-Our Motor Data\\\\Good Data\\\\sub-Sherif\\\\s-00\\\\sub-sherif_ses-S003_task-Right Grasp_run-122_eeg.xdf',\n",
              " 'E:\\\\BCI\\\\A-Our Motor Data\\\\Good Data\\\\sub-Sherif\\\\s-00\\\\sub-sherif_ses-S003_task-Right Grasp_run-123_eeg.xdf',\n",
              " 'E:\\\\BCI\\\\A-Our Motor Data\\\\Good Data\\\\sub-Sherif\\\\s-00\\\\sub-sherif_ses-S003_task-Right Grasp_run-129_eeg.xdf',\n",
              " 'E:\\\\BCI\\\\A-Our Motor Data\\\\Good Data\\\\sub-Sherif\\\\s-00\\\\sub-sherif_ses-S003_task-Right Grasp_run-132_eeg.xdf',\n",
              " 'E:\\\\BCI\\\\A-Our Motor Data\\\\Good Data\\\\sub-Sherif\\\\s-00\\\\sub-sherif_ses-S003_task-Right Grasp_run-134_eeg.xdf',\n",
              " 'E:\\\\BCI\\\\A-Our Motor Data\\\\Good Data\\\\sub-Sherif\\\\s-00\\\\sub-sherif_ses-S003_task-Right Release_run-001_eeg.xdf',\n",
              " 'E:\\\\BCI\\\\A-Our Motor Data\\\\Good Data\\\\sub-Sherif\\\\s-00\\\\sub-sherif_ses-S003_task-Right Release_run-003_eeg.xdf',\n",
              " 'E:\\\\BCI\\\\A-Our Motor Data\\\\Good Data\\\\sub-Sherif\\\\s-00\\\\sub-sherif_ses-S003_task-Right Release_run-004_eeg.xdf',\n",
              " 'E:\\\\BCI\\\\A-Our Motor Data\\\\Good Data\\\\sub-Sherif\\\\s-00\\\\sub-sherif_ses-S003_task-Right Release_run-006_eeg.xdf',\n",
              " 'E:\\\\BCI\\\\A-Our Motor Data\\\\Good Data\\\\sub-Sherif\\\\s-00\\\\sub-sherif_ses-S003_task-Right Release_run-008_eeg.xdf',\n",
              " 'E:\\\\BCI\\\\A-Our Motor Data\\\\Good Data\\\\sub-Sherif\\\\s-00\\\\sub-sherif_ses-S003_task-Right Release_run-013_eeg.xdf',\n",
              " 'E:\\\\BCI\\\\A-Our Motor Data\\\\Good Data\\\\sub-Sherif\\\\s-00\\\\sub-sherif_ses-S003_task-Right Release_run-018_eeg.xdf',\n",
              " 'E:\\\\BCI\\\\A-Our Motor Data\\\\Good Data\\\\sub-Sherif\\\\s-00\\\\sub-sherif_ses-S003_task-Right Release_run-025_eeg.xdf',\n",
              " 'E:\\\\BCI\\\\A-Our Motor Data\\\\Good Data\\\\sub-Sherif\\\\s-00\\\\sub-sherif_ses-S003_task-Right Release_run-031_eeg.xdf',\n",
              " 'E:\\\\BCI\\\\A-Our Motor Data\\\\Good Data\\\\sub-Sherif\\\\s-00\\\\sub-sherif_ses-S003_task-Right Release_run-034_eeg.xdf',\n",
              " 'E:\\\\BCI\\\\A-Our Motor Data\\\\Good Data\\\\sub-Sherif\\\\s-00\\\\sub-sherif_ses-S003_task-Right Release_run-039_eeg.xdf',\n",
              " 'E:\\\\BCI\\\\A-Our Motor Data\\\\Good Data\\\\sub-Sherif\\\\s-00\\\\sub-sherif_ses-S003_task-Right Release_run-040_eeg.xdf',\n",
              " 'E:\\\\BCI\\\\A-Our Motor Data\\\\Good Data\\\\sub-Sherif\\\\s-00\\\\sub-sherif_ses-S003_task-Right Release_run-042_eeg.xdf',\n",
              " 'E:\\\\BCI\\\\A-Our Motor Data\\\\Good Data\\\\sub-Sherif\\\\s-00\\\\sub-sherif_ses-S003_task-Right Release_run-044_eeg.xdf',\n",
              " 'E:\\\\BCI\\\\A-Our Motor Data\\\\Good Data\\\\sub-Sherif\\\\s-00\\\\sub-sherif_ses-S003_task-Right Release_run-046_eeg.xdf',\n",
              " 'E:\\\\BCI\\\\A-Our Motor Data\\\\Good Data\\\\sub-Sherif\\\\s-00\\\\sub-sherif_ses-S003_task-Right Release_run-049_eeg.xdf',\n",
              " 'E:\\\\BCI\\\\A-Our Motor Data\\\\Good Data\\\\sub-Sherif\\\\s-00\\\\sub-sherif_ses-S003_task-Right Release_run-052_eeg.xdf',\n",
              " 'E:\\\\BCI\\\\A-Our Motor Data\\\\Good Data\\\\sub-Sherif\\\\s-00\\\\sub-sherif_ses-S003_task-Right Release_run-053_eeg.xdf',\n",
              " 'E:\\\\BCI\\\\A-Our Motor Data\\\\Good Data\\\\sub-Sherif\\\\s-00\\\\sub-sherif_ses-S003_task-Right Release_run-061_eeg.xdf',\n",
              " 'E:\\\\BCI\\\\A-Our Motor Data\\\\Good Data\\\\sub-Sherif\\\\s-00\\\\sub-sherif_ses-S003_task-Right Release_run-062_eeg.xdf',\n",
              " 'E:\\\\BCI\\\\A-Our Motor Data\\\\Good Data\\\\sub-Sherif\\\\s-00\\\\sub-sherif_ses-S003_task-Right Release_run-063_eeg.xdf',\n",
              " 'E:\\\\BCI\\\\A-Our Motor Data\\\\Good Data\\\\sub-Sherif\\\\s-00\\\\sub-sherif_ses-S003_task-Right Release_run-066_eeg.xdf',\n",
              " 'E:\\\\BCI\\\\A-Our Motor Data\\\\Good Data\\\\sub-Sherif\\\\s-00\\\\sub-sherif_ses-S003_task-Right Release_run-067_eeg.xdf',\n",
              " 'E:\\\\BCI\\\\A-Our Motor Data\\\\Good Data\\\\sub-Sherif\\\\s-00\\\\sub-sherif_ses-S003_task-Right Release_run-068_eeg.xdf',\n",
              " 'E:\\\\BCI\\\\A-Our Motor Data\\\\Good Data\\\\sub-Sherif\\\\s-00\\\\sub-sherif_ses-S003_task-Right Release_run-069_eeg.xdf',\n",
              " 'E:\\\\BCI\\\\A-Our Motor Data\\\\Good Data\\\\sub-Sherif\\\\s-00\\\\sub-sherif_ses-S003_task-Right Release_run-070_eeg.xdf',\n",
              " 'E:\\\\BCI\\\\A-Our Motor Data\\\\Good Data\\\\sub-Sherif\\\\s-00\\\\sub-sherif_ses-S003_task-Right Release_run-071_eeg.xdf',\n",
              " 'E:\\\\BCI\\\\A-Our Motor Data\\\\Good Data\\\\sub-Sherif\\\\s-00\\\\sub-sherif_ses-S003_task-Right Release_run-073_eeg.xdf',\n",
              " 'E:\\\\BCI\\\\A-Our Motor Data\\\\Good Data\\\\sub-Sherif\\\\s-00\\\\sub-sherif_ses-S003_task-Right Release_run-075_eeg.xdf',\n",
              " 'E:\\\\BCI\\\\A-Our Motor Data\\\\Good Data\\\\sub-Sherif\\\\s-00\\\\sub-sherif_ses-S003_task-Right Release_run-080_eeg.xdf',\n",
              " 'E:\\\\BCI\\\\A-Our Motor Data\\\\Good Data\\\\sub-Sherif\\\\s-00\\\\sub-sherif_ses-S003_task-Right Release_run-081_eeg.xdf',\n",
              " 'E:\\\\BCI\\\\A-Our Motor Data\\\\Good Data\\\\sub-Sherif\\\\s-00\\\\sub-sherif_ses-S003_task-Right Release_run-086_eeg.xdf',\n",
              " 'E:\\\\BCI\\\\A-Our Motor Data\\\\Good Data\\\\sub-Sherif\\\\s-00\\\\sub-sherif_ses-S003_task-Right Release_run-088_eeg.xdf',\n",
              " 'E:\\\\BCI\\\\A-Our Motor Data\\\\Good Data\\\\sub-Sherif\\\\s-00\\\\sub-sherif_ses-S003_task-Right Release_run-090_eeg.xdf',\n",
              " 'E:\\\\BCI\\\\A-Our Motor Data\\\\Good Data\\\\sub-Sherif\\\\s-00\\\\sub-sherif_ses-S003_task-Right Release_run-092_eeg.xdf',\n",
              " 'E:\\\\BCI\\\\A-Our Motor Data\\\\Good Data\\\\sub-Sherif\\\\s-00\\\\sub-sherif_ses-S003_task-Right Release_run-107_eeg.xdf',\n",
              " 'E:\\\\BCI\\\\A-Our Motor Data\\\\Good Data\\\\sub-Sherif\\\\s-00\\\\sub-sherif_ses-S003_task-Right Release_run-109_eeg.xdf',\n",
              " 'E:\\\\BCI\\\\A-Our Motor Data\\\\Good Data\\\\sub-Sherif\\\\s-00\\\\sub-sherif_ses-S003_task-Right Release_run-112_eeg.xdf',\n",
              " 'E:\\\\BCI\\\\A-Our Motor Data\\\\Good Data\\\\sub-Sherif\\\\s-00\\\\sub-sherif_ses-S003_task-Right Release_run-113_eeg.xdf',\n",
              " 'E:\\\\BCI\\\\A-Our Motor Data\\\\Good Data\\\\sub-Sherif\\\\s-00\\\\sub-sherif_ses-S003_task-Right Release_run-124_eeg.xdf',\n",
              " 'E:\\\\BCI\\\\A-Our Motor Data\\\\Good Data\\\\sub-Sherif\\\\s-00\\\\sub-sherif_ses-S003_task-Right Release_run-125_eeg.xdf',\n",
              " 'E:\\\\BCI\\\\A-Our Motor Data\\\\Good Data\\\\sub-Sherif\\\\s-00\\\\sub-sherif_ses-S003_task-Right Release_run-127_eeg.xdf',\n",
              " 'E:\\\\BCI\\\\A-Our Motor Data\\\\Good Data\\\\sub-Sherif\\\\s-00\\\\sub-sherif_ses-S003_task-Right Release_run-130_eeg.xdf',\n",
              " 'E:\\\\BCI\\\\A-Our Motor Data\\\\Good Data\\\\sub-Sherif\\\\s-00\\\\sub-sherif_ses-S003_task-Right Release_run-135_eeg.xdf',\n",
              " 'E:\\\\BCI\\\\A-Our Motor Data\\\\Good Data\\\\sub-Sherif\\\\s-00\\\\sub-sherif_ses-S003_task-Right Release_run-200_eeg.xdf']"
            ]
          },
          "execution_count": 8,
          "metadata": {},
          "output_type": "execute_result"
        }
      ],
      "source": [
        "# Filter the paths\n",
        "filtered_paths = [path for path in files if ('Right Grasp' in path or 'Right Release' in path) and \n",
        "                                            ('B_Right Grasp' not in path and 'B_Right Release' not in path)]\n",
        "\n",
        "# filtered_paths = [path for path in files if ('Right Grasp' in path or 'Right Release' in path or 'Baseline' in path) and \n",
        "#                                             ('B_Right Grasp' not in path and 'B_Right Release' not in path and 'B_Baseline' not in path)]\n",
        "\n",
        "# Print the number of filtered paths and the paths themselves\n",
        "print(f'Number of filtered paths: {len(filtered_paths)}')\n",
        "filtered_paths"
      ]
    },
    {
      "cell_type": "code",
      "execution_count": 9,
      "metadata": {
        "id": "HLmo38MMoZh0"
      },
      "outputs": [
        {
          "data": {
            "text/plain": [
              "150"
            ]
          },
          "execution_count": 9,
          "metadata": {},
          "output_type": "execute_result"
        }
      ],
      "source": [
        "all_files = filtered_paths\n",
        "len(all_files)"
      ]
    },
    {
      "cell_type": "markdown",
      "metadata": {
        "id": "Bpe1FMFI9HBC"
      },
      "source": [
        "# from XDF to MNE"
      ]
    },
    {
      "cell_type": "code",
      "execution_count": 12,
      "metadata": {},
      "outputs": [
        {
          "data": {
            "text/plain": [
              "'E:\\\\BCI\\\\A-Our Motor Data\\\\Good Data\\\\sub-Sherif\\\\s-00\\\\sub-sherif_ses-S002_task-Right Grasp_run-003_eeg.xdf'"
            ]
          },
          "execution_count": 12,
          "metadata": {},
          "output_type": "execute_result"
        }
      ],
      "source": [
        "one_file = all_files[0]\n",
        "one_file"
      ]
    },
    {
      "cell_type": "code",
      "execution_count": 17,
      "metadata": {},
      "outputs": [
        {
          "name": "stdout",
          "output_type": "stream",
          "text": [
            "Right Grasp\n"
          ]
        }
      ],
      "source": [
        "filename = one_file.split('/')[-1]\n",
        "# Extract the task name part\n",
        "task_name = filename.split('_')[-3]\n",
        "# Replace the hyphen with a space to match the desired format\n",
        "task_name = task_name.split('-')[-1]\n",
        "\n",
        "print(task_name)"
      ]
    },
    {
      "cell_type": "code",
      "execution_count": 13,
      "metadata": {
        "id": "6RJZO_2ri6xS"
      },
      "outputs": [],
      "source": [
        "# read stream from xdf\n",
        "streams, header = pyxdf.load_xdf(one_file)\n",
        "# extract data\n",
        "data = streams[0][\"time_series\"].T\n",
        "# check that it is 9 channels\n",
        "# assert data.shape[0] == 9 # 9 raw EEG channels\n",
        "\n",
        "#get channels count\n",
        "ch_count = int(streams[0][\"info\"][\"channel_count\"][0])\n",
        "# extract channels names\n",
        "# ch_names = []\n",
        "# for i in range(ch_count):\n",
        "#   ch_names.append(streams[0][\"info\"][\"desc\"][0][\"channels\"][0][\"channel\"][i][\"label\"][0])\n",
        "# extract sampling ratw\n",
        "fs = float(streams[0][\"info\"][\"nominal_srate\"][0])\n",
        "# create info\n",
        "# info = mne.create_info(ch_names, fs, \"eeg\")"
      ]
    },
    {
      "cell_type": "code",
      "execution_count": 14,
      "metadata": {
        "id": "sdTPbcC7TZyI"
      },
      "outputs": [],
      "source": [
        "# extract channels names\n",
        "ch_names = []\n",
        "for i in range(ch_count):\n",
        "  ch_name = streams[0][\"info\"][\"desc\"][0][\"channels\"][0][\"channel\"][i][\"label\"][0]\n",
        "  # ch_name= ch_name.split(\"\\n\")[1]\n",
        "  ch_name= ch_name.split(\"\\n\")[0]\n",
        "  ch_names.append(ch_name)"
      ]
    },
    {
      "cell_type": "code",
      "execution_count": 15,
      "metadata": {
        "colab": {
          "base_uri": "https://localhost:8080/"
        },
        "id": "CFJ3pr7CTk8c",
        "outputId": "c463998b-69d8-4f73-d6b3-c775b00e822b"
      },
      "outputs": [
        {
          "data": {
            "text/plain": [
              "['C3', 'CZ', 'C4', 'FCZ', 'FC3', 'CP4', 'CPZ', 'CP3', 'FC4']"
            ]
          },
          "execution_count": 15,
          "metadata": {},
          "output_type": "execute_result"
        }
      ],
      "source": [
        "ch_names"
      ]
    },
    {
      "cell_type": "code",
      "execution_count": 18,
      "metadata": {
        "id": "6mwiszhwTY8_"
      },
      "outputs": [],
      "source": [
        "info = mne.create_info(ch_names, fs, \"eeg\")"
      ]
    },
    {
      "cell_type": "code",
      "execution_count": 20,
      "metadata": {
        "colab": {
          "base_uri": "https://localhost:8080/"
        },
        "id": "AdVQjkn0QbJJ",
        "outputId": "8e79dd24-e8d2-4c08-ca0d-e1a915896242"
      },
      "outputs": [],
      "source": [
        "event_id = {'Right Grasp': 1, 'Right Release': 2, 'Baseline': 3}"
      ]
    },
    {
      "cell_type": "code",
      "execution_count": 36,
      "metadata": {},
      "outputs": [
        {
          "name": "stdout",
          "output_type": "stream",
          "text": [
            "[1]\n"
          ]
        }
      ],
      "source": [
        "task_number = [event_id[task_name] ]\n",
        "print(task_number)"
      ]
    },
    {
      "cell_type": "code",
      "execution_count": 21,
      "metadata": {
        "id": "tJm_lBs_bHw6"
      },
      "outputs": [],
      "source": [
        "# crop parametes\n",
        "t_start = 2\n",
        "t_end = 3.5\n",
        "# t_end = 6\n",
        "\n",
        "idx_start = int(fs*t_start)\n",
        "idx_end = int(fs*t_end)"
      ]
    },
    {
      "cell_type": "code",
      "execution_count": 31,
      "metadata": {},
      "outputs": [
        {
          "name": "stdout",
          "output_type": "stream",
          "text": [
            "(9, 3525)\n",
            "E:\\BCI\\A-Our Motor Data\\Good Data\\sub-Sherif\\s-00\\sub-sherif_ses-S002_task-Right Grasp_run-003_eeg.xdf\n",
            "(9, 751)\n"
          ]
        }
      ],
      "source": [
        "# crop file\n",
        "streams, header = pyxdf.load_xdf(one_file)\n",
        "data = streams[0][\"time_series\"].T\n",
        "print(data.shape)\n",
        "cropped_file = data[:,idx_start:idx_end+1]\n",
        "print(one_file)\n",
        "print(cropped_file.shape)"
      ]
    },
    {
      "cell_type": "code",
      "execution_count": 32,
      "metadata": {},
      "outputs": [
        {
          "name": "stdout",
          "output_type": "stream",
          "text": [
            "(1, 9, 751)\n"
          ]
        },
        {
          "data": {
            "text/plain": [
              "array([[[-12.234518  , -12.334176  , -12.396158  , ...,   0.08418522,\n",
              "           0.24656044,   0.14209579],\n",
              "        [-13.204489  , -13.961244  , -14.867891  , ...,  -0.7805864 ,\n",
              "          -1.4006026 ,  -2.2010431 ],\n",
              "        [-11.828105  , -13.041146  , -14.36721   , ...,   5.2913985 ,\n",
              "           5.6788297 ,   5.7588573 ],\n",
              "        ...,\n",
              "        [-19.253828  , -20.00418   , -20.730011  , ...,   6.411288  ,\n",
              "           5.388779  ,   3.9650872 ],\n",
              "        [-15.983969  , -16.430798  , -16.661638  , ...,   5.0888996 ,\n",
              "           4.713101  ,   3.943438  ],\n",
              "        [ -8.81132   ,  -9.616292  , -10.705974  , ...,   0.14039935,\n",
              "           0.37618965,   0.5503985 ]]], dtype=float32)"
            ]
          },
          "execution_count": 32,
          "metadata": {},
          "output_type": "execute_result"
        }
      ],
      "source": [
        "# convert combined_array to size (1,9, 751)\n",
        "eeg_data = np.expand_dims(cropped_file, axis=0)\n",
        "print(eeg_data.shape)\n",
        "eeg_data"
      ]
    },
    {
      "cell_type": "code",
      "execution_count": 33,
      "metadata": {
        "id": "ZsEhotDscDls"
      },
      "outputs": [],
      "source": [
        "epochs = mne.EpochsArray(eeg_data, info, verbose=verbose, tmin=0)"
      ]
    },
    {
      "cell_type": "code",
      "execution_count": 37,
      "metadata": {
        "id": "_93FSvuIk5HI"
      },
      "outputs": [],
      "source": [
        "# epochs.set_montage('standard_1020')\n",
        "epochs.filter(1., None)\n",
        "# epochs.apply_baseline(baseline=(-.250, 0)) # linear baseline correction\n",
        "\n",
        "epochs.event_id = event_id\n",
        "epochs.events[:,2] = task_number"
      ]
    },
    {
      "cell_type": "code",
      "execution_count": 38,
      "metadata": {
        "colab": {
          "base_uri": "https://localhost:8080/",
          "height": 153
        },
        "id": "9sHtS94PcHuk",
        "outputId": "ff130d48-6472-4061-d765-6b19d77ab787"
      },
      "outputs": [
        {
          "data": {
            "text/html": [
              "<table class=\"table table-hover table-striped table-sm table-responsive small\">\n",
              "    <tr>\n",
              "        <th>Number of events</th>\n",
              "        <td>1</td>\n",
              "    </tr>\n",
              "    <tr>\n",
              "        <th>Events</th>\n",
              "        \n",
              "        <td>Baseline: 0<br/>Right Grasp: 1<br/>Right Release: 0</td>\n",
              "        \n",
              "    </tr>\n",
              "    <tr>\n",
              "        <th>Time range</th>\n",
              "        <td>0.000 – 1.500 s</td>\n",
              "    </tr>\n",
              "    <tr>\n",
              "        <th>Baseline</th>\n",
              "        <td>off</td>\n",
              "    </tr>\n",
              "</table>"
            ],
            "text/plain": [
              "<EpochsArray |  1 events (all good), 0 – 1.5 s, baseline off, ~65 kB, data loaded,\n",
              " 'Right Grasp': 1\n",
              " 'Right Release': 0\n",
              " 'Baseline': 0>"
            ]
          },
          "execution_count": 38,
          "metadata": {},
          "output_type": "execute_result"
        }
      ],
      "source": [
        "epochs"
      ]
    },
    {
      "cell_type": "code",
      "execution_count": 39,
      "metadata": {},
      "outputs": [
        {
          "data": {
            "text/html": [
              "<table class=\"table table-hover table-striped table-sm table-responsive small\">\n",
              "    <tr>\n",
              "        <th>Number of events</th>\n",
              "        <td>1</td>\n",
              "    </tr>\n",
              "    <tr>\n",
              "        <th>Events</th>\n",
              "        \n",
              "        <td>Baseline: 0<br/>Right Grasp: 1<br/>Right Release: 0</td>\n",
              "        \n",
              "    </tr>\n",
              "    <tr>\n",
              "        <th>Time range</th>\n",
              "        <td>0.000 – 1.500 s</td>\n",
              "    </tr>\n",
              "    <tr>\n",
              "        <th>Baseline</th>\n",
              "        <td>off</td>\n",
              "    </tr>\n",
              "</table>"
            ],
            "text/plain": [
              "<EpochsArray |  1 events (all good), 0 – 1.5 s, baseline off, ~65 kB, data loaded,\n",
              " 'Right Grasp': 1\n",
              " 'Right Release': 0\n",
              " 'Baseline': 0>"
            ]
          },
          "execution_count": 39,
          "metadata": {},
          "output_type": "execute_result"
        }
      ],
      "source": [
        "epochs.filter(7.0, 32.0)"
      ]
    },
    {
      "cell_type": "markdown",
      "metadata": {},
      "source": [
        "## Get Epochs Data"
      ]
    },
    {
      "cell_type": "code",
      "execution_count": 40,
      "metadata": {},
      "outputs": [],
      "source": [
        "data, labels = epochs.get_data(), epochs.events[:,-1]"
      ]
    },
    {
      "cell_type": "code",
      "execution_count": 41,
      "metadata": {},
      "outputs": [
        {
          "name": "stdout",
          "output_type": "stream",
          "text": [
            "(1, 9, 751)\n",
            "(1,)\n"
          ]
        },
        {
          "data": {
            "text/plain": [
              "array([1])"
            ]
          },
          "execution_count": 41,
          "metadata": {},
          "output_type": "execute_result"
        }
      ],
      "source": [
        "print(data.shape)\n",
        "print(labels.shape)\n",
        "labels"
      ]
    },
    {
      "cell_type": "markdown",
      "metadata": {},
      "source": [
        "## Trial Prediction Time"
      ]
    },
    {
      "cell_type": "markdown",
      "metadata": {},
      "source": [
        "## Load model"
      ]
    },
    {
      "cell_type": "code",
      "execution_count": 59,
      "metadata": {},
      "outputs": [],
      "source": [
        "import pickle\n",
        "\n",
        "# Load the FBCSP from the file\n",
        "with open('fbcsp_clf_sherif.pkl', 'rb') as file:\n",
        "    loaded_fbcsp_clf = pickle.load(file)"
      ]
    },
    {
      "cell_type": "code",
      "execution_count": 60,
      "metadata": {},
      "outputs": [],
      "source": [
        "# Load the trained model from the file\n",
        "with open('LDA_clf_sherif.pkl', 'rb') as file:\n",
        "    loaded_LDA_clf = pickle.load(file)"
      ]
    },
    {
      "cell_type": "markdown",
      "metadata": {},
      "source": [
        "## Trial Prediction with loaded models"
      ]
    },
    {
      "cell_type": "code",
      "execution_count": 64,
      "metadata": {},
      "outputs": [
        {
          "name": "stdout",
          "output_type": "stream",
          "text": [
            "(1, 8)\n"
          ]
        },
        {
          "data": {
            "text/plain": [
              "array([[-0.98284818, -0.24993581,  0.24228632, -0.21664909, -0.98323606,\n",
              "        -1.37446386, -0.09868319, -1.60380917]])"
            ]
          },
          "execution_count": 64,
          "metadata": {},
          "output_type": "execute_result"
        }
      ],
      "source": [
        "trial_features = loaded_fbcsp_clf.extractTrialFeatures(data)\n",
        "# print(trial_features.shape)\n",
        "trial_features"
      ]
    },
    {
      "cell_type": "code",
      "execution_count": 66,
      "metadata": {},
      "outputs": [
        {
          "data": {
            "text/plain": [
              "1.0"
            ]
          },
          "execution_count": 66,
          "metadata": {},
          "output_type": "execute_result"
        }
      ],
      "source": [
        "prediction = loaded_LDA_clf.predict(trial_features)\n",
        "prediction[0]"
      ]
    },
    {
      "cell_type": "code",
      "execution_count": null,
      "metadata": {},
      "outputs": [],
      "source": []
    }
  ],
  "metadata": {
    "colab": {
      "provenance": []
    },
    "kernelspec": {
      "display_name": "Python 3",
      "name": "python3"
    },
    "language_info": {
      "codemirror_mode": {
        "name": "ipython",
        "version": 3
      },
      "file_extension": ".py",
      "mimetype": "text/x-python",
      "name": "python",
      "nbconvert_exporter": "python",
      "pygments_lexer": "ipython3",
      "version": "3.11.2"
    }
  },
  "nbformat": 4,
  "nbformat_minor": 0
}
