{
  "cells": [
    {
      "cell_type": "markdown",
      "metadata": {
        "id": "xgdH4QWHulUz"
      },
      "source": [
        "# Importing packages"
      ]
    },
    {
      "cell_type": "code",
      "execution_count": null,
      "metadata": {
        "colab": {
          "base_uri": "https://localhost:8080/"
        },
        "id": "vA3H342ptnzP",
        "outputId": "e4895d03-693f-4fc6-b940-7d4de999c06f"
      },
      "outputs": [],
      "source": [
        "# !pip install mne"
      ]
    },
    {
      "cell_type": "code",
      "execution_count": null,
      "metadata": {
        "colab": {
          "base_uri": "https://localhost:8080/"
        },
        "id": "nI3ejojr869-",
        "outputId": "36a5cf4f-d238-44b6-dd83-c5ad3ad663d6"
      },
      "outputs": [],
      "source": [
        "# !pip install pyxdf"
      ]
    },
    {
      "cell_type": "code",
      "execution_count": null,
      "metadata": {
        "id": "xiCKgVOiuiZB"
      },
      "outputs": [],
      "source": [
        "import numpy as np # linear algebra\n",
        "import pandas as pd # data processing, CSV file I/O (e.g. pd.read_csv)\n",
        "import mne\n",
        "import pyxdf\n",
        "import glob\n",
        "import os\n",
        "import matplotlib.pyplot as plt\n",
        "from scipy.io import loadmat\n",
        "import scipy\n",
        "import sklearn\n",
        "# ------------------------------------------------------------------------------------------\n",
        "from sklearn.preprocessing import LabelEncoder,StandardScaler\n",
        "from sklearn.discriminant_analysis import LinearDiscriminantAnalysis as lda\n",
        "from sklearn.model_selection import ShuffleSplit, cross_val_score, train_test_split, GridSearchCV, StratifiedShuffleSplit\n",
        "from sklearn.pipeline import Pipeline, make_pipeline\n",
        "from sklearn.base import BaseEstimator, TransformerMixin\n",
        "from sklearn.linear_model import LogisticRegression\n",
        "from sklearn.neighbors import KNeighborsClassifier\n",
        "from sklearn.svm import LinearSVC, SVC\n",
        "\n",
        "# ------------------------------------------------------------------------------------------\n",
        "from mne.decoding import CSP\n",
        "from mne import Epochs, pick_types\n",
        "from mne.channels import make_standard_montage\n",
        "from mne.datasets import eegbci\n",
        "from mne.io import concatenate_raws, read_raw_edf"
      ]
    },
    {
      "cell_type": "code",
      "execution_count": null,
      "metadata": {},
      "outputs": [],
      "source": [
        "from sklearn.ensemble import RandomForestClassifier\n",
        "from sklearn.tree import DecisionTreeClassifier\n",
        "from sklearn.neural_network import MLPClassifier"
      ]
    },
    {
      "cell_type": "code",
      "execution_count": null,
      "metadata": {},
      "outputs": [],
      "source": [
        "from FBCSP_V4 import FBCSP_V4 as FBCSP "
      ]
    },
    {
      "cell_type": "code",
      "execution_count": null,
      "metadata": {
        "id": "vefLh0o2ukU2"
      },
      "outputs": [],
      "source": [
        "import warnings\n",
        "warnings.filterwarnings('ignore') # to ignore warnings"
      ]
    },
    {
      "cell_type": "code",
      "execution_count": null,
      "metadata": {
        "id": "AczJm-EVKkcq"
      },
      "outputs": [],
      "source": [
        "verbose = False                    # global variable to suppress output display of MNE functions\n",
        "mne.set_log_level(verbose=verbose) # to suppress large info outputs"
      ]
    },
    {
      "cell_type": "markdown",
      "metadata": {
        "id": "qYSAnVtxusG5"
      },
      "source": [
        "# Data Loading"
      ]
    },
    {
      "cell_type": "code",
      "execution_count": null,
      "metadata": {
        "colab": {
          "base_uri": "https://localhost:8080/"
        },
        "id": "xli8Ve2Mu4mP",
        "outputId": "e567daa0-dd21-4c3e-922d-b6624a45b28b"
      },
      "outputs": [],
      "source": [
        "# from google.colab import drive\n",
        "# drive.mount('/content/drive')"
      ]
    },
    {
      "cell_type": "code",
      "execution_count": null,
      "metadata": {
        "id": "YkE9AxdIPZx3",
        "tags": [
          "Paths"
        ]
      },
      "outputs": [],
      "source": [
        "# Anwar_data_path = \"E:\\BCI\\A-Our Motor Data\\Good Data\\sub-Anwar\\ses-S002\\eeg\"\n",
        "# Anwar_data_path = \"E:\\BCI\\A-Our Motor Data\\Good Data\\sub-Anwar\\ses-S002\\eeg\\Remaining Data\"\n",
        "# Anwar_data_path = \"E:\\BCI\\A-Our Motor Data\\Good Data\\sub-Anwar\\ses-S002\\s_2_all\"\n",
        "\n",
        "# Anwar_data_path = \"E:\\BCI\\A-Our Motor Data\\Good Data\\sub-Anwar\\s-00\\eeg\"\n",
        "# Anwar_data_path = \"E:\\BCI\\A-Our Motor Data\\Good Data\\sub-Anwar\\ses-S003\\s3_00\"\n",
        "Anwar_data_path = \"E:\\BCI\\A-Our Motor Data\\Good Data\\sub-Anwar\\s-00\"\n",
        "# sherif_data_path = \"E:\\BCI\\A-Our Motor Data\\Good Data\\sub-Sherif\\s-00\"\n",
        "# sherif_data_path = \"E:\\BCI\\A-Our Motor Data\\Good Data\\sub-Sherif\\ses-S002\\eeg\"\n",
        "# sherif_data_path = \"E:\\BCI\\A-Our Motor Data\\Good Data\\sub-Sherif\\ses-S003\\eeg\"\n",
        "# magdy_data_path = \"E:\\BCI\\A-Our Motor Data\\magdy\\sub-magdy\\ses-S001\\eeg\"\n",
        "\n",
        "folder_path = Anwar_data_path\n",
        "files   = glob.glob(folder_path + '/*eeg.xdf')\n",
        "# files   = glob.glob(folder_path)\n",
        "len(files)     # if  return zero,then no file is loaded"
      ]
    },
    {
      "cell_type": "code",
      "execution_count": null,
      "metadata": {
        "colab": {
          "base_uri": "https://localhost:8080/"
        },
        "id": "ciCkti80tTje",
        "outputId": "d20d011c-618d-472d-c0f2-0ebeae13a918"
      },
      "outputs": [],
      "source": [
        "files"
      ]
    },
    {
      "cell_type": "code",
      "execution_count": null,
      "metadata": {},
      "outputs": [],
      "source": [
        "# Filter the paths\n",
        "filtered_paths = [path for path in files if ('Right Grasp' in path or 'Right Release' in path) and \n",
        "                                            ('B_Right Grasp' not in path and 'B_Right Release' not in path)]\n",
        "\n",
        "# filtered_paths = [path for path in files if ('Right Grasp' in path or 'Right Release' in path or 'Baseline' in path) and \n",
        "#                                             ('B_Right Grasp' not in path and 'B_Right Release' not in path and 'B_Baseline' not in path)]\n",
        "\n",
        "# Print the number of filtered paths and the paths themselves\n",
        "print(f'Number of filtered paths: {len(filtered_paths)}')\n",
        "filtered_paths"
      ]
    },
    {
      "cell_type": "code",
      "execution_count": null,
      "metadata": {
        "id": "HLmo38MMoZh0"
      },
      "outputs": [],
      "source": [
        "all_files = filtered_paths\n",
        "len(all_files)"
      ]
    },
    {
      "cell_type": "markdown",
      "metadata": {
        "id": "Bpe1FMFI9HBC"
      },
      "source": [
        "# from XDF to MNE"
      ]
    },
    {
      "cell_type": "code",
      "execution_count": null,
      "metadata": {
        "id": "6RJZO_2ri6xS"
      },
      "outputs": [],
      "source": [
        "# read stream from xdf\n",
        "streams, header = pyxdf.load_xdf(all_files[0])\n",
        "# extract data\n",
        "data = streams[0][\"time_series\"].T\n",
        "# check that it is 9 channels\n",
        "# assert data.shape[0] == 9 # 9 raw EEG channels\n",
        "\n",
        "#get channels count\n",
        "ch_count = int(streams[0][\"info\"][\"channel_count\"][0])\n",
        "# extract channels names\n",
        "# ch_names = []\n",
        "# for i in range(ch_count):\n",
        "#   ch_names.append(streams[0][\"info\"][\"desc\"][0][\"channels\"][0][\"channel\"][i][\"label\"][0])\n",
        "# extract sampling ratw\n",
        "fs = float(streams[0][\"info\"][\"nominal_srate\"][0])\n",
        "# create info\n",
        "# info = mne.create_info(ch_names, fs, \"eeg\")"
      ]
    },
    {
      "cell_type": "code",
      "execution_count": null,
      "metadata": {
        "id": "sdTPbcC7TZyI"
      },
      "outputs": [],
      "source": [
        "# extract channels names\n",
        "ch_names = []\n",
        "for i in range(ch_count):\n",
        "  ch_name = streams[0][\"info\"][\"desc\"][0][\"channels\"][0][\"channel\"][i][\"label\"][0]\n",
        "  # ch_name= ch_name.split(\"\\n\")[1]\n",
        "  ch_name= ch_name.split(\"\\n\")[0]\n",
        "  ch_names.append(ch_name)"
      ]
    },
    {
      "cell_type": "code",
      "execution_count": null,
      "metadata": {
        "colab": {
          "base_uri": "https://localhost:8080/"
        },
        "id": "CFJ3pr7CTk8c",
        "outputId": "c463998b-69d8-4f73-d6b3-c775b00e822b"
      },
      "outputs": [],
      "source": [
        "ch_names"
      ]
    },
    {
      "cell_type": "code",
      "execution_count": null,
      "metadata": {
        "id": "OhIId1JmkkJm"
      },
      "outputs": [],
      "source": [
        "# cleaned_channel_names = [name.replace('[', '').replace(']', '') for name in ch_names]\n",
        "# cleaned_channel_names"
      ]
    },
    {
      "cell_type": "code",
      "execution_count": null,
      "metadata": {
        "id": "GYvfn-gZl9bg"
      },
      "outputs": [],
      "source": [
        "crack_channel_names = ['C3', 'Cz', 'C4', 'Fz', 'F3', 'P4', 'Pz', 'P3', 'F4']"
      ]
    },
    {
      "cell_type": "code",
      "execution_count": null,
      "metadata": {
        "id": "6mwiszhwTY8_"
      },
      "outputs": [],
      "source": [
        "# info = mne.create_info(crack_channel_names, fs, \"eeg\")\n",
        "info = mne.create_info(ch_names, fs, \"eeg\")"
      ]
    },
    {
      "cell_type": "code",
      "execution_count": null,
      "metadata": {
        "id": "xY_sgMNIkkQu"
      },
      "outputs": [],
      "source": [
        "def extract_tasks_names(files):\n",
        "  task_names = []\n",
        "  for path in files:\n",
        "      # Split the path to isolate the filename\n",
        "      filename = path.split('/')[-1]\n",
        "      # Extract the task name part\n",
        "      task_name = filename.split('_')[-3]\n",
        "      # Replace the hyphen with a space to match the desired format\n",
        "      task_name = task_name.split('-')[-1]\n",
        "      # Append the task name to the list\n",
        "      task_names.append(task_name)\n",
        "  return task_names"
      ]
    },
    {
      "cell_type": "code",
      "execution_count": null,
      "metadata": {},
      "outputs": [],
      "source": [
        "task_names = extract_tasks_names(all_files)\n",
        "\n",
        "task_names"
      ]
    },
    {
      "cell_type": "code",
      "execution_count": null,
      "metadata": {},
      "outputs": [],
      "source": [
        "set(task_names)"
      ]
    },
    {
      "cell_type": "code",
      "execution_count": null,
      "metadata": {
        "colab": {
          "base_uri": "https://localhost:8080/"
        },
        "id": "AdVQjkn0QbJJ",
        "outputId": "8e79dd24-e8d2-4c08-ca0d-e1a915896242"
      },
      "outputs": [],
      "source": [
        "# event_id = {'Left_Grasp': 1, 'Right_Grasp': 2, 'Right_Release': 3, 'Baseline': 4}\n",
        "event_id = {'Right Grasp': 1, 'Right Release': 2, 'Baseline': 3}\n",
        "# Convert the list of task names to the list of numbers\n",
        "task_numbers = [event_id[task] for task in task_names]\n",
        "print(task_numbers)"
      ]
    },
    {
      "cell_type": "code",
      "execution_count": null,
      "metadata": {
        "colab": {
          "base_uri": "https://localhost:8080/"
        },
        "id": "jO3bhObAwVnD",
        "outputId": "2e70218d-2635-4d77-86cf-5944590da8f6"
      },
      "outputs": [],
      "source": [
        "print(len(task_names))\n",
        "# task_names"
      ]
    },
    {
      "cell_type": "code",
      "execution_count": null,
      "metadata": {
        "id": "tJm_lBs_bHw6"
      },
      "outputs": [],
      "source": [
        "# crop parametes\n",
        "t_start = 1\n",
        "t_end = 5\n",
        "# t_end = 6\n",
        "\n",
        "idx_start = int(fs*t_start)\n",
        "idx_end = int(fs*t_end)"
      ]
    },
    {
      "cell_type": "code",
      "execution_count": null,
      "metadata": {
        "id": "MDwqcps_U1fd"
      },
      "outputs": [],
      "source": [
        "all_data=[]\n",
        "for fname in all_files:\n",
        "  streams, header = pyxdf.load_xdf(fname)\n",
        "  data = streams[0][\"time_series\"].T\n",
        "  # crop data from second 1 to 6\n",
        "  cropped_data = data[:,idx_start:idx_end+1]\n",
        "  print(fname)\n",
        "  all_data.append(cropped_data)"
      ]
    },
    {
      "cell_type": "code",
      "execution_count": null,
      "metadata": {
        "colab": {
          "base_uri": "https://localhost:8080/"
        },
        "id": "cYSG9z9Jx121",
        "outputId": "2452cc98-2401-40af-8ed5-99456a4f6efd"
      },
      "outputs": [],
      "source": [
        "len(all_data)\n",
        "for data in all_data:\n",
        "  print(data.shape)\n"
      ]
    },
    {
      "cell_type": "code",
      "execution_count": null,
      "metadata": {
        "colab": {
          "base_uri": "https://localhost:8080/"
        },
        "id": "zpFDxQBkaiBF",
        "outputId": "3d9781fa-829f-4c68-c59b-d939ed2c399a"
      },
      "outputs": [],
      "source": [
        "# Combine into a 3D array\n",
        "combined_array = np.stack(all_data, axis=0)\n",
        "print(combined_array.shape)"
      ]
    },
    {
      "cell_type": "code",
      "execution_count": null,
      "metadata": {
        "id": "0PkGuYF_Zqy4"
      },
      "outputs": [],
      "source": [
        "eeg_data = combined_array"
      ]
    },
    {
      "cell_type": "code",
      "execution_count": null,
      "metadata": {
        "id": "ZsEhotDscDls"
      },
      "outputs": [],
      "source": [
        "epochs = mne.EpochsArray(eeg_data, info, verbose=verbose, tmin=0)"
      ]
    },
    {
      "cell_type": "code",
      "execution_count": null,
      "metadata": {
        "id": "_93FSvuIk5HI"
      },
      "outputs": [],
      "source": [
        "# epochs.set_montage('standard_1020')\n",
        "epochs.filter(1., None)\n",
        "# epochs.apply_baseline(baseline=(-.250, 0)) # linear baseline correction\n",
        "\n",
        "epochs.event_id = event_id\n",
        "epochs.events[:,2] = task_numbers"
      ]
    },
    {
      "cell_type": "code",
      "execution_count": null,
      "metadata": {
        "colab": {
          "base_uri": "https://localhost:8080/",
          "height": 153
        },
        "id": "9sHtS94PcHuk",
        "outputId": "ff130d48-6472-4061-d765-6b19d77ab787"
      },
      "outputs": [],
      "source": [
        "epochs"
      ]
    },
    {
      "cell_type": "markdown",
      "metadata": {},
      "source": [
        "## Apply FBCSP"
      ]
    },
    {
      "cell_type": "code",
      "execution_count": null,
      "metadata": {},
      "outputs": [],
      "source": [
        "verbose_clf = False # control output of FBCSP function\n",
        "freqs_band = np.linspace(8, 32, 7) # filter bank choice\n",
        "cv = 10\n",
        "train_ratio = 0.75 # 75:25 for trian-valid split"
      ]
    },
    {
      "cell_type": "code",
      "execution_count": null,
      "metadata": {},
      "outputs": [],
      "source": [
        "freqs_band"
      ]
    },
    {
      "cell_type": "code",
      "execution_count": null,
      "metadata": {},
      "outputs": [],
      "source": [
        "epochs_list_train = epochs"
      ]
    },
    {
      "cell_type": "code",
      "execution_count": null,
      "metadata": {},
      "outputs": [],
      "source": [
        "epochs.filter(7.0, 32.0)"
      ]
    },
    {
      "cell_type": "markdown",
      "metadata": {},
      "source": [
        "## FBCSP \n",
        "The class must receive in input with the initialization a training set inside a dictionary. The keys of the dictionary must be the label of the two class and each element must be a numpy matrix of dimension \"n. trials x n. channels x n.samples\". The class must also receive the frequency sampling of the signal.\n",
        "\n",
        "FBCSP function original has a built-in random splitting so I didn't do a manual splitting here"
      ]
    },
    {
      "cell_type": "code",
      "execution_count": null,
      "metadata": {},
      "outputs": [],
      "source": [
        "data, labels = epochs.get_data(), epochs.events[:,-1]"
      ]
    },
    {
      "cell_type": "code",
      "execution_count": null,
      "metadata": {},
      "outputs": [],
      "source": [
        "print(data.shape)\n",
        "print(labels.shape)\n",
        "labels"
      ]
    },
    {
      "cell_type": "code",
      "execution_count": null,
      "metadata": {},
      "outputs": [],
      "source": [
        "data_dict = {'Right Grasp':  epochs['Right Grasp'].get_data(), \n",
        "            'Right Release': epochs['Right Release'].get_data()}\n"
      ]
    },
    {
      "cell_type": "code",
      "execution_count": null,
      "metadata": {},
      "outputs": [],
      "source": [
        "epochs['Right Grasp'][0].get_data().shape"
      ]
    },
    {
      "cell_type": "code",
      "execution_count": null,
      "metadata": {},
      "outputs": [],
      "source": [
        "epochs.get_data()[0].shape"
      ]
    },
    {
      "cell_type": "code",
      "execution_count": null,
      "metadata": {},
      "outputs": [],
      "source": [
        "print(data_dict[\"Right Grasp\"].shape)"
      ]
    },
    {
      "cell_type": "code",
      "execution_count": null,
      "metadata": {},
      "outputs": [],
      "source": [
        "data_dict[\"Right Grasp\"][0].shape"
      ]
    },
    {
      "cell_type": "code",
      "execution_count": null,
      "metadata": {},
      "outputs": [],
      "source": [
        "fs = epochs.info['sfreq']\n",
        "fs"
      ]
    },
    {
      "cell_type": "code",
      "execution_count": null,
      "metadata": {},
      "outputs": [],
      "source": [
        "event_id = {'Right Grasp': 1, 'Right Release': 2, 'Baseline': 3}\n"
      ]
    },
    {
      "cell_type": "code",
      "execution_count": null,
      "metadata": {},
      "outputs": [],
      "source": [
        "fbcsp_clf = FBCSP(data_dict, fs, freqs_band=freqs_band, classifier=lda(), train_ratio=train_ratio)"
      ]
    },
    {
      "cell_type": "code",
      "execution_count": null,
      "metadata": {},
      "outputs": [],
      "source": [
        "data_matrix = fbcsp_clf.tmp_data_matrix\n",
        "labels = fbcsp_clf.tmp_label\n",
        "labels_dict = fbcsp_clf.tmp_label_dict\n",
        "labels_dict = fbcsp_clf.n_features_for_classification"
      ]
    },
    {
      "cell_type": "code",
      "execution_count": null,
      "metadata": {},
      "outputs": [],
      "source": [
        "labels"
      ]
    },
    {
      "cell_type": "code",
      "execution_count": null,
      "metadata": {},
      "outputs": [],
      "source": [
        "X = data_matrix\n",
        "y = labels"
      ]
    },
    {
      "cell_type": "code",
      "execution_count": null,
      "metadata": {},
      "outputs": [],
      "source": [
        "print(data_matrix.shape)"
      ]
    },
    {
      "cell_type": "markdown",
      "metadata": {},
      "source": [
        "## Normal Train Test Split"
      ]
    },
    {
      "cell_type": "code",
      "execution_count": null,
      "metadata": {},
      "outputs": [],
      "source": [
        "X_train, X_test, y_train, y_test = train_test_split(X, y, shuffle=True, stratify=labels,test_size=0.4, random_state=42)"
      ]
    },
    {
      "cell_type": "code",
      "execution_count": null,
      "metadata": {},
      "outputs": [],
      "source": [
        "print(X_train.shape)\n",
        "print(X_test.shape)"
      ]
    },
    {
      "cell_type": "code",
      "execution_count": null,
      "metadata": {},
      "outputs": [],
      "source": [
        "print(y_train.shape)\n",
        "print(y_train)\n",
        "print(y_test.shape)\n",
        "print(y_test)"
      ]
    },
    {
      "cell_type": "code",
      "execution_count": null,
      "metadata": {},
      "outputs": [],
      "source": [
        "print(type(X_train))\n",
        "print(type(y_train))"
      ]
    },
    {
      "cell_type": "code",
      "execution_count": null,
      "metadata": {},
      "outputs": [],
      "source": [
        "from sklearn.discriminant_analysis import LinearDiscriminantAnalysis as LDA\n",
        "from sklearn.metrics import accuracy_score\n",
        "\n",
        "lda_classifier = LDA()\n",
        "lda_classifier.fit(X_train, y_train)"
      ]
    },
    {
      "cell_type": "code",
      "execution_count": null,
      "metadata": {},
      "outputs": [],
      "source": [
        "# Step 7: Evaluate the Model\n",
        "y_pred = lda_classifier.predict(X_test)\n",
        "accuracy = accuracy_score(y_test, y_pred)\n",
        "print(f'Accuracy: {accuracy * 100:.2f}%')"
      ]
    },
    {
      "cell_type": "code",
      "execution_count": null,
      "metadata": {},
      "outputs": [],
      "source": [
        "kappa_scorer = sklearn.metrics.make_scorer(sklearn.metrics.cohen_kappa_score) \n",
        "accuracy_scorer = sklearn.metrics.make_scorer(sklearn.metrics.accuracy_score)"
      ]
    },
    {
      "cell_type": "code",
      "execution_count": null,
      "metadata": {},
      "outputs": [],
      "source": [
        "# Accuracy Score\n",
        "train_score = accuracy_scorer(lda_classifier, X_train, y_train)\n",
        "test_score = accuracy_scorer(lda_classifier, X_test, y_test)\n",
        "print(\"Accuracy Score on Training set: \", train_score)\n",
        "print(\"Accuracy Score on Test set: \", test_score)"
      ]
    },
    {
      "cell_type": "code",
      "execution_count": null,
      "metadata": {},
      "outputs": [],
      "source": [
        "# Kappa Score\n",
        "train_score = kappa_scorer(lda_classifier, X_train, y_train)\n",
        "test_score = kappa_scorer(lda_classifier, X_test, y_test)\n",
        "print(\"Kappa Score on Training set: \", train_score)\n",
        "print(\"Kappa Score on Test set: \", test_score)\n",
        "        "
      ]
    },
    {
      "cell_type": "markdown",
      "metadata": {},
      "source": [
        "### All Models"
      ]
    },
    {
      "cell_type": "code",
      "execution_count": null,
      "metadata": {},
      "outputs": [],
      "source": [
        "from sklearn.model_selection import train_test_split\n",
        "from sklearn.svm import SVC, LinearSVC\n",
        "from sklearn.ensemble import RandomForestClassifier, ExtraTreesClassifier\n",
        "from sklearn.neighbors import KNeighborsClassifier\n",
        "from sklearn.linear_model import LogisticRegression\n",
        "from sklearn.discriminant_analysis import LinearDiscriminantAnalysis\n",
        "from sklearn.naive_bayes import GaussianNB\n",
        "from xgboost import XGBClassifier\n",
        "from sklearn.tree import DecisionTreeClassifier\n",
        "from sklearn.neural_network import MLPClassifier\n",
        "from sklearn.metrics import accuracy_score"
      ]
    },
    {
      "cell_type": "code",
      "execution_count": null,
      "metadata": {},
      "outputs": [],
      "source": [
        "# Dictionary to hold models and their names\n",
        "models = {\n",
        "    'SVM': SVC(kernel='rbf', C=1, gamma='scale'),\n",
        "    'Linear SVC': LinearSVC(max_iter=10000, random_state=42),\n",
        "    'Random Forest': RandomForestClassifier(n_estimators=100, random_state=42),\n",
        "    'k-NN': KNeighborsClassifier(n_neighbors=5),\n",
        "    'Logistic Regression': LogisticRegression(solver='lbfgs', max_iter=1000),\n",
        "    'LDA': LinearDiscriminantAnalysis(),\n",
        "    'Naive Bayes': GaussianNB(),\n",
        "    'Extra Trees': ExtraTreesClassifier(n_estimators=100, random_state=42),\n",
        "    'Decision Tree': DecisionTreeClassifier(random_state=42),\n",
        "    'MLP Classifier': MLPClassifier(hidden_layer_sizes=(100,), max_iter=300, random_state=42),\n",
        "}"
      ]
    },
    {
      "cell_type": "code",
      "execution_count": null,
      "metadata": {},
      "outputs": [],
      "source": [
        "X_train, X_test, y_train, y_test = train_test_split(X, y, shuffle=True, stratify=labels,test_size=0.3, random_state=42)\n",
        "print(\"Train Shape: \", X_train.shape)\n",
        "print(\"Test Shape: \", X_test.shape)"
      ]
    },
    {
      "cell_type": "code",
      "execution_count": null,
      "metadata": {},
      "outputs": [],
      "source": [
        "# Dictionary to store the trained models and their accuracies\n",
        "# trained_models = {}\n",
        "# model_accuracies = {}\n",
        "\n",
        "# # Train and evaluate each model\n",
        "# for name, model in models.items():\n",
        "#     model.fit(X_train, y_train)  # Train the model\n",
        "#     y_pred = model.predict(X_test)  # Predict on test data\n",
        "#     accuracy = accuracy_score(y_test, y_pred)  # Calculate accuracy\n",
        "#     print(f'{name} Accuracy: {accuracy * 100:.2f}%')\n",
        "    \n",
        "#     # Save the trained model to the dictionary\n",
        "#     trained_models[name] = model\n",
        "#     # Save the accuracy to the dictionary\n",
        "#     model_accuracies[name] = accuracy * 100\n"
      ]
    },
    {
      "cell_type": "code",
      "execution_count": null,
      "metadata": {},
      "outputs": [],
      "source": [
        "# Transform the labels to start from 0\n",
        "label_encoder = LabelEncoder()\n",
        "y_transformed = label_encoder.fit_transform(y)\n",
        "# Split the data into training and testing sets\n",
        "X_train_encoded, X_test_encoded, y_train_encoded, y_test_encoded = train_test_split(X, y_transformed, shuffle=True, stratify=labels,test_size=0.3, random_state=42)\n",
        "# Initialize the XGBoost classifier\n",
        "xgb_model = XGBClassifier(\n",
        "    n_estimators=100,         # Number of trees in the ensemble\n",
        "    learning_rate=0.1,        # Step size shrinkage used to prevent overfitting\n",
        "    max_depth=3,              # Maximum depth of a tree\n",
        "    use_label_encoder=False,  # Disable label encoder to avoid deprecation warning\n",
        "    eval_metric='logloss',    # Evaluation metric\n",
        "    random_state=42           # Seed for reproducibility\n",
        ")\n",
        "# Train the XGBoost model\n",
        "xgb_model.fit(X_train_encoded, y_train_encoded)\n",
        "# Predict on the test set\n",
        "y_pred_transformed = xgb_model.predict(X_test_encoded)\n",
        "# Transform predictions back to original labels\n",
        "y_pred = label_encoder.inverse_transform(y_pred_transformed)\n",
        "# Calculate accuracy\n",
        "accuracy = accuracy_score(label_encoder.inverse_transform(y_test_encoded), y_pred)\n",
        "# Print the accuracy\n",
        "print(f'XGBoost Accuracy: {accuracy * 100:.2f}%')\n",
        "# model_accuracies[\"XGBoost\"] = accuracy * 100\n"
      ]
    },
    {
      "cell_type": "code",
      "execution_count": null,
      "metadata": {},
      "outputs": [],
      "source": [
        "# # Find the model with the highest accuracy\n",
        "# best_model_name = max(model_accuracies, key=model_accuracies.get)\n",
        "# max_accuracy = model_accuracies[best_model_name]\n",
        "\n",
        "# # Print the model name and its maximum accuracy\n",
        "# print(f'Best Model: {best_model_name} with Accuracy: {max_accuracy:.2f}%')"
      ]
    },
    {
      "cell_type": "markdown",
      "metadata": {},
      "source": [
        "## StratifiedKFold Cross Validation"
      ]
    },
    {
      "cell_type": "code",
      "execution_count": null,
      "metadata": {},
      "outputs": [],
      "source": [
        "from sklearn.discriminant_analysis import LinearDiscriminantAnalysis as LDA\n",
        "from sklearn.model_selection import cross_val_score, StratifiedKFold\n",
        "from sklearn.metrics import accuracy_score\n",
        "import numpy as np"
      ]
    },
    {
      "cell_type": "code",
      "execution_count": null,
      "metadata": {},
      "outputs": [],
      "source": [
        "X = data_matrix\n",
        "y = labels"
      ]
    },
    {
      "cell_type": "code",
      "execution_count": null,
      "metadata": {},
      "outputs": [],
      "source": [
        "print(X.shape)"
      ]
    },
    {
      "cell_type": "code",
      "execution_count": null,
      "metadata": {},
      "outputs": [],
      "source": [
        "X_train, X_test, y_train, y_test = train_test_split(X, y, shuffle=True, stratify=labels,test_size=0.3, random_state=42)\n",
        "print(\"Train Shape: \", X_train.shape)\n",
        "print(\"Test Shape: \", X_test.shape)"
      ]
    },
    {
      "cell_type": "code",
      "execution_count": null,
      "metadata": {},
      "outputs": [],
      "source": [
        "# # Define the LDA classifier\n",
        "# cv_lda_classifier = LDA()\n",
        "\n",
        "# # Use StratifiedKFold to maintain class distribution in each fold\n",
        "# kf = StratifiedKFold(n_splits=5, shuffle=True, random_state=43)\n",
        "\n",
        "# # Perform cross-validation and compute accuracy for each fold\n",
        "# cv_scores = cross_val_score(cv_lda_classifier, X, y, cv=kf, scoring='accuracy')\n",
        "# # Print cross-validation scores\n",
        "# print(f'Cross-validation scores for each fold: {cv_scores}')\n",
        "# print(f'Average cross-validation accuracy: {cv_scores.mean():.2f} ± {cv_scores.std():.2f}')"
      ]
    },
    {
      "cell_type": "code",
      "execution_count": null,
      "metadata": {},
      "outputs": [],
      "source": [
        "# Dictionary to store the trained models and their accuracies\n",
        "trained_models = {}\n",
        "model_accuracies = {}\n",
        "cv_results = {}\n",
        "kappa_results = {}\n",
        "\n",
        "# Variable to track the best cross-validation score and corresponding model name\n",
        "best_cv_score = 0\n",
        "best_cv_model_name = \"\"\n",
        "\n",
        "# Train and evaluate each model\n",
        "for name, model in models.items():\n",
        "    model.fit(X_train, y_train)  # Train the model\n",
        "    y_pred = model.predict(X_test)  # Predict on test data\n",
        "    accuracy = accuracy_score(y_test, y_pred)  # Calculate accuracy\n",
        "    print(f'{name} Accuracy: {accuracy * 100:.2f}%')\n",
        "\n",
        "    # Kappa Score\n",
        "    kappa_score = kappa_scorer(lda_classifier, X_test, y_test)\n",
        "    print(\"Kappa Score on Test set: \", test_score)\n",
        "    \n",
        "    # Save the trained model to the dictionary\n",
        "    trained_models[name] = model\n",
        "    # Save the accuracy to the dictionary\n",
        "    # model_accuracies[name] = accuracy * 100\n",
        "    model_accuracies[name] = accuracy \n",
        "    # kappa_results[name] = kappa_score * 100\n",
        "    kappa_results[name] = kappa_score \n",
        "    \n",
        "    # Perform Stratified K-Fold cross-validation\n",
        "    kf = StratifiedKFold(n_splits=5, shuffle=True, random_state=43)\n",
        "    cv_scores = cross_val_score(model, X, y, cv=kf, scoring='accuracy')\n",
        "    cv_results[name] = cv_scores\n",
        "\n",
        "    # Check if this model has the best cross-validation score\n",
        "    if cv_scores.mean() > best_cv_score:\n",
        "        best_cv_score = cv_scores.mean()\n",
        "        best_cv_model_name = name\n",
        "\n",
        "    # Print cross-validation results\n",
        "    print(f'Cross-validation scores for {name}: {cv_scores}')\n",
        "    print(f'Average cross-validation accuracy for {name}: {cv_scores.mean():.2f} ± {cv_scores.std():.2f}')\n",
        "\n",
        "    print(\"--\"*50)"
      ]
    },
    {
      "cell_type": "code",
      "execution_count": null,
      "metadata": {},
      "outputs": [],
      "source": [
        "# Print the model with the highest average cross-validation score\n",
        "print(f'Best Model based on cross-validation: {best_cv_model_name} with Average CV Accuracy: {best_cv_score:.2f}')"
      ]
    },
    {
      "cell_type": "code",
      "execution_count": null,
      "metadata": {},
      "outputs": [],
      "source": [
        "# Find the model with the highest test set accuracy\n",
        "best_model_name = max(model_accuracies, key=model_accuracies.get)\n",
        "max_accuracy = model_accuracies[best_model_name]\n",
        "print(f'Best Model based on test accuracy: {best_model_name} with Accuracy: {max_accuracy:.2f}%')"
      ]
    },
    {
      "cell_type": "code",
      "execution_count": null,
      "metadata": {},
      "outputs": [],
      "source": [
        "# Find the model with the highest test set accuracy\n",
        "best_kappa_model_name = max(kappa_results, key=kappa_results.get)\n",
        "max_kappa = kappa_results[best_kappa_model_name]\n",
        "print(f'Best Model based on test Kappa : {best_kappa_model_name} with Kappa: {max_kappa:.2f}%')"
      ]
    },
    {
      "cell_type": "code",
      "execution_count": null,
      "metadata": {},
      "outputs": [],
      "source": [
        "# # Optionally, you can save the best model for later use\n",
        "# best_model = trained_models[best_model_name]\n",
        "# joblib.dump(best_model, f'{best_model_name}_model.joblib')\n",
        "\n",
        "# To load and use the best model later\n",
        "# loaded_best_model = joblib.load(f'{best_model_name}_model.joblib')\n",
        "# predictions_transformed = loaded_best_model.predict(new_data)  # Replace 'new_data' with your actual data\n",
        "# predictions = label_encoder.inverse_transform(predictions_transformed)"
      ]
    },
    {
      "cell_type": "code",
      "execution_count": null,
      "metadata": {},
      "outputs": [],
      "source": []
    },
    {
      "cell_type": "code",
      "execution_count": null,
      "metadata": {},
      "outputs": [],
      "source": []
    },
    {
      "cell_type": "markdown",
      "metadata": {},
      "source": [
        "## Other Cross Validation"
      ]
    },
    {
      "cell_type": "code",
      "execution_count": null,
      "metadata": {},
      "outputs": [],
      "source": [
        "# #KFold\n",
        "# from sklearn.model_selection import KFold, cross_val_score\n",
        "# cv = KFold(n_splits=5, shuffle=True)\n",
        "# # cv_split = cv.split(X)\n",
        "# cv_scores = cross_val_score(cv_lda_classifier, X,y, cv=cv, n_jobs=None)\n",
        "# # Print cross-validation scores\n",
        "# print(f'Cross-validation scores for each fold: {cv_scores}')\n",
        "# print(f'Average cross-validation accuracy: {cv_scores.mean():.2f} ± {cv_scores.std():.2f}')"
      ]
    },
    {
      "cell_type": "code",
      "execution_count": null,
      "metadata": {},
      "outputs": [],
      "source": [
        "# #ShuffleSplit\n",
        "# cv = ShuffleSplit(5, test_size=0.2, random_state=42)\n",
        "# # cv_split = cv.split(X)\n",
        "# cv_scores = cross_val_score(cv_lda_classifier, X,y, cv=cv, n_jobs=None)\n",
        "# # Print cross-validation scores\n",
        "# print(f'Cross-validation scores for each fold: {cv_scores}')\n",
        "# print(f'Average cross-validation accuracy: {cv_scores.mean():.2f} ± {cv_scores.std():.2f}')"
      ]
    },
    {
      "cell_type": "code",
      "execution_count": null,
      "metadata": {},
      "outputs": [],
      "source": []
    }
  ],
  "metadata": {
    "colab": {
      "provenance": []
    },
    "kernelspec": {
      "display_name": "Python 3",
      "name": "python3"
    },
    "language_info": {
      "codemirror_mode": {
        "name": "ipython",
        "version": 3
      },
      "file_extension": ".py",
      "mimetype": "text/x-python",
      "name": "python",
      "nbconvert_exporter": "python",
      "pygments_lexer": "ipython3",
      "version": "3.11.2"
    }
  },
  "nbformat": 4,
  "nbformat_minor": 0
}
