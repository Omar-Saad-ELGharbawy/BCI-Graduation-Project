{
 "cells": [
  {
   "cell_type": "code",
   "execution_count": 1,
   "metadata": {},
   "outputs": [
    {
     "name": "stdout",
     "output_type": "stream",
     "text": [
      "Shape of the combined EEG data: (9, 40020)\n"
     ]
    }
   ],
   "source": [
    "import numpy as np\n",
    "\n",
    "# Load the combined EEG data from the .npy file\n",
    "combined_data = np.load(\"combined_sherif_grasp.npy\")\n",
    "combined_data = np.load(\"combined_sherif_release.npy\")\n",
    "combined_data = np.load(\"combined_magdy_Release.npy\")\n",
    "\n",
    "# Print the shape of the loaded data to verify\n",
    "print(\"Shape of the combined EEG data:\", combined_data.shape)\n",
    "\n",
    "# Optionally, print a portion of the data to inspect\n",
    "# print(\"First few rows of the combined data:\\n\", combined_data[:5, :])"
   ]
  },
  {
   "cell_type": "code",
   "execution_count": 2,
   "metadata": {},
   "outputs": [],
   "source": [
    "import numpy as np\n",
    "import time\n",
    "from pylsl import StreamInfo, StreamOutlet\n",
    "\n",
    "transposed_eeg_buffer = combined_data.T\n",
    "\n",
    "# Create a StreamInfo object\n",
    "stream_name = 'EEGStream'\n",
    "num_channels = 9\n",
    "sample_rate = 500\n",
    "info = StreamInfo(stream_name, 'EEG', num_channels, sample_rate, 'float32', 'myuid34234')\n",
    "\n",
    "# Create a StreamOutlet object\n",
    "outlet = StreamOutlet(info)\n"
   ]
  },
  {
   "cell_type": "code",
   "execution_count": 3,
   "metadata": {},
   "outputs": [],
   "source": [
    "# Simulate streaming the data\n",
    "for sample in transposed_eeg_buffer:\n",
    "    outlet.push_sample(sample)\n",
    "    time.sleep(1 / sample_rate)  # Simulate the real-time sampling rate"
   ]
  },
  {
   "cell_type": "code",
   "execution_count": null,
   "metadata": {},
   "outputs": [],
   "source": []
  }
 ],
 "metadata": {
  "kernelspec": {
   "display_name": "Python 3",
   "language": "python",
   "name": "python3"
  },
  "language_info": {
   "codemirror_mode": {
    "name": "ipython",
    "version": 3
   },
   "file_extension": ".py",
   "mimetype": "text/x-python",
   "name": "python",
   "nbconvert_exporter": "python",
   "pygments_lexer": "ipython3",
   "version": "3.11.2"
  }
 },
 "nbformat": 4,
 "nbformat_minor": 2
}
